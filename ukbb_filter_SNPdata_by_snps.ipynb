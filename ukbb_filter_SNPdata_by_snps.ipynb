{
 "cells": [
  {
   "cell_type": "code",
   "execution_count": 1,
   "metadata": {},
   "outputs": [],
   "source": [
    "import bed_reader as bd\n",
    "import numpy as np, pandas as pd \n",
    "import os, sys, itertools as it\n",
    "import glob"
   ]
  },
  {
   "cell_type": "code",
   "execution_count": 2,
   "metadata": {},
   "outputs": [],
   "source": [
    "snps = ['rs7412']"
   ]
  },
  {
   "cell_type": "code",
   "execution_count": 2,
   "metadata": {},
   "outputs": [],
   "source": [
    "dir_snp = '/media/aa/10TB_2/ukb_download/ukb_snp'"
   ]
  },
  {
   "cell_type": "code",
   "execution_count": 3,
   "metadata": {},
   "outputs": [
    {
     "data": {
      "text/plain": [
       "(['/media/aa/10TB_2/ukb_download/ukb_snp/ukb22418_c10_b0_v2.bim.csv',\n",
       "  '/media/aa/10TB_2/ukb_download/ukb_snp/ukb22418_c11_b0_v2.bim.csv',\n",
       "  '/media/aa/10TB_2/ukb_download/ukb_snp/ukb22418_c12_b0_v2.bim.csv',\n",
       "  '/media/aa/10TB_2/ukb_download/ukb_snp/ukb22418_c13_b0_v2.bim.csv',\n",
       "  '/media/aa/10TB_2/ukb_download/ukb_snp/ukb22418_c14_b0_v2.bim.csv',\n",
       "  '/media/aa/10TB_2/ukb_download/ukb_snp/ukb22418_c15_b0_v2.bim.csv',\n",
       "  '/media/aa/10TB_2/ukb_download/ukb_snp/ukb22418_c16_b0_v2.bim.csv',\n",
       "  '/media/aa/10TB_2/ukb_download/ukb_snp/ukb22418_c17_b0_v2.bim.csv',\n",
       "  '/media/aa/10TB_2/ukb_download/ukb_snp/ukb22418_c18_b0_v2.bim.csv',\n",
       "  '/media/aa/10TB_2/ukb_download/ukb_snp/ukb22418_c19_b0_v2.bim.csv',\n",
       "  '/media/aa/10TB_2/ukb_download/ukb_snp/ukb22418_c1_b0_v2.bim.csv',\n",
       "  '/media/aa/10TB_2/ukb_download/ukb_snp/ukb22418_c20_b0_v2.bim.csv',\n",
       "  '/media/aa/10TB_2/ukb_download/ukb_snp/ukb22418_c21_b0_v2.bim.csv',\n",
       "  '/media/aa/10TB_2/ukb_download/ukb_snp/ukb22418_c22_b0_v2.bim.csv',\n",
       "  '/media/aa/10TB_2/ukb_download/ukb_snp/ukb22418_c2_b0_v2.bim.csv',\n",
       "  '/media/aa/10TB_2/ukb_download/ukb_snp/ukb22418_c3_b0_v2.bim.csv',\n",
       "  '/media/aa/10TB_2/ukb_download/ukb_snp/ukb22418_c4_b0_v2.bim.csv',\n",
       "  '/media/aa/10TB_2/ukb_download/ukb_snp/ukb22418_c5_b0_v2.bim.csv',\n",
       "  '/media/aa/10TB_2/ukb_download/ukb_snp/ukb22418_c6_b0_v2.bim.csv',\n",
       "  '/media/aa/10TB_2/ukb_download/ukb_snp/ukb22418_c7_b0_v2.bim.csv',\n",
       "  '/media/aa/10TB_2/ukb_download/ukb_snp/ukb22418_c8_b0_v2.bim.csv',\n",
       "  '/media/aa/10TB_2/ukb_download/ukb_snp/ukb22418_c9_b0_v2.bim.csv'],\n",
       " 22,\n",
       " ['/media/aa/10TB_2/ukb_download/ukb_snp/ukb22418_c10_b0_v2.bed',\n",
       "  '/media/aa/10TB_2/ukb_download/ukb_snp/ukb22418_c11_b0_v2.bed',\n",
       "  '/media/aa/10TB_2/ukb_download/ukb_snp/ukb22418_c12_b0_v2.bed',\n",
       "  '/media/aa/10TB_2/ukb_download/ukb_snp/ukb22418_c13_b0_v2.bed',\n",
       "  '/media/aa/10TB_2/ukb_download/ukb_snp/ukb22418_c14_b0_v2.bed',\n",
       "  '/media/aa/10TB_2/ukb_download/ukb_snp/ukb22418_c15_b0_v2.bed',\n",
       "  '/media/aa/10TB_2/ukb_download/ukb_snp/ukb22418_c16_b0_v2.bed',\n",
       "  '/media/aa/10TB_2/ukb_download/ukb_snp/ukb22418_c17_b0_v2.bed',\n",
       "  '/media/aa/10TB_2/ukb_download/ukb_snp/ukb22418_c18_b0_v2.bed',\n",
       "  '/media/aa/10TB_2/ukb_download/ukb_snp/ukb22418_c19_b0_v2.bed',\n",
       "  '/media/aa/10TB_2/ukb_download/ukb_snp/ukb22418_c1_b0_v2.bed',\n",
       "  '/media/aa/10TB_2/ukb_download/ukb_snp/ukb22418_c20_b0_v2.bed',\n",
       "  '/media/aa/10TB_2/ukb_download/ukb_snp/ukb22418_c21_b0_v2.bed',\n",
       "  '/media/aa/10TB_2/ukb_download/ukb_snp/ukb22418_c22_b0_v2.bed',\n",
       "  '/media/aa/10TB_2/ukb_download/ukb_snp/ukb22418_c2_b0_v2.bed',\n",
       "  '/media/aa/10TB_2/ukb_download/ukb_snp/ukb22418_c3_b0_v2.bed',\n",
       "  '/media/aa/10TB_2/ukb_download/ukb_snp/ukb22418_c4_b0_v2.bed',\n",
       "  '/media/aa/10TB_2/ukb_download/ukb_snp/ukb22418_c5_b0_v2.bed',\n",
       "  '/media/aa/10TB_2/ukb_download/ukb_snp/ukb22418_c6_b0_v2.bed',\n",
       "  '/media/aa/10TB_2/ukb_download/ukb_snp/ukb22418_c7_b0_v2.bed',\n",
       "  '/media/aa/10TB_2/ukb_download/ukb_snp/ukb22418_c8_b0_v2.bed',\n",
       "  '/media/aa/10TB_2/ukb_download/ukb_snp/ukb22418_c9_b0_v2.bed'],\n",
       " 22)"
      ]
     },
     "execution_count": 3,
     "metadata": {},
     "output_type": "execute_result"
    }
   ],
   "source": [
    "fnames_bim = sorted(glob.glob(os.path.join(dir_snp, '*.bim.csv')))\n",
    "fnames_bed = sorted(glob.glob(os.path.join(dir_snp, '*.bed')))\n",
    "fnames_bim, len(fnames_bim), fnames_bed, len(fnames_bed)"
   ]
  },
  {
   "cell_type": "code",
   "execution_count": 2,
   "metadata": {},
   "outputs": [],
   "source": [
    "from bed_reader import open_bed"
   ]
  },
  {
   "cell_type": "code",
   "execution_count": 3,
   "metadata": {},
   "outputs": [],
   "source": [
    "bed = open_bed('/media/aa/10TB_2/ukb_download/ukb_snp/ukb22418_c6_b0_v2.bed')"
   ]
  },
  {
   "cell_type": "code",
   "execution_count": 4,
   "metadata": {},
   "outputs": [],
   "source": [
    "import numpy as np"
   ]
  },
  {
   "cell_type": "code",
   "execution_count": null,
   "metadata": {},
   "outputs": [],
   "source": [
    "values = bed.read(index=np.s_[:,1:3])\n",
    "values.shape"
   ]
  },
  {
   "cell_type": "code",
   "execution_count": 35,
   "metadata": {
    "scrolled": true
   },
   "outputs": [
    {
     "data": {
      "text/plain": [
       "array([[2., 2.],\n",
       "       [2., 2.],\n",
       "       [1., 1.],\n",
       "       [2., 2.],\n",
       "       [2., 2.],\n",
       "       [2., 2.],\n",
       "       [2., 2.],\n",
       "       [2., 2.],\n",
       "       [2., 2.],\n",
       "       [1., 1.],\n",
       "       [2., 2.],\n",
       "       [2., 2.],\n",
       "       [2., 2.],\n",
       "       [2., 2.],\n",
       "       [2., 2.],\n",
       "       [1., 1.],\n",
       "       [2., 2.],\n",
       "       [2., 2.],\n",
       "       [2., 2.],\n",
       "       [2., 2.],\n",
       "       [2., 2.],\n",
       "       [2., 2.],\n",
       "       [2., 2.],\n",
       "       [2., 2.],\n",
       "       [2., 2.],\n",
       "       [2., 2.],\n",
       "       [2., 2.],\n",
       "       [2., 2.],\n",
       "       [2., 2.],\n",
       "       [2., 2.],\n",
       "       [2., 2.],\n",
       "       [2., 2.],\n",
       "       [2., 2.],\n",
       "       [2., 2.],\n",
       "       [2., 2.],\n",
       "       [2., 2.],\n",
       "       [2., 2.],\n",
       "       [2., 2.],\n",
       "       [2., 2.],\n",
       "       [1., 1.],\n",
       "       [2., 2.],\n",
       "       [2., 2.],\n",
       "       [2., 2.],\n",
       "       [2., 2.],\n",
       "       [2., 2.],\n",
       "       [2., 2.],\n",
       "       [2., 2.],\n",
       "       [2., 2.],\n",
       "       [2., 2.],\n",
       "       [2., 2.],\n",
       "       [2., 2.],\n",
       "       [2., 2.],\n",
       "       [2., 2.],\n",
       "       [2., 2.],\n",
       "       [2., 2.],\n",
       "       [1., 1.],\n",
       "       [1., 1.],\n",
       "       [1., 1.],\n",
       "       [2., 2.],\n",
       "       [2., 2.],\n",
       "       [2., 2.],\n",
       "       [2., 2.],\n",
       "       [2., 2.],\n",
       "       [2., 2.],\n",
       "       [2., 2.],\n",
       "       [2., 2.],\n",
       "       [2., 2.],\n",
       "       [2., 2.],\n",
       "       [2., 2.],\n",
       "       [2., 2.],\n",
       "       [2., 2.],\n",
       "       [2., 2.],\n",
       "       [2., 2.],\n",
       "       [2., 2.],\n",
       "       [2., 2.],\n",
       "       [2., 2.],\n",
       "       [2., 2.],\n",
       "       [2., 2.],\n",
       "       [2., 2.],\n",
       "       [2., 2.],\n",
       "       [2., 2.],\n",
       "       [2., 2.],\n",
       "       [2., 2.],\n",
       "       [1., 1.],\n",
       "       [1., 1.],\n",
       "       [2., 2.],\n",
       "       [2., 2.],\n",
       "       [2., 2.],\n",
       "       [2., 2.],\n",
       "       [2., 2.],\n",
       "       [2., 2.],\n",
       "       [2., 2.],\n",
       "       [2., 2.],\n",
       "       [2., 2.],\n",
       "       [1., 1.],\n",
       "       [2., 2.],\n",
       "       [1., 1.],\n",
       "       [2., 2.],\n",
       "       [2., 2.],\n",
       "       [2., 2.]], dtype=float32)"
      ]
     },
     "execution_count": 35,
     "metadata": {},
     "output_type": "execute_result"
    }
   ],
   "source": [
    "values"
   ]
  },
  {
   "cell_type": "code",
   "execution_count": 26,
   "metadata": {},
   "outputs": [],
   "source": [
    "import itertools as it"
   ]
  },
  {
   "cell_type": "code",
   "execution_count": 39,
   "metadata": {},
   "outputs": [
    {
     "name": "stdout",
     "output_type": "stream",
     "text": [
      "0.0 0.0\n",
      "0.0 1.0\n",
      "0.0 nan\n",
      "1.0 0.0\n",
      "1.0 1.0\n",
      "1.0 2.0\n",
      "1.0 nan\n",
      "2.0 1.0\n",
      "2.0 2.0\n",
      "2.0 nan\n",
      "nan 0.0\n",
      "nan 1.0\n",
      "nan 2.0\n",
      "nan nan\n"
     ]
    }
   ],
   "source": [
    "def k(x):\n",
    "    return str(x[0]) + ' ' + str(x[1])\n",
    "d = {}\n",
    "for i, group in it.groupby(\n",
    "    sorted(values, key=k), key=k):\n",
    "    print(i)\n",
    "    d[i] = len(list(group))"
   ]
  },
  {
   "cell_type": "code",
   "execution_count": 40,
   "metadata": {
    "scrolled": true
   },
   "outputs": [
    {
     "data": {
      "text/plain": [
       "{'0.0 0.0': 1112,\n",
       " '0.0 1.0': 2,\n",
       " '0.0 nan': 14,\n",
       " '1.0 0.0': 3,\n",
       " '1.0 1.0': 44760,\n",
       " '1.0 2.0': 42,\n",
       " '1.0 nan': 29,\n",
       " '2.0 1.0': 28,\n",
       " '2.0 2.0': 441004,\n",
       " '2.0 nan': 980,\n",
       " 'nan 0.0': 24,\n",
       " 'nan 1.0': 32,\n",
       " 'nan 2.0': 341,\n",
       " 'nan nan': 6}"
      ]
     },
     "execution_count": 40,
     "metadata": {},
     "output_type": "execute_result"
    }
   ],
   "source": [
    "d"
   ]
  },
  {
   "cell_type": "code",
   "execution_count": 9,
   "metadata": {},
   "outputs": [],
   "source": [
    "ids = bed.iid"
   ]
  },
  {
   "cell_type": "code",
   "execution_count": 11,
   "metadata": {},
   "outputs": [
    {
     "data": {
      "text/plain": [
       "'4872768'"
      ]
     },
     "execution_count": 11,
     "metadata": {},
     "output_type": "execute_result"
    }
   ],
   "source": [
    "ids[1]"
   ]
  },
  {
   "cell_type": "code",
   "execution_count": null,
   "metadata": {},
   "outputs": [],
   "source": [
    "for each chromosome, compute the pair-wise histogram of SNP frequencies for the 10000 subjects\n",
    "for each c, \n",
    "    for snp rs74315467 in c, \n",
    "        for snp rs12483981 in c, \n",
    "            compute histogram: {\n",
    "                'rs74315467 0, rs12483981 1':20, \n",
    "                'rs74315467 0, rs12483981 2':100, \n",
    "                \n",
    "            }"
   ]
  }
 ],
 "metadata": {
  "kernelspec": {
   "display_name": "Python 3",
   "language": "python",
   "name": "python3"
  },
  "language_info": {
   "codemirror_mode": {
    "name": "ipython",
    "version": 3
   },
   "file_extension": ".py",
   "mimetype": "text/x-python",
   "name": "python",
   "nbconvert_exporter": "python",
   "pygments_lexer": "ipython3",
   "version": "3.9.1 (v3.9.1:1e5d33e9b9, Dec  7 2020, 12:10:52) \n[Clang 6.0 (clang-600.0.57)]"
  },
  "vscode": {
   "interpreter": {
    "hash": "aee8b7b246df8f9039afb4144a1f6fd8d2ca17a180786b69acc140d282b71a49"
   }
  }
 },
 "nbformat": 4,
 "nbformat_minor": 2
}
