{
 "cells": [
  {
   "attachments": {},
   "cell_type": "markdown",
   "metadata": {},
   "source": [
    "Take in a graph of SNP by SNP and use diagonal to build a graph."
   ]
  },
  {
   "cell_type": "code",
   "execution_count": 174,
   "metadata": {},
   "outputs": [],
   "source": [
    "## imports\n",
    "import numpy as np\n",
    "from bed_reader import open_bed\n",
    "import os\n",
    "from IPython.display import SVG\n",
    "from sknetwork.embedding import LouvainNE\n",
    "from sknetwork.visualization import svg_graph, svg_bigraph\n",
    "from networkx.algorithms import bipartite\n",
    "from scipy import sparse\n",
    "from sknetwork.hierarchy import LouvainHierarchy\n",
    "from sknetwork.hierarchy import cut_straight, dasgupta_score, tree_sampling_divergence\n",
    "from sknetwork.visualization import svg_graph, svg_bigraph, svg_dendrogram\n",
    "from sklearn.neighbors import NearestNeighbors\n",
    "import networkx as nx\n",
    "import scipy.stats as stats\n",
    "import pandas as pd\n",
    "from scipy.stats import chi2_contingency\n",
    "from scipy.sparse import diags"
   ]
  },
  {
   "cell_type": "code",
   "execution_count": 175,
   "metadata": {},
   "outputs": [],
   "source": [
    "def get_diagonal(df, width) : # convert SNPxSNP matrix as a result of cramer's to diagonal\n",
    "    mid = df[df.shape(0)]\n",
    "    arr = []\n",
    "    result = np.empty(arr)\n",
    "    for i in df:\n",
    "        for j in df.T:\n",
    "            if abs((i - j)) > width:\n",
    "                result.append(j)\n",
    "\n",
    "    return result"
   ]
  },
  {
   "cell_type": "code",
   "execution_count": 176,
   "metadata": {},
   "outputs": [
    {
     "name": "stdout",
     "output_type": "stream",
     "text": [
      "(488377, 26806)\n",
      "(70, 70)\n"
     ]
    }
   ],
   "source": [
    "## get database workspace\n",
    "file_name = '/Users/rishasurana/Library/CloudStorage/GoogleDrive-rsurana@usc.edu/.shortcut-targets-by-id/1I-Ssaub3M29w33JyrvO7HVv9laffGidc/chromosome_17_bed_bim_fam_data/ukb22418_c13_b0_v2.bed'\n",
    "## read bed and select values\n",
    "bed = open_bed(file_name)\n",
    "print(bed.shape)\n",
    "values = bed.read(index=np.s_[0:70,0:70])\n",
    "print(values.shape)\n",
    "values = np.array(values)"
   ]
  },
  {
   "attachments": {},
   "cell_type": "markdown",
   "metadata": {},
   "source": [
    "SAMPLE build Cramer's correlation matrix\n",
    "note: Do not use, use SNPcorrelation.ipynb"
   ]
  },
  {
   "cell_type": "code",
   "execution_count": 177,
   "metadata": {},
   "outputs": [],
   "source": [
    "def cramers_V(var1,var2) :\n",
    "  crosstab =np.array(pd.crosstab(var1,var2)) # Cross table building\n",
    "  stat = chi2_contingency(crosstab)[0] # Keeping of the test statistic of the Chi2 test\n",
    "  obs = np.sum(crosstab) # Number of observations\n",
    "  mini = min(crosstab.shape)-1 # Take the minimum value between the columns and the rows of the cross table\n",
    "  \n",
    "  return stat/(obs*mini)"
   ]
  },
  {
   "cell_type": "code",
   "execution_count": 178,
   "metadata": {},
   "outputs": [],
   "source": [
    "import warnings ## temporarily hide NaN division warnings\n",
    "warnings.filterwarnings(\"ignore\")\n",
    "\n",
    "rows= []\n",
    "\n",
    "for var1 in values:\n",
    "  col = []\n",
    "  for var2 in values.T:\n",
    "    cramers =cramers_V(var1, var2) # Cramer's V test\n",
    "    col.append(round(cramers,2)) # Keeping of the rounded value of the Cramer's V  \n",
    "  rows.append(col)\n",
    "  \n",
    "cramers_results = np.array(rows)\n",
    "df = pd.DataFrame(cramers_results)"
   ]
  },
  {
   "attachments": {},
   "cell_type": "markdown",
   "metadata": {},
   "source": [
    "Build graph"
   ]
  },
  {
   "cell_type": "code",
   "execution_count": 186,
   "metadata": {},
   "outputs": [
    {
     "data": {
      "image/svg+xml": "<svg xmlns=\"http://www.w3.org/2000/svg\" width=\"440\" height=\"340\">\n<defs><marker id=\"arrow-black\" markerWidth=\"10\" markerHeight=\"10\" refX=\"9\" refY=\"3\" orient=\"auto\">\n<path d=\"M0,0 L0,6 L9,3 z\" fill=\"black\"/></marker></defs>\n<path stroke-width=\"1.0\" stroke=\"black\" d=\"M 353 115 341 97\" marker-end=\"url(#arrow-black)\"/>\n<path stroke-width=\"1.0\" stroke=\"black\" d=\"M 249 153 394 181\" marker-end=\"url(#arrow-black)\"/>\n<path stroke-width=\"1.0\" stroke=\"black\" d=\"M 372 305 252 90\" marker-end=\"url(#arrow-black)\"/>\n<path stroke-width=\"1.0\" stroke=\"black\" d=\"M 372 305 231 185\" marker-end=\"url(#arrow-black)\"/>\n<path stroke-width=\"1.0\" stroke=\"black\" d=\"M 102 31 95 132\" marker-end=\"url(#arrow-black)\"/>\n<path stroke-width=\"1.0\" stroke=\"black\" d=\"M 102 31 109 128\" marker-end=\"url(#arrow-black)\"/>\n<path stroke-width=\"1.0\" stroke=\"black\" d=\"M 323 20 296 64\" marker-end=\"url(#arrow-black)\"/>\n<path stroke-width=\"1.0\" stroke=\"black\" d=\"M 323 20 266 242\" marker-end=\"url(#arrow-black)\"/>\n<path stroke-width=\"1.0\" stroke=\"black\" d=\"M 355 238 129 101\" marker-end=\"url(#arrow-black)\"/>\n<path stroke-width=\"1.0\" stroke=\"black\" d=\"M 62 170 96 264\" marker-end=\"url(#arrow-black)\"/>\n<path stroke-width=\"1.0\" stroke=\"black\" d=\"M 62 170 62 184\" marker-end=\"url(#arrow-black)\"/>\n<path stroke-width=\"1.0\" stroke=\"black\" d=\"M 56 143 38 298\" marker-end=\"url(#arrow-black)\"/>\n<path stroke-width=\"1.0\" stroke=\"black\" d=\"M 56 143 157 140\" marker-end=\"url(#arrow-black)\"/>\n<path stroke-width=\"1.0\" stroke=\"black\" d=\"M 299 161 183 30\" marker-end=\"url(#arrow-black)\"/>\n<path stroke-width=\"1.0\" stroke=\"black\" d=\"M 299 161 120 63\" marker-end=\"url(#arrow-black)\"/>\n<path stroke-width=\"1.0\" stroke=\"black\" d=\"M 335 312 347 302\" marker-end=\"url(#arrow-black)\"/>\n<path stroke-width=\"1.0\" stroke=\"black\" d=\"M 335 312 375 217\" marker-end=\"url(#arrow-black)\"/>\n<path stroke-width=\"1.0\" stroke=\"black\" d=\"M 56 175 170 299\" marker-end=\"url(#arrow-black)\"/>\n<path stroke-width=\"1.0\" stroke=\"black\" d=\"M 56 175 383 75\" marker-end=\"url(#arrow-black)\"/>\n<path stroke-width=\"1.0\" stroke=\"black\" d=\"M 400 182 255 154\" marker-end=\"url(#arrow-black)\"/>\n<path stroke-width=\"1.0\" stroke=\"black\" d=\"M 226 181 367 301\" marker-end=\"url(#arrow-black)\"/>\n<path stroke-width=\"1.0\" stroke=\"black\" d=\"M 226 181 307 34\" marker-end=\"url(#arrow-black)\"/>\n<path stroke-width=\"1.0\" stroke=\"black\" d=\"M 109 134 102 37\" marker-end=\"url(#arrow-black)\"/>\n<path stroke-width=\"1.0\" stroke=\"black\" d=\"M 109 134 79 284\" marker-end=\"url(#arrow-black)\"/>\n<path stroke-width=\"1.0\" stroke=\"black\" d=\"M 249 153 307 159\" marker-end=\"url(#arrow-black)\"/>\n<path stroke-width=\"1.0\" stroke=\"black\" d=\"M 174 304 60 180\" marker-end=\"url(#arrow-black)\"/>\n<path stroke-width=\"1.0\" stroke=\"black\" d=\"M 174 304 235 108\" marker-end=\"url(#arrow-black)\"/>\n<path stroke-width=\"1.0\" stroke=\"black\" d=\"M 352 298 340 308\" marker-end=\"url(#arrow-black)\"/>\n<path stroke-width=\"1.0\" stroke=\"black\" d=\"M 420 196 202 243\" marker-end=\"url(#arrow-black)\"/>\n<path stroke-width=\"1.0\" stroke=\"black\" d=\"M 57 258 92 268\" marker-end=\"url(#arrow-black)\"/>\n<path stroke-width=\"1.0\" stroke=\"black\" d=\"M 139 245 44 301\" marker-end=\"url(#arrow-black)\"/>\n<path stroke-width=\"1.0\" stroke=\"black\" d=\"M 268 154 182 30\" marker-end=\"url(#arrow-black)\"/>\n<path stroke-width=\"1.0\" stroke=\"black\" d=\"M 282 189 255 136\" marker-end=\"url(#arrow-black)\"/>\n<path stroke-width=\"1.0\" stroke=\"black\" d=\"M 282 189 349 293\" marker-end=\"url(#arrow-black)\"/>\n<path stroke-width=\"1.0\" stroke=\"black\" d=\"M 237 102 243 139\" marker-end=\"url(#arrow-black)\"/>\n<path stroke-width=\"1.0\" stroke=\"black\" d=\"M 237 102 176 298\" marker-end=\"url(#arrow-black)\"/>\n<path stroke-width=\"1.0\" stroke=\"black\" d=\"M 313 159 48 133\" marker-end=\"url(#arrow-black)\"/>\n<path stroke-width=\"1.0\" stroke=\"black\" d=\"M 313 159 255 153\" marker-end=\"url(#arrow-black)\"/>\n<path stroke-width=\"1.0\" stroke=\"black\" d=\"M 249 84 374 47\" marker-end=\"url(#arrow-black)\"/>\n<path stroke-width=\"1.0\" stroke=\"black\" d=\"M 265 248 322 26\" marker-end=\"url(#arrow-black)\"/>\n<path stroke-width=\"1.0\" stroke=\"black\" d=\"M 249 84 369 299\" marker-end=\"url(#arrow-black)\"/>\n<path stroke-width=\"1.0\" stroke=\"black\" d=\"M 95 138 102 37\" marker-end=\"url(#arrow-black)\"/>\n<path stroke-width=\"1.0\" stroke=\"black\" d=\"M 293 70 391 51\" marker-end=\"url(#arrow-black)\"/>\n<path stroke-width=\"1.0\" stroke=\"black\" d=\"M 293 70 320 26\" marker-end=\"url(#arrow-black)\"/>\n<path stroke-width=\"1.0\" stroke=\"black\" d=\"M 196 244 414 197\" marker-end=\"url(#arrow-black)\"/>\n<path stroke-width=\"1.0\" stroke=\"black\" d=\"M 98 270 63 260\" marker-end=\"url(#arrow-black)\"/>\n<path stroke-width=\"1.0\" stroke=\"black\" d=\"M 98 270 64 176\" marker-end=\"url(#arrow-black)\"/>\n<path stroke-width=\"1.0\" stroke=\"black\" d=\"M 38 304 133 248\" marker-end=\"url(#arrow-black)\"/>\n<path stroke-width=\"1.0\" stroke=\"black\" d=\"M 38 304 56 149\" marker-end=\"url(#arrow-black)\"/>\n<path stroke-width=\"1.0\" stroke=\"black\" d=\"M 179 25 265 149\" marker-end=\"url(#arrow-black)\"/>\n<path stroke-width=\"1.0\" stroke=\"black\" d=\"M 179 25 295 156\" marker-end=\"url(#arrow-black)\"/>\n<path stroke-width=\"1.0\" stroke=\"black\" d=\"M 352 298 285 194\" marker-end=\"url(#arrow-black)\"/>\n<path stroke-width=\"1.0\" stroke=\"black\" d=\"M 95 138 399 224\" marker-end=\"url(#arrow-black)\"/>\n<path stroke-width=\"1.0\" stroke=\"black\" d=\"M 265 248 279 256\" marker-end=\"url(#arrow-black)\"/>\n<path stroke-width=\"1.0\" stroke=\"black\" d=\"M 124 98 350 235\" marker-end=\"url(#arrow-black)\"/>\n<path stroke-width=\"1.0\" stroke=\"black\" d=\"M 124 98 289 58\" marker-end=\"url(#arrow-black)\"/>\n<path stroke-width=\"1.0\" stroke=\"black\" d=\"M 279 320 152 190\" marker-end=\"url(#arrow-black)\"/>\n<path stroke-width=\"1.0\" stroke=\"black\" d=\"M 274 41 399 57\" marker-end=\"url(#arrow-black)\"/>\n<path stroke-width=\"1.0\" stroke=\"black\" d=\"M 274 41 356 181\" marker-end=\"url(#arrow-black)\"/>\n<path stroke-width=\"1.0\" stroke=\"black\" d=\"M 413 289 312 34\" marker-end=\"url(#arrow-black)\"/>\n<path stroke-width=\"1.0\" stroke=\"black\" d=\"M 413 289 25 38\" marker-end=\"url(#arrow-black)\"/>\n<path stroke-width=\"1.0\" stroke=\"black\" d=\"M 101 312 83 294\" marker-end=\"url(#arrow-black)\"/>\n<path stroke-width=\"1.0\" stroke=\"black\" d=\"M 101 312 146 267\" marker-end=\"url(#arrow-black)\"/>\n<path stroke-width=\"1.0\" stroke=\"black\" d=\"M 231 189 281 254\" marker-end=\"url(#arrow-black)\"/>\n<path stroke-width=\"1.0\" stroke=\"black\" d=\"M 124 178 290 61\" marker-end=\"url(#arrow-black)\"/>\n<path stroke-width=\"1.0\" stroke=\"black\" d=\"M 124 178 239 92\" marker-end=\"url(#arrow-black)\"/>\n<path stroke-width=\"1.0\" stroke=\"black\" d=\"M 212 178 279 66\" marker-end=\"url(#arrow-black)\"/>\n<path stroke-width=\"1.0\" stroke=\"black\" d=\"M 279 320 387 79\" marker-end=\"url(#arrow-black)\"/>\n<path stroke-width=\"1.0\" stroke=\"black\" d=\"M 212 178 405 236\" marker-end=\"url(#arrow-black)\"/>\n<path stroke-width=\"1.0\" stroke=\"black\" d=\"M 107 115 73 284\" marker-end=\"url(#arrow-black)\"/>\n<path stroke-width=\"1.0\" stroke=\"black\" d=\"M 338 92 111 247\" marker-end=\"url(#arrow-black)\"/>\n<path stroke-width=\"1.0\" stroke=\"black\" d=\"M 338 92 350 110\" marker-end=\"url(#arrow-black)\"/>\n<path stroke-width=\"1.0\" stroke=\"black\" d=\"M 210 228 198 261\" marker-end=\"url(#arrow-black)\"/>\n<path stroke-width=\"1.0\" stroke=\"black\" d=\"M 148 185 275 315\" marker-end=\"url(#arrow-black)\"/>\n<path stroke-width=\"1.0\" stroke=\"black\" d=\"M 359 187 277 47\" marker-end=\"url(#arrow-black)\"/>\n<path stroke-width=\"1.0\" stroke=\"black\" d=\"M 20 35 408 286\" marker-end=\"url(#arrow-black)\"/>\n<path stroke-width=\"1.0\" stroke=\"black\" d=\"M 150 263 105 308\" marker-end=\"url(#arrow-black)\"/>\n<path stroke-width=\"1.0\" stroke=\"black\" d=\"M 244 88 129 174\" marker-end=\"url(#arrow-black)\"/>\n<path stroke-width=\"1.0\" stroke=\"black\" d=\"M 411 238 218 180\" marker-end=\"url(#arrow-black)\"/>\n<path stroke-width=\"1.0\" stroke=\"black\" d=\"M 72 290 106 121\" marker-end=\"url(#arrow-black)\"/>\n<path stroke-width=\"1.0\" stroke=\"black\" d=\"M 107 115 214 221\" marker-end=\"url(#arrow-black)\"/>\n<path stroke-width=\"1.0\" stroke=\"black\" d=\"M 397 50 299 69\" marker-end=\"url(#arrow-black)\"/>\n<path stroke-width=\"1.0\" stroke=\"black\" d=\"M 196 267 208 234\" marker-end=\"url(#arrow-black)\"/>\n<path stroke-width=\"1.0\" stroke=\"black\" d=\"M 106 250 333 95\" marker-end=\"url(#arrow-black)\"/>\n<path stroke-width=\"1.0\" stroke=\"black\" d=\"M 62 190 62 176\" marker-end=\"url(#arrow-black)\"/>\n<path stroke-width=\"1.0\" stroke=\"black\" d=\"M 62 190 276 64\" marker-end=\"url(#arrow-black)\"/>\n<path stroke-width=\"1.0\" stroke=\"black\" d=\"M 163 140 62 143\" marker-end=\"url(#arrow-black)\"/>\n<path stroke-width=\"1.0\" stroke=\"black\" d=\"M 163 140 216 220\" marker-end=\"url(#arrow-black)\"/>\n<path stroke-width=\"1.0\" stroke=\"black\" d=\"M 114 60 293 158\" marker-end=\"url(#arrow-black)\"/>\n<path stroke-width=\"1.0\" stroke=\"black\" d=\"M 114 60 106 244\" marker-end=\"url(#arrow-black)\"/>\n<path stroke-width=\"1.0\" stroke=\"black\" d=\"M 377 211 337 306\" marker-end=\"url(#arrow-black)\"/>\n<path stroke-width=\"1.0\" stroke=\"black\" d=\"M 377 211 202 265\" marker-end=\"url(#arrow-black)\"/>\n<path stroke-width=\"1.0\" stroke=\"black\" d=\"M 389 73 62 173\" marker-end=\"url(#arrow-black)\"/>\n<path stroke-width=\"1.0\" stroke=\"black\" d=\"M 389 73 281 314\" marker-end=\"url(#arrow-black)\"/>\n<path stroke-width=\"1.0\" stroke=\"black\" d=\"M 405 57 280 41\" marker-end=\"url(#arrow-black)\"/>\n<path stroke-width=\"1.0\" stroke=\"black\" d=\"M 196 267 371 213\" marker-end=\"url(#arrow-black)\"/>\n<path stroke-width=\"1.0\" stroke=\"black\" d=\"M 310 28 229 175\" marker-end=\"url(#arrow-black)\"/>\n<path stroke-width=\"1.0\" stroke=\"black\" d=\"M 78 290 108 140\" marker-end=\"url(#arrow-black)\"/>\n<path stroke-width=\"1.0\" stroke=\"black\" d=\"M 78 290 96 308\" marker-end=\"url(#arrow-black)\"/>\n<path stroke-width=\"1.0\" stroke=\"black\" d=\"M 285 259 271 251\" marker-end=\"url(#arrow-black)\"/>\n<path stroke-width=\"1.0\" stroke=\"black\" d=\"M 285 259 235 194\" marker-end=\"url(#arrow-black)\"/>\n<path stroke-width=\"1.0\" stroke=\"black\" d=\"M 295 57 130 97\" marker-end=\"url(#arrow-black)\"/>\n<path stroke-width=\"1.0\" stroke=\"black\" d=\"M 295 57 129 174\" marker-end=\"url(#arrow-black)\"/>\n<path stroke-width=\"1.0\" stroke=\"black\" d=\"M 282 61 68 187\" marker-end=\"url(#arrow-black)\"/>\n<path stroke-width=\"1.0\" stroke=\"black\" d=\"M 282 61 215 173\" marker-end=\"url(#arrow-black)\"/>\n<path stroke-width=\"1.0\" stroke=\"black\" d=\"M 219 225 166 145\" marker-end=\"url(#arrow-black)\"/>\n<path stroke-width=\"1.0\" stroke=\"black\" d=\"M 219 225 112 119\" marker-end=\"url(#arrow-black)\"/>\n<path stroke-width=\"1.0\" stroke=\"black\" d=\"M 106 250 114 66\" marker-end=\"url(#arrow-black)\"/>\n<path stroke-width=\"1.0\" stroke=\"black\" d=\"M 310 28 411 283\" marker-end=\"url(#arrow-black)\"/>\n<path stroke-width=\"1.0\" stroke=\"black\" d=\"M 405 225 101 139\" marker-end=\"url(#arrow-black)\"/>\n<circle cx=\"353\" cy=\"115\" r=\"7.0\" style=\"fill:gray;stroke:black;stroke-width:1.0\"/>\n<circle cx=\"72\" cy=\"290\" r=\"7.0\" style=\"fill:gray;stroke:black;stroke-width:1.0\"/>\n<circle cx=\"411\" cy=\"238\" r=\"7.0\" style=\"fill:gray;stroke:black;stroke-width:1.0\"/>\n<circle cx=\"244\" cy=\"88\" r=\"7.0\" style=\"fill:gray;stroke:black;stroke-width:1.0\"/>\n<circle cx=\"138\" cy=\"233\" r=\"7.0\" style=\"fill:gray;stroke:black;stroke-width:1.0\"/>\n<circle cx=\"150\" cy=\"263\" r=\"7.0\" style=\"fill:gray;stroke:black;stroke-width:1.0\"/>\n<circle cx=\"20\" cy=\"35\" r=\"7.0\" style=\"fill:gray;stroke:black;stroke-width:1.0\"/>\n<circle cx=\"359\" cy=\"187\" r=\"7.0\" style=\"fill:gray;stroke:black;stroke-width:1.0\"/>\n<circle cx=\"148\" cy=\"185\" r=\"7.0\" style=\"fill:gray;stroke:black;stroke-width:1.0\"/>\n<circle cx=\"210\" cy=\"228\" r=\"7.0\" style=\"fill:gray;stroke:black;stroke-width:1.0\"/>\n<circle cx=\"338\" cy=\"92\" r=\"7.0\" style=\"fill:gray;stroke:black;stroke-width:1.0\"/>\n<circle cx=\"107\" cy=\"115\" r=\"7.0\" style=\"fill:gray;stroke:black;stroke-width:1.0\"/>\n<circle cx=\"212\" cy=\"178\" r=\"7.0\" style=\"fill:gray;stroke:black;stroke-width:1.0\"/>\n<circle cx=\"124\" cy=\"178\" r=\"7.0\" style=\"fill:gray;stroke:black;stroke-width:1.0\"/>\n<circle cx=\"231\" cy=\"189\" r=\"7.0\" style=\"fill:gray;stroke:black;stroke-width:1.0\"/>\n<circle cx=\"101\" cy=\"312\" r=\"7.0\" style=\"fill:gray;stroke:black;stroke-width:1.0\"/>\n<circle cx=\"413\" cy=\"289\" r=\"7.0\" style=\"fill:gray;stroke:black;stroke-width:1.0\"/>\n<circle cx=\"274\" cy=\"41\" r=\"7.0\" style=\"fill:gray;stroke:black;stroke-width:1.0\"/>\n<circle cx=\"279\" cy=\"320\" r=\"7.0\" style=\"fill:gray;stroke:black;stroke-width:1.0\"/>\n<circle cx=\"196\" cy=\"267\" r=\"7.0\" style=\"fill:gray;stroke:black;stroke-width:1.0\"/>\n<circle cx=\"106\" cy=\"250\" r=\"7.0\" style=\"fill:gray;stroke:black;stroke-width:1.0\"/>\n<circle cx=\"219\" cy=\"225\" r=\"7.0\" style=\"fill:gray;stroke:black;stroke-width:1.0\"/>\n<circle cx=\"282\" cy=\"61\" r=\"7.0\" style=\"fill:gray;stroke:black;stroke-width:1.0\"/>\n<circle cx=\"295\" cy=\"57\" r=\"7.0\" style=\"fill:gray;stroke:black;stroke-width:1.0\"/>\n<circle cx=\"285\" cy=\"259\" r=\"7.0\" style=\"fill:gray;stroke:black;stroke-width:1.0\"/>\n<circle cx=\"78\" cy=\"290\" r=\"7.0\" style=\"fill:gray;stroke:black;stroke-width:1.0\"/>\n<circle cx=\"310\" cy=\"28\" r=\"7.0\" style=\"fill:gray;stroke:black;stroke-width:1.0\"/>\n<circle cx=\"405\" cy=\"57\" r=\"7.0\" style=\"fill:gray;stroke:black;stroke-width:1.0\"/>\n<circle cx=\"389\" cy=\"73\" r=\"7.0\" style=\"fill:gray;stroke:black;stroke-width:1.0\"/>\n<circle cx=\"377\" cy=\"211\" r=\"7.0\" style=\"fill:gray;stroke:black;stroke-width:1.0\"/>\n<circle cx=\"114\" cy=\"60\" r=\"7.0\" style=\"fill:gray;stroke:black;stroke-width:1.0\"/>\n<circle cx=\"163\" cy=\"140\" r=\"7.0\" style=\"fill:gray;stroke:black;stroke-width:1.0\"/>\n<circle cx=\"62\" cy=\"190\" r=\"7.0\" style=\"fill:gray;stroke:black;stroke-width:1.0\"/>\n<circle cx=\"124\" cy=\"98\" r=\"7.0\" style=\"fill:gray;stroke:black;stroke-width:1.0\"/>\n<circle cx=\"265\" cy=\"248\" r=\"7.0\" style=\"fill:gray;stroke:black;stroke-width:1.0\"/>\n<circle cx=\"109\" cy=\"134\" r=\"7.0\" style=\"fill:gray;stroke:black;stroke-width:1.0\"/>\n<circle cx=\"226\" cy=\"181\" r=\"7.0\" style=\"fill:gray;stroke:black;stroke-width:1.0\"/>\n<circle cx=\"400\" cy=\"182\" r=\"7.0\" style=\"fill:gray;stroke:black;stroke-width:1.0\"/>\n<circle cx=\"56\" cy=\"175\" r=\"7.0\" style=\"fill:gray;stroke:black;stroke-width:1.0\"/>\n<circle cx=\"335\" cy=\"312\" r=\"7.0\" style=\"fill:gray;stroke:black;stroke-width:1.0\"/>\n<circle cx=\"299\" cy=\"161\" r=\"7.0\" style=\"fill:gray;stroke:black;stroke-width:1.0\"/>\n<circle cx=\"56\" cy=\"143\" r=\"7.0\" style=\"fill:gray;stroke:black;stroke-width:1.0\"/>\n<circle cx=\"62\" cy=\"170\" r=\"7.0\" style=\"fill:gray;stroke:black;stroke-width:1.0\"/>\n<circle cx=\"355\" cy=\"238\" r=\"7.0\" style=\"fill:gray;stroke:black;stroke-width:1.0\"/>\n<circle cx=\"323\" cy=\"20\" r=\"7.0\" style=\"fill:gray;stroke:black;stroke-width:1.0\"/>\n<circle cx=\"102\" cy=\"31\" r=\"7.0\" style=\"fill:gray;stroke:black;stroke-width:1.0\"/>\n<circle cx=\"372\" cy=\"305\" r=\"7.0\" style=\"fill:gray;stroke:black;stroke-width:1.0\"/>\n<circle cx=\"249\" cy=\"153\" r=\"7.0\" style=\"fill:gray;stroke:black;stroke-width:1.0\"/>\n<circle cx=\"174\" cy=\"304\" r=\"7.0\" style=\"fill:gray;stroke:black;stroke-width:1.0\"/>\n<circle cx=\"352\" cy=\"298\" r=\"7.0\" style=\"fill:gray;stroke:black;stroke-width:1.0\"/>\n<circle cx=\"179\" cy=\"25\" r=\"7.0\" style=\"fill:gray;stroke:black;stroke-width:1.0\"/>\n<circle cx=\"38\" cy=\"304\" r=\"7.0\" style=\"fill:gray;stroke:black;stroke-width:1.0\"/>\n<circle cx=\"98\" cy=\"270\" r=\"7.0\" style=\"fill:gray;stroke:black;stroke-width:1.0\"/>\n<circle cx=\"196\" cy=\"244\" r=\"7.0\" style=\"fill:gray;stroke:black;stroke-width:1.0\"/>\n<circle cx=\"293\" cy=\"70\" r=\"7.0\" style=\"fill:gray;stroke:black;stroke-width:1.0\"/>\n<circle cx=\"95\" cy=\"138\" r=\"7.0\" style=\"fill:gray;stroke:black;stroke-width:1.0\"/>\n<circle cx=\"249\" cy=\"84\" r=\"7.0\" style=\"fill:gray;stroke:black;stroke-width:1.0\"/>\n<circle cx=\"313\" cy=\"159\" r=\"7.0\" style=\"fill:gray;stroke:black;stroke-width:1.0\"/>\n<circle cx=\"237\" cy=\"102\" r=\"7.0\" style=\"fill:gray;stroke:black;stroke-width:1.0\"/>\n<circle cx=\"282\" cy=\"189\" r=\"7.0\" style=\"fill:gray;stroke:black;stroke-width:1.0\"/>\n<circle cx=\"268\" cy=\"154\" r=\"7.0\" style=\"fill:gray;stroke:black;stroke-width:1.0\"/>\n<circle cx=\"139\" cy=\"245\" r=\"7.0\" style=\"fill:gray;stroke:black;stroke-width:1.0\"/>\n<circle cx=\"57\" cy=\"258\" r=\"7.0\" style=\"fill:gray;stroke:black;stroke-width:1.0\"/>\n<circle cx=\"420\" cy=\"196\" r=\"7.0\" style=\"fill:gray;stroke:black;stroke-width:1.0\"/>\n<circle cx=\"397\" cy=\"50\" r=\"7.0\" style=\"fill:gray;stroke:black;stroke-width:1.0\"/>\n<circle cx=\"405\" cy=\"225\" r=\"7.0\" style=\"fill:gray;stroke:black;stroke-width:1.0\"/>\n<circle cx=\"380\" cy=\"45\" r=\"7.0\" style=\"fill:gray;stroke:black;stroke-width:1.0\"/>\n<circle cx=\"42\" cy=\"133\" r=\"7.0\" style=\"fill:gray;stroke:black;stroke-width:1.0\"/>\n<circle cx=\"244\" cy=\"145\" r=\"7.0\" style=\"fill:gray;stroke:black;stroke-width:1.0\"/>\n<circle cx=\"252\" cy=\"130\" r=\"7.0\" style=\"fill:gray;stroke:black;stroke-width:1.0\"/>\n</svg>",
      "text/plain": [
       "<IPython.core.display.SVG object>"
      ]
     },
     "execution_count": 186,
     "metadata": {},
     "output_type": "execute_result"
    }
   ],
   "source": [
    "# build graph\n",
    "\n",
    "offset = 10\n",
    "\n",
    "dfMatrix = sparse.csr_matrix(df) # convert data frame to a sparse matrix\n",
    "\n",
    "diagonals = dfMatrix.diagonal(offset) # get x diagonal of matrix\n",
    "\n",
    "diagArray = diags(diagonals, offset).toarray() # convert diagonal into a square matrix\n",
    "\n",
    "sparseArrayMatrix = sparse.csr_matrix(diagArray) # convert diagonal to compressed sparse row matrix    \n",
    "\n",
    "G = nx.Graph(sparseArrayMatrix) # create graph from sparse data\n",
    "\n",
    "adjacency = nx.adjacency_matrix(G) # create Adjacency matrix\n",
    "\n",
    "adjacencyMatrix = sparse.csr_matrix(adjacency) # convert back to sparse row matrix form\n",
    "\n",
    "## train classifier and build graph\n",
    "louvain = LouvainNE(2)\n",
    "embedding = louvain.fit_transform(adjacencyMatrix)\n",
    "image = svg_graph(adjacencyMatrix, position=embedding)\n",
    "SVG(image)"
   ]
  }
 ],
 "metadata": {
  "kernelspec": {
   "display_name": "Python 3",
   "language": "python",
   "name": "python3"
  },
  "language_info": {
   "codemirror_mode": {
    "name": "ipython",
    "version": 3
   },
   "file_extension": ".py",
   "mimetype": "text/x-python",
   "name": "python",
   "nbconvert_exporter": "python",
   "pygments_lexer": "ipython3",
   "version": "3.9.1"
  },
  "orig_nbformat": 4,
  "vscode": {
   "interpreter": {
    "hash": "aee8b7b246df8f9039afb4144a1f6fd8d2ca17a180786b69acc140d282b71a49"
   }
  }
 },
 "nbformat": 4,
 "nbformat_minor": 2
}
