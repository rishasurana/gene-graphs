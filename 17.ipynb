{
 "cells": [
  {
   "cell_type": "code",
   "execution_count": 1,
   "metadata": {},
   "outputs": [
    {
     "name": "stdout",
     "output_type": "stream",
     "text": [
      "Defaulting to user installation because normal site-packages is not writeable\n",
      "Requirement already satisfied: scikit-network in /Users/rishasurana/Library/Python/3.9/lib/python/site-packages (0.28.3)\n",
      "Requirement already satisfied: numpy>=1.22.0 in /Users/rishasurana/Library/Python/3.9/lib/python/site-packages (from scikit-network) (1.23.4)\n",
      "Requirement already satisfied: scipy>=1.7.3 in /Users/rishasurana/Library/Python/3.9/lib/python/site-packages (from scikit-network) (1.9.3)\n",
      "Note: you may need to restart the kernel to use updated packages.\n"
     ]
    }
   ],
   "source": [
    "pip install scikit-network"
   ]
  },
  {
   "cell_type": "code",
   "execution_count": 2,
   "metadata": {},
   "outputs": [
    {
     "name": "stdout",
     "output_type": "stream",
     "text": [
      "[[ 1.  0. nan  0.]\n",
      " [ 2.  0. nan  2.]\n",
      " [ 0.  1.  2.  0.]]\n"
     ]
    }
   ],
   "source": [
    "# test bedreader\n",
    "import numpy as np\n",
    "from bed_reader import open_bed, sample_file\n",
    "\n",
    "file_name = sample_file(\"small.bed\")\n",
    "bed = open_bed(file_name)\n",
    "val = bed.read()\n",
    "print(val)\n",
    "\n",
    "del bed"
   ]
  },
  {
   "cell_type": "code",
   "execution_count": 3,
   "metadata": {},
   "outputs": [],
   "source": [
    "import numpy as np\n",
    "from bed_reader import open_bed\n",
    "import os\n"
   ]
  },
  {
   "cell_type": "code",
   "execution_count": 4,
   "metadata": {},
   "outputs": [
    {
     "name": "stdout",
     "output_type": "stream",
     "text": [
      "True\n"
     ]
    }
   ],
   "source": [
    "file_name = 'test_beds/ukb22418_c13_b0_v2.bed'\n",
    "print(os.path.isfile(file_name))\n",
    "bed = open_bed(file_name)"
   ]
  },
  {
   "cell_type": "code",
   "execution_count": 5,
   "metadata": {},
   "outputs": [
    {
     "name": "stdout",
     "output_type": "stream",
     "text": [
      "/Users/rishasurana/gene-graphs\n"
     ]
    }
   ],
   "source": [
    "print(os.getcwd())"
   ]
  },
  {
   "cell_type": "code",
   "execution_count": 6,
   "metadata": {},
   "outputs": [
    {
     "data": {
      "text/plain": [
       "array([[0., 2.],\n",
       "       [0., 2.],\n",
       "       [0., 2.],\n",
       "       ...,\n",
       "       [0., 1.],\n",
       "       [0., 1.],\n",
       "       [0., 2.]], dtype=float32)"
      ]
     },
     "execution_count": 6,
     "metadata": {},
     "output_type": "execute_result"
    }
   ],
   "source": [
    "values = bed.read(index=np.s_[:,1:3])\n",
    "values.shape\n",
    "values"
   ]
  },
  {
   "cell_type": "code",
   "execution_count": 7,
   "metadata": {},
   "outputs": [],
   "source": [
    "from IPython.display import SVG\n",
    "from sknetwork.embedding import LouvainNE\n",
    "from sknetwork.visualization import svg_graph, svg_bigraph"
   ]
  },
  {
   "cell_type": "code",
   "execution_count": 8,
   "metadata": {},
   "outputs": [
    {
     "data": {
      "image/svg+xml": "<svg xmlns=\"http://www.w3.org/2000/svg\" width=\"440\" height=\"340\">\n<path stroke-width=\"1\" stroke=\"black\" d=\"M 419 93 416 92\"/>\n<path stroke-width=\"1\" stroke=\"black\" d=\"M 179 320 139 256\"/>\n<path stroke-width=\"1\" stroke=\"black\" d=\"M 183 314 183 314\"/>\n<path stroke-width=\"1\" stroke=\"black\" d=\"M 183 314 179 320\"/>\n<path stroke-width=\"1\" stroke=\"black\" d=\"M 183 314 139 256\"/>\n<path stroke-width=\"1\" stroke=\"black\" d=\"M 382 150 382 150\"/>\n<path stroke-width=\"1\" stroke=\"black\" d=\"M 382 150 407 51\"/>\n<path stroke-width=\"1\" stroke=\"black\" d=\"M 179 320 414 125\"/>\n<path stroke-width=\"1\" stroke=\"black\" d=\"M 179 320 183 314\"/>\n<path stroke-width=\"1\" stroke=\"black\" d=\"M 179 320 179 320\"/>\n<path stroke-width=\"1\" stroke=\"black\" d=\"M 179 320 407 51\"/>\n<path stroke-width=\"1\" stroke=\"black\" d=\"M 139 256 414 125\"/>\n<path stroke-width=\"1\" stroke=\"black\" d=\"M 139 256 139 256\"/>\n<path stroke-width=\"1\" stroke=\"black\" d=\"M 139 256 407 51\"/>\n<path stroke-width=\"1\" stroke=\"black\" d=\"M 382 150 183 314\"/>\n<path stroke-width=\"1\" stroke=\"black\" d=\"M 382 150 382 150\"/>\n<path stroke-width=\"1\" stroke=\"black\" d=\"M 179 320 179 320\"/>\n<path stroke-width=\"1\" stroke=\"black\" d=\"M 179 320 183 314\"/>\n<path stroke-width=\"1\" stroke=\"black\" d=\"M 183 314 407 51\"/>\n<path stroke-width=\"1\" stroke=\"black\" d=\"M 183 314 407 51\"/>\n<path stroke-width=\"1\" stroke=\"black\" d=\"M 416 92 419 93\"/>\n<path stroke-width=\"1\" stroke=\"black\" d=\"M 416 92 416 92\"/>\n<path stroke-width=\"1\" stroke=\"black\" d=\"M 407 51 407 51\"/>\n<path stroke-width=\"1\" stroke=\"black\" d=\"M 407 51 407 51\"/>\n<path stroke-width=\"1\" stroke=\"black\" d=\"M 419 93 419 93\"/>\n<path stroke-width=\"1\" stroke=\"black\" d=\"M 419 93 416 92\"/>\n<path stroke-width=\"1\" stroke=\"black\" d=\"M 419 93 407 51\"/>\n<path stroke-width=\"1\" stroke=\"black\" d=\"M 382 150 407 51\"/>\n<path stroke-width=\"1\" stroke=\"black\" d=\"M 407 51 407 51\"/>\n<path stroke-width=\"1\" stroke=\"black\" d=\"M 416 92 419 93\"/>\n<path stroke-width=\"1\" stroke=\"black\" d=\"M 416 92 416 92\"/>\n<path stroke-width=\"1\" stroke=\"black\" d=\"M 407 51 407 51\"/>\n<path stroke-width=\"1\" stroke=\"black\" d=\"M 407 51 407 51\"/>\n<path stroke-width=\"1\" stroke=\"black\" d=\"M 183 314 183 314\"/>\n<path stroke-width=\"1\" stroke=\"black\" d=\"M 183 314 179 320\"/>\n<path stroke-width=\"1\" stroke=\"black\" d=\"M 183 314 382 150\"/>\n<path stroke-width=\"1\" stroke=\"black\" d=\"M 407 51 407 51\"/>\n<path stroke-width=\"1\" stroke=\"black\" d=\"M 24 20 24 20\"/>\n<path stroke-width=\"1\" stroke=\"black\" d=\"M 382 150 407 51\"/>\n<path stroke-width=\"1\" stroke=\"black\" d=\"M 401 37 401 37\"/>\n<path stroke-width=\"1\" stroke=\"black\" d=\"M 407 51 401 37\"/>\n<path stroke-width=\"1\" stroke=\"black\" d=\"M 407 51 414 125\"/>\n<path stroke-width=\"1\" stroke=\"black\" d=\"M 407 51 420 126\"/>\n<path stroke-width=\"1\" stroke=\"black\" d=\"M 407 51 407 51\"/>\n<path stroke-width=\"1\" stroke=\"black\" d=\"M 407 51 407 51\"/>\n<path stroke-width=\"1\" stroke=\"black\" d=\"M 407 51 407 51\"/>\n<path stroke-width=\"1\" stroke=\"black\" d=\"M 407 51 419 93\"/>\n<path stroke-width=\"1\" stroke=\"black\" d=\"M 407 51 407 51\"/>\n<path stroke-width=\"1\" stroke=\"black\" d=\"M 407 51 407 51\"/>\n<path stroke-width=\"1\" stroke=\"black\" d=\"M 407 51 183 314\"/>\n<path stroke-width=\"1\" stroke=\"black\" d=\"M 407 51 382 150\"/>\n<path stroke-width=\"1\" stroke=\"black\" d=\"M 407 51 179 320\"/>\n<path stroke-width=\"1\" stroke=\"black\" d=\"M 407 51 139 256\"/>\n<path stroke-width=\"1\" stroke=\"black\" d=\"M 407 51 382 150\"/>\n<path stroke-width=\"1\" stroke=\"black\" d=\"M 407 51 401 37\"/>\n<path stroke-width=\"1\" stroke=\"black\" d=\"M 407 51 407 51\"/>\n<path stroke-width=\"1\" stroke=\"black\" d=\"M 407 51 139 256\"/>\n<path stroke-width=\"1\" stroke=\"black\" d=\"M 407 51 401 37\"/>\n<path stroke-width=\"1\" stroke=\"black\" d=\"M 407 51 382 150\"/>\n<path stroke-width=\"1\" stroke=\"black\" d=\"M 401 37 407 51\"/>\n<path stroke-width=\"1\" stroke=\"black\" d=\"M 401 37 407 51\"/>\n<path stroke-width=\"1\" stroke=\"black\" d=\"M 139 256 419 93\"/>\n<path stroke-width=\"1\" stroke=\"black\" d=\"M 139 256 179 320\"/>\n<path stroke-width=\"1\" stroke=\"black\" d=\"M 139 256 183 314\"/>\n<path stroke-width=\"1\" stroke=\"black\" d=\"M 139 256 139 256\"/>\n<path stroke-width=\"1\" stroke=\"black\" d=\"M 139 256 407 51\"/>\n<path stroke-width=\"1\" stroke=\"black\" d=\"M 401 37 416 92\"/>\n<path stroke-width=\"1\" stroke=\"black\" d=\"M 139 256 407 51\"/>\n<path stroke-width=\"1\" stroke=\"black\" d=\"M 407 51 401 37\"/>\n<path stroke-width=\"1\" stroke=\"black\" d=\"M 407 51 407 51\"/>\n<path stroke-width=\"1\" stroke=\"black\" d=\"M 407 51 407 51\"/>\n<path stroke-width=\"1\" stroke=\"black\" d=\"M 407 51 407 51\"/>\n<path stroke-width=\"1\" stroke=\"black\" d=\"M 407 51 407 51\"/>\n<path stroke-width=\"1\" stroke=\"black\" d=\"M 407 51 407 51\"/>\n<path stroke-width=\"1\" stroke=\"black\" d=\"M 407 51 183 314\"/>\n<path stroke-width=\"1\" stroke=\"black\" d=\"M 407 51 414 125\"/>\n<path stroke-width=\"1\" stroke=\"black\" d=\"M 24 20 24 20\"/>\n<path stroke-width=\"1\" stroke=\"black\" d=\"M 407 51 407 51\"/>\n<path stroke-width=\"1\" stroke=\"black\" d=\"M 407 51 407 51\"/>\n<path stroke-width=\"1\" stroke=\"black\" d=\"M 416 92 416 92\"/>\n<path stroke-width=\"1\" stroke=\"black\" d=\"M 416 92 419 93\"/>\n<path stroke-width=\"1\" stroke=\"black\" d=\"M 416 92 416 92\"/>\n<path stroke-width=\"1\" stroke=\"black\" d=\"M 416 92 401 37\"/>\n<path stroke-width=\"1\" stroke=\"black\" d=\"M 414 125 419 93\"/>\n<path stroke-width=\"1\" stroke=\"black\" d=\"M 414 125 416 92\"/>\n<path stroke-width=\"1\" stroke=\"black\" d=\"M 414 125 420 126\"/>\n<path stroke-width=\"1\" stroke=\"black\" d=\"M 414 125 414 125\"/>\n<path stroke-width=\"1\" stroke=\"black\" d=\"M 414 125 401 37\"/>\n<path stroke-width=\"1\" stroke=\"black\" d=\"M 414 125 414 125\"/>\n<path stroke-width=\"1\" stroke=\"black\" d=\"M 414 125 420 126\"/>\n<path stroke-width=\"1\" stroke=\"black\" d=\"M 414 125 179 320\"/>\n<path stroke-width=\"1\" stroke=\"black\" d=\"M 414 125 139 256\"/>\n<path stroke-width=\"1\" stroke=\"black\" d=\"M 414 125 407 51\"/>\n<path stroke-width=\"1\" stroke=\"black\" d=\"M 420 126 419 93\"/>\n<path stroke-width=\"1\" stroke=\"black\" d=\"M 416 92 420 126\"/>\n<path stroke-width=\"1\" stroke=\"black\" d=\"M 416 92 414 125\"/>\n<path stroke-width=\"1\" stroke=\"black\" d=\"M 416 92 420 126\"/>\n<path stroke-width=\"1\" stroke=\"black\" d=\"M 416 92 414 125\"/>\n<path stroke-width=\"1\" stroke=\"black\" d=\"M 419 93 414 125\"/>\n<path stroke-width=\"1\" stroke=\"black\" d=\"M 419 93 420 126\"/>\n<path stroke-width=\"1\" stroke=\"black\" d=\"M 419 93 20 83\"/>\n<path stroke-width=\"1\" stroke=\"black\" d=\"M 419 93 24 20\"/>\n<path stroke-width=\"1\" stroke=\"black\" d=\"M 419 93 24 20\"/>\n<path stroke-width=\"1\" stroke=\"black\" d=\"M 419 93 414 125\"/>\n<path stroke-width=\"1\" stroke=\"black\" d=\"M 419 93 401 37\"/>\n<path stroke-width=\"1\" stroke=\"black\" d=\"M 420 126 416 92\"/>\n<path stroke-width=\"1\" stroke=\"black\" d=\"M 419 93 20 83\"/>\n<path stroke-width=\"1\" stroke=\"black\" d=\"M 419 93 420 126\"/>\n<path stroke-width=\"1\" stroke=\"black\" d=\"M 419 93 420 126\"/>\n<path stroke-width=\"1\" stroke=\"black\" d=\"M 419 93 416 92\"/>\n<path stroke-width=\"1\" stroke=\"black\" d=\"M 419 93 419 93\"/>\n<path stroke-width=\"1\" stroke=\"black\" d=\"M 419 93 416 92\"/>\n<path stroke-width=\"1\" stroke=\"black\" d=\"M 419 93 139 256\"/>\n<path stroke-width=\"1\" stroke=\"black\" d=\"M 416 92 419 93\"/>\n<path stroke-width=\"1\" stroke=\"black\" d=\"M 419 93 419 93\"/>\n<path stroke-width=\"1\" stroke=\"black\" d=\"M 420 126 414 125\"/>\n<path stroke-width=\"1\" stroke=\"black\" d=\"M 420 126 414 125\"/>\n<path stroke-width=\"1\" stroke=\"black\" d=\"M 420 126 420 126\"/>\n<path stroke-width=\"1\" stroke=\"black\" d=\"M 401 37 407 51\"/>\n<path stroke-width=\"1\" stroke=\"black\" d=\"M 414 125 414 125\"/>\n<path stroke-width=\"1\" stroke=\"black\" d=\"M 414 125 407 51\"/>\n<path stroke-width=\"1\" stroke=\"black\" d=\"M 20 83 419 93\"/>\n<path stroke-width=\"1\" stroke=\"black\" d=\"M 20 83 20 83\"/>\n<path stroke-width=\"1\" stroke=\"black\" d=\"M 20 83 24 20\"/>\n<path stroke-width=\"1\" stroke=\"black\" d=\"M 419 93 419 93\"/>\n<path stroke-width=\"1\" stroke=\"black\" d=\"M 401 37 407 51\"/>\n<path stroke-width=\"1\" stroke=\"black\" d=\"M 420 126 419 93\"/>\n<path stroke-width=\"1\" stroke=\"black\" d=\"M 420 126 419 93\"/>\n<path stroke-width=\"1\" stroke=\"black\" d=\"M 420 126 416 92\"/>\n<path stroke-width=\"1\" stroke=\"black\" d=\"M 420 126 414 125\"/>\n<path stroke-width=\"1\" stroke=\"black\" d=\"M 420 126 420 126\"/>\n<path stroke-width=\"1\" stroke=\"black\" d=\"M 420 126 407 51\"/>\n<path stroke-width=\"1\" stroke=\"black\" d=\"M 407 51 407 51\"/>\n<path stroke-width=\"1\" stroke=\"black\" d=\"M 407 51 407 51\"/>\n<path stroke-width=\"1\" stroke=\"black\" d=\"M 420 126 420 126\"/>\n<path stroke-width=\"1\" stroke=\"black\" d=\"M 407 51 139 256\"/>\n<path stroke-width=\"1\" stroke=\"black\" d=\"M 401 37 401 37\"/>\n<path stroke-width=\"1\" stroke=\"black\" d=\"M 401 37 419 93\"/>\n<path stroke-width=\"1\" stroke=\"black\" d=\"M 420 126 420 126\"/>\n<path stroke-width=\"1\" stroke=\"black\" d=\"M 20 83 419 93\"/>\n<path stroke-width=\"1\" stroke=\"black\" d=\"M 20 83 24 20\"/>\n<path stroke-width=\"1\" stroke=\"black\" d=\"M 20 83 20 83\"/>\n<path stroke-width=\"1\" stroke=\"black\" d=\"M 24 20 419 93\"/>\n<path stroke-width=\"1\" stroke=\"black\" d=\"M 24 20 24 20\"/>\n<path stroke-width=\"1\" stroke=\"black\" d=\"M 24 20 20 83\"/>\n<path stroke-width=\"1\" stroke=\"black\" d=\"M 401 37 414 125\"/>\n<path stroke-width=\"1\" stroke=\"black\" d=\"M 24 20 24 20\"/>\n<path stroke-width=\"1\" stroke=\"black\" d=\"M 24 20 20 83\"/>\n<path stroke-width=\"1\" stroke=\"black\" d=\"M 24 20 24 20\"/>\n<path stroke-width=\"1\" stroke=\"black\" d=\"M 24 20 24 20\"/>\n<path stroke-width=\"1\" stroke=\"black\" d=\"M 414 125 419 93\"/>\n<path stroke-width=\"1\" stroke=\"black\" d=\"M 414 125 416 92\"/>\n<path stroke-width=\"1\" stroke=\"black\" d=\"M 414 125 414 125\"/>\n<path stroke-width=\"1\" stroke=\"black\" d=\"M 414 125 420 126\"/>\n<path stroke-width=\"1\" stroke=\"black\" d=\"M 24 20 419 93\"/>\n<path stroke-width=\"1\" stroke=\"black\" d=\"M 407 51 407 51\"/>\n<circle cx=\"419\" cy=\"93\" r=\"7.0\" style=\"fill:red;stroke:black;stroke-width:1.0\"/>\n<circle cx=\"416\" cy=\"92\" r=\"7.0\" style=\"fill:red;stroke:black;stroke-width:1.0\"/>\n<circle cx=\"414\" cy=\"125\" r=\"7.0\" style=\"fill:red;stroke:black;stroke-width:1.0\"/>\n<circle cx=\"420\" cy=\"126\" r=\"7.0\" style=\"fill:red;stroke:black;stroke-width:1.0\"/>\n<circle cx=\"20\" cy=\"83\" r=\"7.0\" style=\"fill:red;stroke:black;stroke-width:1.0\"/>\n<circle cx=\"24\" cy=\"20\" r=\"7.0\" style=\"fill:red;stroke:black;stroke-width:1.0\"/>\n<circle cx=\"24\" cy=\"20\" r=\"7.0\" style=\"fill:red;stroke:black;stroke-width:1.0\"/>\n<circle cx=\"414\" cy=\"125\" r=\"7.0\" style=\"fill:red;stroke:black;stroke-width:1.0\"/>\n<circle cx=\"401\" cy=\"37\" r=\"7.0\" style=\"fill:red;stroke:black;stroke-width:1.0\"/>\n<circle cx=\"414\" cy=\"125\" r=\"7.0\" style=\"fill:blue;stroke:black;stroke-width:1.0\"/>\n<circle cx=\"20\" cy=\"83\" r=\"7.0\" style=\"fill:red;stroke:black;stroke-width:1.0\"/>\n<circle cx=\"419\" cy=\"93\" r=\"7.0\" style=\"fill:red;stroke:black;stroke-width:1.0\"/>\n<circle cx=\"420\" cy=\"126\" r=\"7.0\" style=\"fill:red;stroke:black;stroke-width:1.0\"/>\n<circle cx=\"420\" cy=\"126\" r=\"7.0\" style=\"fill:red;stroke:black;stroke-width:1.0\"/>\n<circle cx=\"407\" cy=\"51\" r=\"7.0\" style=\"fill:blue;stroke:black;stroke-width:1.0\"/>\n<circle cx=\"407\" cy=\"51\" r=\"7.0\" style=\"fill:blue;stroke:black;stroke-width:1.0\"/>\n<circle cx=\"24\" cy=\"20\" r=\"7.0\" style=\"fill:red;stroke:black;stroke-width:1.0\"/>\n<circle cx=\"416\" cy=\"92\" r=\"7.0\" style=\"fill:red;stroke:black;stroke-width:1.0\"/>\n<circle cx=\"407\" cy=\"51\" r=\"7.0\" style=\"fill:blue;stroke:black;stroke-width:1.0\"/>\n<circle cx=\"419\" cy=\"93\" r=\"7.0\" style=\"fill:red;stroke:black;stroke-width:1.0\"/>\n<circle cx=\"407\" cy=\"51\" r=\"7.0\" style=\"fill:blue;stroke:black;stroke-width:1.0\"/>\n<circle cx=\"416\" cy=\"92\" r=\"7.0\" style=\"fill:red;stroke:black;stroke-width:1.0\"/>\n<circle cx=\"407\" cy=\"51\" r=\"7.0\" style=\"fill:blue;stroke:black;stroke-width:1.0\"/>\n<circle cx=\"183\" cy=\"314\" r=\"7.0\" style=\"fill:blue;stroke:black;stroke-width:1.0\"/>\n<circle cx=\"179\" cy=\"320\" r=\"7.0\" style=\"fill:blue;stroke:black;stroke-width:1.0\"/>\n<circle cx=\"183\" cy=\"314\" r=\"7.0\" style=\"fill:blue;stroke:black;stroke-width:1.0\"/>\n<circle cx=\"382\" cy=\"150\" r=\"7.0\" style=\"fill:blue;stroke:black;stroke-width:1.0\"/>\n<circle cx=\"179\" cy=\"320\" r=\"7.0\" style=\"fill:blue;stroke:black;stroke-width:1.0\"/>\n<circle cx=\"139\" cy=\"256\" r=\"7.0\" style=\"fill:blue;stroke:black;stroke-width:1.0\"/>\n<circle cx=\"382\" cy=\"150\" r=\"7.0\" style=\"fill:blue;stroke:black;stroke-width:1.0\"/>\n<circle cx=\"401\" cy=\"37\" r=\"7.0\" style=\"fill:blue;stroke:black;stroke-width:1.0\"/>\n<circle cx=\"139\" cy=\"256\" r=\"7.0\" style=\"fill:blue;stroke:black;stroke-width:1.0\"/>\n<circle cx=\"407\" cy=\"51\" r=\"7.0\" style=\"fill:blue;stroke:black;stroke-width:1.0\"/>\n<circle cx=\"407\" cy=\"51\" r=\"7.0\" style=\"fill:blue;stroke:black;stroke-width:1.0\"/>\n</svg>",
      "text/plain": [
       "<IPython.core.display.SVG object>"
      ]
     },
     "execution_count": 8,
     "metadata": {},
     "output_type": "execute_result"
    }
   ],
   "source": [
    "# test ski-kit hierarchal louvain graphs\n",
    "from sknetwork.data import karate_club, painters, movie_actor\n",
    "graph = karate_club(metadata=True)\n",
    "adjacency = graph.adjacency\n",
    "labels = graph.labels\n",
    "louvain = LouvainNE(2)\n",
    "embedding = louvain.fit_transform(adjacency)\n",
    "image = svg_graph(adjacency, position=embedding, labels=labels)\n",
    "SVG(image)"
   ]
  }
 ],
 "metadata": {
  "kernelspec": {
   "display_name": "Python 3",
   "language": "python",
   "name": "python3"
  },
  "language_info": {
   "codemirror_mode": {
    "name": "ipython",
    "version": 3
   },
   "file_extension": ".py",
   "mimetype": "text/x-python",
   "name": "python",
   "nbconvert_exporter": "python",
   "pygments_lexer": "ipython3",
   "version": "3.9.1 (v3.9.1:1e5d33e9b9, Dec  7 2020, 12:10:52) \n[Clang 6.0 (clang-600.0.57)]"
  },
  "orig_nbformat": 4,
  "vscode": {
   "interpreter": {
    "hash": "aee8b7b246df8f9039afb4144a1f6fd8d2ca17a180786b69acc140d282b71a49"
   }
  }
 },
 "nbformat": 4,
 "nbformat_minor": 2
}
