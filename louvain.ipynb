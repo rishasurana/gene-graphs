{
 "cells": [
  {
   "attachments": {},
   "cell_type": "markdown",
   "metadata": {},
   "source": [
    "Take in SNPxSNP graph (from Cramer's V), and build graph."
   ]
  },
  {
   "cell_type": "code",
   "execution_count": 2,
   "metadata": {},
   "outputs": [],
   "source": [
    "def HL(dfMatrix) : \n",
    "\n",
    "    ## imports\n",
    "    import numpy as np\n",
    "    import networkx as nx\n",
    "    import scipy.stats as stats\n",
    "    import pandas as pd\n",
    "    import sklearn as sk\n",
    "    import itertools\n",
    "    import os\n",
    "    from bed_reader import open_bed\n",
    "    from IPython.display import SVG\n",
    "    from sknetwork.embedding import LouvainNE\n",
    "    from sknetwork.embedding import LouvainEmbedding\n",
    "    from sknetwork.visualization import svg_graph, svg_bigraph\n",
    "    from networkx.algorithms import bipartite\n",
    "    from networkx.algorithms import community\n",
    "    from scipy import sparse\n",
    "    from sknetwork.hierarchy import LouvainHierarchy\n",
    "    from sknetwork.hierarchy import cut_straight, dasgupta_score, tree_sampling_divergence\n",
    "    from sknetwork.visualization import svg_graph, svg_bigraph, svg_dendrogram\n",
    "    from sklearn.neighbors import NearestNeighbors\n",
    "    from scipy.stats import chi2_contingency\n",
    "    from scipy.sparse import diags\n",
    "\n",
    "\n",
    "    # binarize\n",
    "    dfMatrix = sparse.csr_matrix(df) # convert data frame to a sparse matrix\n",
    "    for i in range(np.shape(dfMatrix)[0]):\n",
    "        for j in range(np.shape(dfMatrix)[1]):\n",
    "            if dfMatrix[i,j] <= 0.3:\n",
    "                dfMatrix[i,j] = 0\n",
    "            else:\n",
    "                dfMatrix[i,j] = 1\n",
    "\n",
    "\n",
    "    # get triangle\n",
    "    triangle = np.triu(dfMatrix, k=1) # get upper half\n",
    "    print(triangle)\n",
    "    print(triangle.shape)\n",
    "    triangleSparse = sparse.csr_matrix(triangle)\n",
    "\n",
    "    # create adjacency matrix \n",
    "    G = nx.Graph(triangleSparse) # create graph from sparse data [UPDATE THIS]\n",
    "    adjacency = nx.adjacency_matrix(G) # create Adjacency matrix\n",
    "    adjacencyMatrix = sparse.csr_matrix(adjacency) # convert array to sparse row matrix form\n",
    "    print(adjacencyMatrix.shape[0])\n",
    "\n",
    "    ## train classifier and build graph\n",
    "    louvain = LouvainNE(2)\n",
    "    embedding = louvain.fit_transform(adjacencyMatrix)\n",
    "    degrees = adjacency.dot(np.ones(adjacency.shape[0]))\n",
    "\n",
    "    labels = []\n",
    "    for i in range(adjacencyMatrix.shape[0]):\n",
    "        labels.append(i)\n",
    "\n",
    "    image = svg_graph(adjacencyMatrix, position=embedding, display_edge_weight= True, display_node_weight=True, \n",
    "    labels=labels, scale=1, node_order=labels, filename=\"graph\", node_size_min=10, node_size_max=20, directed=False)\n",
    "\n",
    "    #result should be graph.svg file"
   ]
  }
 ],
 "metadata": {
  "kernelspec": {
   "display_name": "Python 3",
   "language": "python",
   "name": "python3"
  },
  "language_info": {
   "codemirror_mode": {
    "name": "ipython",
    "version": 3
   },
   "file_extension": ".py",
   "mimetype": "text/x-python",
   "name": "python",
   "nbconvert_exporter": "python",
   "pygments_lexer": "ipython3",
   "version": "3.9.1"
  },
  "orig_nbformat": 4,
  "vscode": {
   "interpreter": {
    "hash": "aee8b7b246df8f9039afb4144a1f6fd8d2ca17a180786b69acc140d282b71a49"
   }
  }
 },
 "nbformat": 4,
 "nbformat_minor": 2
}
