{
 "cells": [
  {
   "attachments": {},
   "cell_type": "markdown",
   "metadata": {},
   "source": [
    "Take in a graph of SNP by SNP and use diagonal to build a graph."
   ]
  },
  {
   "cell_type": "code",
   "execution_count": 174,
   "metadata": {},
   "outputs": [],
   "source": [
    "## imports\n",
    "import numpy as np\n",
    "from bed_reader import open_bed\n",
    "import os\n",
    "from IPython.display import SVG\n",
    "from sknetwork.embedding import LouvainNE\n",
    "from sknetwork.visualization import svg_graph, svg_bigraph\n",
    "from networkx.algorithms import bipartite\n",
    "from scipy import sparse\n",
    "from sknetwork.hierarchy import LouvainHierarchy\n",
    "from sknetwork.hierarchy import cut_straight, dasgupta_score, tree_sampling_divergence\n",
    "from sknetwork.visualization import svg_graph, svg_bigraph, svg_dendrogram\n",
    "from sklearn.neighbors import NearestNeighbors\n",
    "import networkx as nx\n",
    "import scipy.stats as stats\n",
    "import pandas as pd\n",
    "from scipy.stats import chi2_contingency\n",
    "from scipy.sparse import diags"
   ]
  },
  {
   "cell_type": "code",
   "execution_count": 175,
   "metadata": {},
   "outputs": [],
   "source": [
    "def get_diagonal(df, width) : # convert SNPxSNP matrix as a result of cramer's to diagonal\n",
    "    mid = df[df.shape(0)]\n",
    "    arr = []\n",
    "    result = np.empty(arr)\n",
    "    for i in df:\n",
    "        for j in df.T:\n",
    "            if abs((i - j)) > width:\n",
    "                result.append(j)\n",
    "\n",
    "    return result"
   ]
  },
  {
   "cell_type": "code",
   "execution_count": 176,
   "metadata": {},
   "outputs": [
    {
     "name": "stdout",
     "output_type": "stream",
     "text": [
      "(488377, 26806)\n",
      "(70, 70)\n"
     ]
    }
   ],
   "source": [
    "## get database workspace\n",
    "file_name = '/Users/rishasurana/Library/CloudStorage/GoogleDrive-rsurana@usc.edu/.shortcut-targets-by-id/1I-Ssaub3M29w33JyrvO7HVv9laffGidc/chromosome_17_bed_bim_fam_data/ukb22418_c13_b0_v2.bed'\n",
    "## read bed and select values\n",
    "bed = open_bed(file_name)\n",
    "print(bed.shape)\n",
    "values = bed.read(index=np.s_[0:70,0:70])\n",
    "print(values.shape)\n",
    "values = np.array(values)"
   ]
  },
  {
   "attachments": {},
   "cell_type": "markdown",
   "metadata": {},
   "source": [
    "SAMPLE build Cramer's correlation matrix\n",
    "note: Do not use, use SNPcorrelation.ipynb"
   ]
  },
  {
   "cell_type": "code",
   "execution_count": 177,
   "metadata": {},
   "outputs": [],
   "source": [
    "def cramers_V(var1,var2) :\n",
    "  crosstab =np.array(pd.crosstab(var1,var2)) # Cross table building\n",
    "  stat = chi2_contingency(crosstab)[0] # Keeping of the test statistic of the Chi2 test\n",
    "  obs = np.sum(crosstab) # Number of observations\n",
    "  mini = min(crosstab.shape)-1 # Take the minimum value between the columns and the rows of the cross table\n",
    "  \n",
    "  return stat/(obs*mini)"
   ]
  },
  {
   "cell_type": "code",
   "execution_count": 178,
   "metadata": {},
   "outputs": [],
   "source": [
    "import warnings ## temporarily hide NaN division warnings\n",
    "warnings.filterwarnings(\"ignore\")\n",
    "\n",
    "rows= []\n",
    "\n",
    "for var1 in values:\n",
    "  col = []\n",
    "  for var2 in values.T:\n",
    "    cramers =cramers_V(var1, var2) # Cramer's V test\n",
    "    col.append(round(cramers,2)) # Keeping of the rounded value of the Cramer's V  \n",
    "  rows.append(col)\n",
    "  \n",
    "cramers_results = np.array(rows)\n",
    "df = pd.DataFrame(cramers_results)"
   ]
  },
  {
   "attachments": {},
   "cell_type": "markdown",
   "metadata": {},
   "source": [
    "Build graph"
   ]
  },
  {
   "cell_type": "code",
   "execution_count": 179,
   "metadata": {},
   "outputs": [
    {
     "data": {
      "image/svg+xml": "<svg xmlns=\"http://www.w3.org/2000/svg\" width=\"440\" height=\"340\">\n<defs><marker id=\"arrow-black\" markerWidth=\"10\" markerHeight=\"10\" refX=\"9\" refY=\"3\" orient=\"auto\">\n<path d=\"M0,0 L0,6 L9,3 z\" fill=\"black\"/></marker></defs>\n<path stroke-width=\"1.0\" stroke=\"black\" d=\"M 116 121 178 104\" marker-end=\"url(#arrow-black)\"/>\n<path stroke-width=\"1.0\" stroke=\"black\" d=\"M 253 258 64 240\" marker-end=\"url(#arrow-black)\"/>\n<path stroke-width=\"1.0\" stroke=\"black\" d=\"M 74 113 246 108\" marker-end=\"url(#arrow-black)\"/>\n<path stroke-width=\"1.0\" stroke=\"black\" d=\"M 74 113 86 189\" marker-end=\"url(#arrow-black)\"/>\n<path stroke-width=\"1.0\" stroke=\"black\" d=\"M 390 140 262 253\" marker-end=\"url(#arrow-black)\"/>\n<path stroke-width=\"1.0\" stroke=\"black\" d=\"M 390 140 280 217\" marker-end=\"url(#arrow-black)\"/>\n<path stroke-width=\"1.0\" stroke=\"black\" d=\"M 400 304 169 237\" marker-end=\"url(#arrow-black)\"/>\n<path stroke-width=\"1.0\" stroke=\"black\" d=\"M 400 304 214 40\" marker-end=\"url(#arrow-black)\"/>\n<path stroke-width=\"1.0\" stroke=\"black\" d=\"M 272 320 406 71\" marker-end=\"url(#arrow-black)\"/>\n<path stroke-width=\"1.0\" stroke=\"black\" d=\"M 410 93 260 269\" marker-end=\"url(#arrow-black)\"/>\n<path stroke-width=\"1.0\" stroke=\"black\" d=\"M 410 93 415 96\" marker-end=\"url(#arrow-black)\"/>\n<path stroke-width=\"1.0\" stroke=\"black\" d=\"M 52 96 276 149\" marker-end=\"url(#arrow-black)\"/>\n<path stroke-width=\"1.0\" stroke=\"black\" d=\"M 52 96 267 84\" marker-end=\"url(#arrow-black)\"/>\n<path stroke-width=\"1.0\" stroke=\"black\" d=\"M 62 283 212 192\" marker-end=\"url(#arrow-black)\"/>\n<path stroke-width=\"1.0\" stroke=\"black\" d=\"M 62 283 236 221\" marker-end=\"url(#arrow-black)\"/>\n<path stroke-width=\"1.0\" stroke=\"black\" d=\"M 67 60 323 208\" marker-end=\"url(#arrow-black)\"/>\n<path stroke-width=\"1.0\" stroke=\"black\" d=\"M 67 60 176 311\" marker-end=\"url(#arrow-black)\"/>\n<path stroke-width=\"1.0\" stroke=\"black\" d=\"M 25 235 284 26\" marker-end=\"url(#arrow-black)\"/>\n<path stroke-width=\"1.0\" stroke=\"black\" d=\"M 25 235 131 236\" marker-end=\"url(#arrow-black)\"/>\n<path stroke-width=\"1.0\" stroke=\"black\" d=\"M 58 240 247 258\" marker-end=\"url(#arrow-black)\"/>\n<path stroke-width=\"1.0\" stroke=\"black\" d=\"M 87 195 75 119\" marker-end=\"url(#arrow-black)\"/>\n<path stroke-width=\"1.0\" stroke=\"black\" d=\"M 87 195 219 116\" marker-end=\"url(#arrow-black)\"/>\n<path stroke-width=\"1.0\" stroke=\"black\" d=\"M 275 221 385 144\" marker-end=\"url(#arrow-black)\"/>\n<path stroke-width=\"1.0\" stroke=\"black\" d=\"M 275 221 261 126\" marker-end=\"url(#arrow-black)\"/>\n<path stroke-width=\"1.0\" stroke=\"black\" d=\"M 253 258 376 95\" marker-end=\"url(#arrow-black)\"/>\n<path stroke-width=\"1.0\" stroke=\"black\" d=\"M 289 22 30 231\" marker-end=\"url(#arrow-black)\"/>\n<path stroke-width=\"1.0\" stroke=\"black\" d=\"M 289 22 410 173\" marker-end=\"url(#arrow-black)\"/>\n<path stroke-width=\"1.0\" stroke=\"black\" d=\"M 329 211 73 63\" marker-end=\"url(#arrow-black)\"/>\n<path stroke-width=\"1.0\" stroke=\"black\" d=\"M 202 127 213 191\" marker-end=\"url(#arrow-black)\"/>\n<path stroke-width=\"1.0\" stroke=\"black\" d=\"M 30 44 252 270\" marker-end=\"url(#arrow-black)\"/>\n<path stroke-width=\"1.0\" stroke=\"black\" d=\"M 157 174 276 151\" marker-end=\"url(#arrow-black)\"/>\n<path stroke-width=\"1.0\" stroke=\"black\" d=\"M 106 117 212 186\" marker-end=\"url(#arrow-black)\"/>\n<path stroke-width=\"1.0\" stroke=\"black\" d=\"M 412 229 161 247\" marker-end=\"url(#arrow-black)\"/>\n<path stroke-width=\"1.0\" stroke=\"black\" d=\"M 412 229 335 212\" marker-end=\"url(#arrow-black)\"/>\n<path stroke-width=\"1.0\" stroke=\"black\" d=\"M 414 178 324 282\" marker-end=\"url(#arrow-black)\"/>\n<path stroke-width=\"1.0\" stroke=\"black\" d=\"M 414 178 293 27\" marker-end=\"url(#arrow-black)\"/>\n<path stroke-width=\"1.0\" stroke=\"black\" d=\"M 380 90 310 246\" marker-end=\"url(#arrow-black)\"/>\n<path stroke-width=\"1.0\" stroke=\"black\" d=\"M 380 90 257 253\" marker-end=\"url(#arrow-black)\"/>\n<path stroke-width=\"1.0\" stroke=\"black\" d=\"M 252 108 267 80\" marker-end=\"url(#arrow-black)\"/>\n<path stroke-width=\"1.0\" stroke=\"black\" d=\"M 210 35 396 299\" marker-end=\"url(#arrow-black)\"/>\n<path stroke-width=\"1.0\" stroke=\"black\" d=\"M 252 108 80 113\" marker-end=\"url(#arrow-black)\"/>\n<path stroke-width=\"1.0\" stroke=\"black\" d=\"M 257 257 385 144\" marker-end=\"url(#arrow-black)\"/>\n<path stroke-width=\"1.0\" stroke=\"black\" d=\"M 163 236 39 102\" marker-end=\"url(#arrow-black)\"/>\n<path stroke-width=\"1.0\" stroke=\"black\" d=\"M 163 236 394 303\" marker-end=\"url(#arrow-black)\"/>\n<path stroke-width=\"1.0\" stroke=\"black\" d=\"M 214 197 203 133\" marker-end=\"url(#arrow-black)\"/>\n<path stroke-width=\"1.0\" stroke=\"black\" d=\"M 256 274 34 48\" marker-end=\"url(#arrow-black)\"/>\n<path stroke-width=\"1.0\" stroke=\"black\" d=\"M 256 274 406 98\" marker-end=\"url(#arrow-black)\"/>\n<path stroke-width=\"1.0\" stroke=\"black\" d=\"M 282 150 163 173\" marker-end=\"url(#arrow-black)\"/>\n<path stroke-width=\"1.0\" stroke=\"black\" d=\"M 282 150 58 97\" marker-end=\"url(#arrow-black)\"/>\n<path stroke-width=\"1.0\" stroke=\"black\" d=\"M 217 189 111 120\" marker-end=\"url(#arrow-black)\"/>\n<path stroke-width=\"1.0\" stroke=\"black\" d=\"M 217 189 67 280\" marker-end=\"url(#arrow-black)\"/>\n<path stroke-width=\"1.0\" stroke=\"black\" d=\"M 329 211 406 228\" marker-end=\"url(#arrow-black)\"/>\n<path stroke-width=\"1.0\" stroke=\"black\" d=\"M 257 257 152 167\" marker-end=\"url(#arrow-black)\"/>\n<path stroke-width=\"1.0\" stroke=\"black\" d=\"M 210 35 49 162\" marker-end=\"url(#arrow-black)\"/>\n<path stroke-width=\"1.0\" stroke=\"black\" d=\"M 409 65 275 314\" marker-end=\"url(#arrow-black)\"/>\n<path stroke-width=\"1.0\" stroke=\"black\" d=\"M 409 65 344 302\" marker-end=\"url(#arrow-black)\"/>\n<path stroke-width=\"1.0\" stroke=\"black\" d=\"M 67 20 252 215\" marker-end=\"url(#arrow-black)\"/>\n<path stroke-width=\"1.0\" stroke=\"black\" d=\"M 366 286 220 78\" marker-end=\"url(#arrow-black)\"/>\n<path stroke-width=\"1.0\" stroke=\"black\" d=\"M 366 286 305 250\" marker-end=\"url(#arrow-black)\"/>\n<path stroke-width=\"1.0\" stroke=\"black\" d=\"M 413 174 231 115\" marker-end=\"url(#arrow-black)\"/>\n<path stroke-width=\"1.0\" stroke=\"black\" d=\"M 413 174 111 113\" marker-end=\"url(#arrow-black)\"/>\n<path stroke-width=\"1.0\" stroke=\"black\" d=\"M 93 303 257 125\" marker-end=\"url(#arrow-black)\"/>\n<path stroke-width=\"1.0\" stroke=\"black\" d=\"M 93 303 227 74\" marker-end=\"url(#arrow-black)\"/>\n<path stroke-width=\"1.0\" stroke=\"black\" d=\"M 192 77 49 163\" marker-end=\"url(#arrow-black)\"/>\n<path stroke-width=\"1.0\" stroke=\"black\" d=\"M 155 237 337 306\" marker-end=\"url(#arrow-black)\"/>\n<path stroke-width=\"1.0\" stroke=\"black\" d=\"M 155 237 242 99\" marker-end=\"url(#arrow-black)\"/>\n<path stroke-width=\"1.0\" stroke=\"black\" d=\"M 20 40 249 128\" marker-end=\"url(#arrow-black)\"/>\n<path stroke-width=\"1.0\" stroke=\"black\" d=\"M 67 20 135 230\" marker-end=\"url(#arrow-black)\"/>\n<path stroke-width=\"1.0\" stroke=\"black\" d=\"M 20 40 408 75\" marker-end=\"url(#arrow-black)\"/>\n<path stroke-width=\"1.0\" stroke=\"black\" d=\"M 271 214 412 158\" marker-end=\"url(#arrow-black)\"/>\n<path stroke-width=\"1.0\" stroke=\"black\" d=\"M 184 103 189 96\" marker-end=\"url(#arrow-black)\"/>\n<path stroke-width=\"1.0\" stroke=\"black\" d=\"M 184 103 122 120\" marker-end=\"url(#arrow-black)\"/>\n<path stroke-width=\"1.0\" stroke=\"black\" d=\"M 60 102 380 265\" marker-end=\"url(#arrow-black)\"/>\n<path stroke-width=\"1.0\" stroke=\"black\" d=\"M 256 220 71 25\" marker-end=\"url(#arrow-black)\"/>\n<path stroke-width=\"1.0\" stroke=\"black\" d=\"M 299 247 360 283\" marker-end=\"url(#arrow-black)\"/>\n<path stroke-width=\"1.0\" stroke=\"black\" d=\"M 105 112 407 173\" marker-end=\"url(#arrow-black)\"/>\n<path stroke-width=\"1.0\" stroke=\"black\" d=\"M 230 68 96 297\" marker-end=\"url(#arrow-black)\"/>\n<path stroke-width=\"1.0\" stroke=\"black\" d=\"M 245 94 158 232\" marker-end=\"url(#arrow-black)\"/>\n<path stroke-width=\"1.0\" stroke=\"black\" d=\"M 414 75 26 40\" marker-end=\"url(#arrow-black)\"/>\n<path stroke-width=\"1.0\" stroke=\"black\" d=\"M 418 156 277 212\" marker-end=\"url(#arrow-black)\"/>\n<path stroke-width=\"1.0\" stroke=\"black\" d=\"M 271 214 402 267\" marker-end=\"url(#arrow-black)\"/>\n<path stroke-width=\"1.0\" stroke=\"black\" d=\"M 35 97 159 231\" marker-end=\"url(#arrow-black)\"/>\n<path stroke-width=\"1.0\" stroke=\"black\" d=\"M 386 268 66 105\" marker-end=\"url(#arrow-black)\"/>\n<path stroke-width=\"1.0\" stroke=\"black\" d=\"M 193 91 188 98\" marker-end=\"url(#arrow-black)\"/>\n<path stroke-width=\"1.0\" stroke=\"black\" d=\"M 420 100 415 97\" marker-end=\"url(#arrow-black)\"/>\n<path stroke-width=\"1.0\" stroke=\"black\" d=\"M 420 100 261 129\" marker-end=\"url(#arrow-black)\"/>\n<path stroke-width=\"1.0\" stroke=\"black\" d=\"M 273 84 58 96\" marker-end=\"url(#arrow-black)\"/>\n<path stroke-width=\"1.0\" stroke=\"black\" d=\"M 273 84 404 264\" marker-end=\"url(#arrow-black)\"/>\n<path stroke-width=\"1.0\" stroke=\"black\" d=\"M 242 219 68 281\" marker-end=\"url(#arrow-black)\"/>\n<path stroke-width=\"1.0\" stroke=\"black\" d=\"M 242 219 195 97\" marker-end=\"url(#arrow-black)\"/>\n<path stroke-width=\"1.0\" stroke=\"black\" d=\"M 178 317 69 66\" marker-end=\"url(#arrow-black)\"/>\n<path stroke-width=\"1.0\" stroke=\"black\" d=\"M 178 317 380 269\" marker-end=\"url(#arrow-black)\"/>\n<path stroke-width=\"1.0\" stroke=\"black\" d=\"M 137 236 31 235\" marker-end=\"url(#arrow-black)\"/>\n<path stroke-width=\"1.0\" stroke=\"black\" d=\"M 137 236 69 26\" marker-end=\"url(#arrow-black)\"/>\n<path stroke-width=\"1.0\" stroke=\"black\" d=\"M 216 73 362 281\" marker-end=\"url(#arrow-black)\"/>\n<path stroke-width=\"1.0\" stroke=\"black\" d=\"M 386 268 184 316\" marker-end=\"url(#arrow-black)\"/>\n<path stroke-width=\"1.0\" stroke=\"black\" d=\"M 225 113 93 192\" marker-end=\"url(#arrow-black)\"/>\n<path stroke-width=\"1.0\" stroke=\"black\" d=\"M 261 120 275 215\" marker-end=\"url(#arrow-black)\"/>\n<path stroke-width=\"1.0\" stroke=\"black\" d=\"M 261 120 97 298\" marker-end=\"url(#arrow-black)\"/>\n<path stroke-width=\"1.0\" stroke=\"black\" d=\"M 44 166 205 39\" marker-end=\"url(#arrow-black)\"/>\n<path stroke-width=\"1.0\" stroke=\"black\" d=\"M 44 166 187 80\" marker-end=\"url(#arrow-black)\"/>\n<path stroke-width=\"1.0\" stroke=\"black\" d=\"M 343 308 408 71\" marker-end=\"url(#arrow-black)\"/>\n<path stroke-width=\"1.0\" stroke=\"black\" d=\"M 343 308 161 239\" marker-end=\"url(#arrow-black)\"/>\n<path stroke-width=\"1.0\" stroke=\"black\" d=\"M 255 130 414 101\" marker-end=\"url(#arrow-black)\"/>\n<path stroke-width=\"1.0\" stroke=\"black\" d=\"M 255 130 26 42\" marker-end=\"url(#arrow-black)\"/>\n<path stroke-width=\"1.0\" stroke=\"black\" d=\"M 408 269 277 89\" marker-end=\"url(#arrow-black)\"/>\n<path stroke-width=\"1.0\" stroke=\"black\" d=\"M 408 269 277 216\" marker-end=\"url(#arrow-black)\"/>\n<path stroke-width=\"1.0\" stroke=\"black\" d=\"M 193 91 240 213\" marker-end=\"url(#arrow-black)\"/>\n<path stroke-width=\"1.0\" stroke=\"black\" d=\"M 225 113 407 172\" marker-end=\"url(#arrow-black)\"/>\n<path stroke-width=\"1.0\" stroke=\"black\" d=\"M 147 163 252 253\" marker-end=\"url(#arrow-black)\"/>\n<circle cx=\"116\" cy=\"121\" r=\"7.0\" style=\"fill:gray;stroke:black;stroke-width:1.0\"/>\n<circle cx=\"418\" cy=\"156\" r=\"7.0\" style=\"fill:gray;stroke:black;stroke-width:1.0\"/>\n<circle cx=\"414\" cy=\"75\" r=\"7.0\" style=\"fill:gray;stroke:black;stroke-width:1.0\"/>\n<circle cx=\"245\" cy=\"94\" r=\"7.0\" style=\"fill:gray;stroke:black;stroke-width:1.0\"/>\n<circle cx=\"66\" cy=\"138\" r=\"7.0\" style=\"fill:gray;stroke:black;stroke-width:1.0\"/>\n<circle cx=\"230\" cy=\"68\" r=\"7.0\" style=\"fill:gray;stroke:black;stroke-width:1.0\"/>\n<circle cx=\"105\" cy=\"112\" r=\"7.0\" style=\"fill:gray;stroke:black;stroke-width:1.0\"/>\n<circle cx=\"299\" cy=\"247\" r=\"7.0\" style=\"fill:gray;stroke:black;stroke-width:1.0\"/>\n<circle cx=\"256\" cy=\"220\" r=\"7.0\" style=\"fill:gray;stroke:black;stroke-width:1.0\"/>\n<circle cx=\"60\" cy=\"102\" r=\"7.0\" style=\"fill:gray;stroke:black;stroke-width:1.0\"/>\n<circle cx=\"184\" cy=\"103\" r=\"7.0\" style=\"fill:gray;stroke:black;stroke-width:1.0\"/>\n<circle cx=\"271\" cy=\"214\" r=\"7.0\" style=\"fill:gray;stroke:black;stroke-width:1.0\"/>\n<circle cx=\"20\" cy=\"40\" r=\"7.0\" style=\"fill:gray;stroke:black;stroke-width:1.0\"/>\n<circle cx=\"155\" cy=\"237\" r=\"7.0\" style=\"fill:gray;stroke:black;stroke-width:1.0\"/>\n<circle cx=\"192\" cy=\"77\" r=\"7.0\" style=\"fill:gray;stroke:black;stroke-width:1.0\"/>\n<circle cx=\"93\" cy=\"303\" r=\"7.0\" style=\"fill:gray;stroke:black;stroke-width:1.0\"/>\n<circle cx=\"413\" cy=\"174\" r=\"7.0\" style=\"fill:gray;stroke:black;stroke-width:1.0\"/>\n<circle cx=\"366\" cy=\"286\" r=\"7.0\" style=\"fill:gray;stroke:black;stroke-width:1.0\"/>\n<circle cx=\"67\" cy=\"20\" r=\"7.0\" style=\"fill:gray;stroke:black;stroke-width:1.0\"/>\n<circle cx=\"386\" cy=\"268\" r=\"7.0\" style=\"fill:gray;stroke:black;stroke-width:1.0\"/>\n<circle cx=\"193\" cy=\"91\" r=\"7.0\" style=\"fill:gray;stroke:black;stroke-width:1.0\"/>\n<circle cx=\"408\" cy=\"269\" r=\"7.0\" style=\"fill:gray;stroke:black;stroke-width:1.0\"/>\n<circle cx=\"255\" cy=\"130\" r=\"7.0\" style=\"fill:gray;stroke:black;stroke-width:1.0\"/>\n<circle cx=\"343\" cy=\"308\" r=\"7.0\" style=\"fill:gray;stroke:black;stroke-width:1.0\"/>\n<circle cx=\"44\" cy=\"166\" r=\"7.0\" style=\"fill:gray;stroke:black;stroke-width:1.0\"/>\n<circle cx=\"261\" cy=\"120\" r=\"7.0\" style=\"fill:gray;stroke:black;stroke-width:1.0\"/>\n<circle cx=\"225\" cy=\"113\" r=\"7.0\" style=\"fill:gray;stroke:black;stroke-width:1.0\"/>\n<circle cx=\"216\" cy=\"73\" r=\"7.0\" style=\"fill:gray;stroke:black;stroke-width:1.0\"/>\n<circle cx=\"137\" cy=\"236\" r=\"7.0\" style=\"fill:gray;stroke:black;stroke-width:1.0\"/>\n<circle cx=\"178\" cy=\"317\" r=\"7.0\" style=\"fill:gray;stroke:black;stroke-width:1.0\"/>\n<circle cx=\"242\" cy=\"219\" r=\"7.0\" style=\"fill:gray;stroke:black;stroke-width:1.0\"/>\n<circle cx=\"273\" cy=\"84\" r=\"7.0\" style=\"fill:gray;stroke:black;stroke-width:1.0\"/>\n<circle cx=\"420\" cy=\"100\" r=\"7.0\" style=\"fill:gray;stroke:black;stroke-width:1.0\"/>\n<circle cx=\"409\" cy=\"65\" r=\"7.0\" style=\"fill:gray;stroke:black;stroke-width:1.0\"/>\n<circle cx=\"210\" cy=\"35\" r=\"7.0\" style=\"fill:gray;stroke:black;stroke-width:1.0\"/>\n<circle cx=\"275\" cy=\"221\" r=\"7.0\" style=\"fill:gray;stroke:black;stroke-width:1.0\"/>\n<circle cx=\"87\" cy=\"195\" r=\"7.0\" style=\"fill:gray;stroke:black;stroke-width:1.0\"/>\n<circle cx=\"58\" cy=\"240\" r=\"7.0\" style=\"fill:gray;stroke:black;stroke-width:1.0\"/>\n<circle cx=\"25\" cy=\"235\" r=\"7.0\" style=\"fill:gray;stroke:black;stroke-width:1.0\"/>\n<circle cx=\"67\" cy=\"60\" r=\"7.0\" style=\"fill:gray;stroke:black;stroke-width:1.0\"/>\n<circle cx=\"62\" cy=\"283\" r=\"7.0\" style=\"fill:gray;stroke:black;stroke-width:1.0\"/>\n<circle cx=\"52\" cy=\"96\" r=\"7.0\" style=\"fill:gray;stroke:black;stroke-width:1.0\"/>\n<circle cx=\"410\" cy=\"93\" r=\"7.0\" style=\"fill:gray;stroke:black;stroke-width:1.0\"/>\n<circle cx=\"272\" cy=\"320\" r=\"7.0\" style=\"fill:gray;stroke:black;stroke-width:1.0\"/>\n<circle cx=\"400\" cy=\"304\" r=\"7.0\" style=\"fill:gray;stroke:black;stroke-width:1.0\"/>\n<circle cx=\"390\" cy=\"140\" r=\"7.0\" style=\"fill:gray;stroke:black;stroke-width:1.0\"/>\n<circle cx=\"74\" cy=\"113\" r=\"7.0\" style=\"fill:gray;stroke:black;stroke-width:1.0\"/>\n<circle cx=\"253\" cy=\"258\" r=\"7.0\" style=\"fill:gray;stroke:black;stroke-width:1.0\"/>\n<circle cx=\"289\" cy=\"22\" r=\"7.0\" style=\"fill:gray;stroke:black;stroke-width:1.0\"/>\n<circle cx=\"329\" cy=\"211\" r=\"7.0\" style=\"fill:gray;stroke:black;stroke-width:1.0\"/>\n<circle cx=\"217\" cy=\"189\" r=\"7.0\" style=\"fill:gray;stroke:black;stroke-width:1.0\"/>\n<circle cx=\"282\" cy=\"150\" r=\"7.0\" style=\"fill:gray;stroke:black;stroke-width:1.0\"/>\n<circle cx=\"256\" cy=\"274\" r=\"7.0\" style=\"fill:gray;stroke:black;stroke-width:1.0\"/>\n<circle cx=\"214\" cy=\"197\" r=\"7.0\" style=\"fill:gray;stroke:black;stroke-width:1.0\"/>\n<circle cx=\"163\" cy=\"236\" r=\"7.0\" style=\"fill:gray;stroke:black;stroke-width:1.0\"/>\n<circle cx=\"257\" cy=\"257\" r=\"7.0\" style=\"fill:gray;stroke:black;stroke-width:1.0\"/>\n<circle cx=\"252\" cy=\"108\" r=\"7.0\" style=\"fill:gray;stroke:black;stroke-width:1.0\"/>\n<circle cx=\"380\" cy=\"90\" r=\"7.0\" style=\"fill:gray;stroke:black;stroke-width:1.0\"/>\n<circle cx=\"414\" cy=\"178\" r=\"7.0\" style=\"fill:gray;stroke:black;stroke-width:1.0\"/>\n<circle cx=\"412\" cy=\"229\" r=\"7.0\" style=\"fill:gray;stroke:black;stroke-width:1.0\"/>\n<circle cx=\"106\" cy=\"117\" r=\"7.0\" style=\"fill:gray;stroke:black;stroke-width:1.0\"/>\n<circle cx=\"157\" cy=\"174\" r=\"7.0\" style=\"fill:gray;stroke:black;stroke-width:1.0\"/>\n<circle cx=\"30\" cy=\"44\" r=\"7.0\" style=\"fill:gray;stroke:black;stroke-width:1.0\"/>\n<circle cx=\"202\" cy=\"127\" r=\"7.0\" style=\"fill:gray;stroke:black;stroke-width:1.0\"/>\n<circle cx=\"35\" cy=\"97\" r=\"7.0\" style=\"fill:gray;stroke:black;stroke-width:1.0\"/>\n<circle cx=\"147\" cy=\"163\" r=\"7.0\" style=\"fill:gray;stroke:black;stroke-width:1.0\"/>\n<circle cx=\"270\" cy=\"74\" r=\"7.0\" style=\"fill:gray;stroke:black;stroke-width:1.0\"/>\n<circle cx=\"308\" cy=\"252\" r=\"7.0\" style=\"fill:gray;stroke:black;stroke-width:1.0\"/>\n<circle cx=\"320\" cy=\"287\" r=\"7.0\" style=\"fill:gray;stroke:black;stroke-width:1.0\"/>\n<circle cx=\"155\" cy=\"247\" r=\"7.0\" style=\"fill:gray;stroke:black;stroke-width:1.0\"/>\n</svg>",
      "text/plain": [
       "<IPython.core.display.SVG object>"
      ]
     },
     "execution_count": 179,
     "metadata": {},
     "output_type": "execute_result"
    }
   ],
   "source": [
    "# build graph\n",
    "\n",
    "offset = 10\n",
    "\n",
    "dfMatrix = sparse.csr_matrix(df) # convert data frame to a sparse matrix\n",
    "\n",
    "diagonals = dfMatrix.diagonal(offset) # get x diagonal of matrix\n",
    "\n",
    "diagArray = diags(diagonals, offset).toarray() # convert diagonal into a square matrix\n",
    "\n",
    "sparseArrayMatrix = sparse.csr_matrix(diagArray) # convert diagonal to compressed sparse row matrix    \n",
    "\n",
    "G = nx.Graph(sparseArrayMatrix) # create graph from sparse data\n",
    "\n",
    "adjacency = nx.adjacency_matrix(G) # create Adjacency matrix\n",
    "\n",
    "adjacencyMatrix = sparse.csr_matrix(adjacency) # convert back to sparse row matrix form\n",
    "\n",
    "## train classifier and build graph\n",
    "louvain = LouvainNE(2)\n",
    "embedding = louvain.fit_transform(adjacencyMatrix)\n",
    "image = svg_graph(adjacencyMatrix, position=embedding)\n",
    "SVG(image)"
   ]
  }
 ],
 "metadata": {
  "kernelspec": {
   "display_name": "Python 3",
   "language": "python",
   "name": "python3"
  },
  "language_info": {
   "codemirror_mode": {
    "name": "ipython",
    "version": 3
   },
   "file_extension": ".py",
   "mimetype": "text/x-python",
   "name": "python",
   "nbconvert_exporter": "python",
   "pygments_lexer": "ipython3",
   "version": "3.9.1"
  },
  "orig_nbformat": 4,
  "vscode": {
   "interpreter": {
    "hash": "aee8b7b246df8f9039afb4144a1f6fd8d2ca17a180786b69acc140d282b71a49"
   }
  }
 },
 "nbformat": 4,
 "nbformat_minor": 2
}
