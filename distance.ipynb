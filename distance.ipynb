{
 "cells": [
  {
   "attachments": {},
   "cell_type": "markdown",
   "metadata": {},
   "source": [
    "plotting the distance dependence of the Cramer's V. the distance on genome in kilo base pairs"
   ]
  },
  {
   "cell_type": "code",
   "execution_count": 47,
   "metadata": {},
   "outputs": [],
   "source": [
    " ## imports\n",
    "import numpy as np\n",
    "import networkx as nx\n",
    "import scipy.stats as stats\n",
    "import pandas as pd\n",
    "import sklearn as sk\n",
    "import itertools\n",
    "import os\n",
    "from matplotlib import pyplot as plt \n",
    "from bed_reader import open_bed\n",
    "from IPython.display import SVG\n",
    "from sknetwork.embedding import LouvainNE\n",
    "from sknetwork.embedding import LouvainEmbedding\n",
    "from sknetwork.visualization import svg_graph, svg_bigraph\n",
    "from networkx.algorithms import bipartite\n",
    "from networkx.algorithms import community\n",
    "from scipy import sparse\n",
    "from sknetwork.hierarchy import LouvainHierarchy\n",
    "from sknetwork.hierarchy import cut_straight, dasgupta_score, tree_sampling_divergence\n",
    "from sknetwork.visualization import svg_graph, svg_bigraph, svg_dendrogram\n",
    "from sklearn.neighbors import NearestNeighbors\n",
    "from scipy.stats import chi2_contingency\n",
    "from scipy.sparse import diags"
   ]
  },
  {
   "cell_type": "code",
   "execution_count": 48,
   "metadata": {},
   "outputs": [
    {
     "data": {
      "text/plain": [
       "array([[0.        , 0.38810293, 0.24109313, ..., 0.45753968, 0.14245742,\n",
       "        0.36877027],\n",
       "       [0.        , 0.        , 0.22561113, ..., 0.38810293, 0.17709782,\n",
       "        0.30846984],\n",
       "       [0.        , 0.        , 0.        , ..., 0.24109313, 0.06528576,\n",
       "        0.19743985],\n",
       "       ...,\n",
       "       [0.        , 0.        , 0.        , ..., 0.        , 0.14245742,\n",
       "        0.36877027],\n",
       "       [0.        , 0.        , 0.        , ..., 0.        , 0.        ,\n",
       "        0.10534386],\n",
       "       [0.        , 0.        , 0.        , ..., 0.        , 0.        ,\n",
       "        0.        ]])"
      ]
     },
     "execution_count": 48,
     "metadata": {},
     "output_type": "execute_result"
    }
   ],
   "source": [
    "# get cramer's matrix\n",
    "arr = np.loadtxt(\"chrom19cramer100.csv\",\n",
    "                 delimiter=\",\", dtype=np.float64) # chromosome 19, every 100 SNP\n",
    "# get triangle\n",
    "triangle = np.triu(arr, k=1) # get upper half\n",
    "triangleSparse = sparse.csr_matrix(triangle)\n",
    "triangle"
   ]
  },
  {
   "cell_type": "code",
   "execution_count": 49,
   "metadata": {},
   "outputs": [
    {
     "data": {
      "text/plain": [
       "'\\ncalculating distance between genomes:\\n- a short distance means the genomes/species are more closely related\\n\\n'"
      ]
     },
     "execution_count": 49,
     "metadata": {},
     "output_type": "execute_result"
    }
   ],
   "source": [
    "'''\n",
    "calculating distance between genomes:\n",
    "- a short distance means the genomes/species are more closely related\n",
    "\n",
    "'''"
   ]
  },
  {
   "cell_type": "code",
   "execution_count": 50,
   "metadata": {},
   "outputs": [],
   "source": [
    "from pairsnp import calculate_snp_matrix, calculate_distance_matrix\n",
    "from fasta import FASTA\n",
    "file_name = '/Users/rishasurana/Library/CloudStorage/GoogleDrive-rsurana@usc.edu/.shortcut-targets-by-id/1I-Ssaub3M29w33JyrvO7HVv9laffGidc/chromosome_17_bed_bim_fam_data/ukb22418_c19_b0_v2.bed'\n"
   ]
  },
  {
   "cell_type": "code",
   "execution_count": null,
   "metadata": {},
   "outputs": [],
   "source": []
  },
  {
   "cell_type": "code",
   "execution_count": 51,
   "metadata": {},
   "outputs": [],
   "source": [
    "def calculate_distance_matrix(sparse_matrix, type, inc_n):\n",
    "\n",
    "    n_seqs = sparse_matrix.shape[0]\n",
    "\n",
    "    d = (1*(sparse_matrix==97)) * (sparse_matrix.transpose()==97)\n",
    "    d = d + (1*(sparse_matrix==99) * (sparse_matrix.transpose()==99))\n",
    "    d = d + (1*(sparse_matrix==103) * (sparse_matrix.transpose()==103))\n",
    "    d = d + (1*(sparse_matrix==116) * (sparse_matrix.transpose()==116))\n",
    "\n",
    "    d = d.todense()\n",
    "\n",
    "    if(type==\"dist\"):\n",
    "        temp_sparse_n = sparse_matrix==110\n",
    "        n_comp = (1*temp_sparse_n * (temp_sparse_n.transpose())).todense()\n",
    "        d = d + n_comp\n",
    "        temp_total = np.zeros((n_seqs, n_seqs))\n",
    "        seq_sum = (1*(sparse_matrix>0)).sum(1)\n",
    "        temp_total[:] = seq_sum\n",
    "        total_differences_shared = (1*(sparse_matrix>0)) * (sparse_matrix.transpose()>0)\n",
    "\n",
    "        if inc_n:\n",
    "            d = temp_total + np.transpose(temp_total) - total_differences_shared.todense() - d\n",
    "        else:\n",
    "            n_total = np.zeros((n_seqs, n_seqs))\n",
    "            n_sum = (1*temp_sparse_n).sum(1)\n",
    "            n_total[:] = n_sum\n",
    "            \n",
    "            '''\n",
    "            if(sum(consensus==110)<=0):\n",
    "                tot_cons_snps_N = cons_snps_N = 0\n",
    "            else:\n",
    "                matrix_n_cols = 1*(sparse_matrix>0)[:,consensus==110]\n",
    "                cons_snps_N = matrix_n_cols * np.transpose(matrix_n_cols)\n",
    "\n",
    "                tot_cons_snps_N = np.zeros((n_seqs, n_seqs))\n",
    "                tot_cons_snps_N_sum = matrix_n_cols.sum(1)\n",
    "                tot_cons_snps_N[:] = tot_cons_snps_N_sum\n",
    "            diff_n = n_total + np.transpose(n_total) - 2*n_comp + tot_cons_snps_N + np.transpose(tot_cons_snps_N) - 2*cons_snps_N\n",
    "            d = temp_total + np.transpose(temp_total) - total_differences_shared.todense() - d - diff_n\n",
    "            '''\n",
    "            \n",
    "\n",
    "    return d"
   ]
  },
  {
   "cell_type": "code",
   "execution_count": 63,
   "metadata": {},
   "outputs": [
    {
     "data": {
      "text/plain": [
       "array([[258., 258., 258., ..., 258., 258., 258.],\n",
       "       [258., 257., 257., ..., 257., 257., 257.],\n",
       "       [258., 257., 256., ..., 256., 256., 256.],\n",
       "       ...,\n",
       "       [258., 257., 256., ...,   2.,   2.,   2.],\n",
       "       [258., 257., 256., ...,   2.,   1.,   1.],\n",
       "       [258., 257., 256., ...,   2.,   1.,   0.]])"
      ]
     },
     "execution_count": 63,
     "metadata": {},
     "output_type": "execute_result"
    }
   ],
   "source": [
    "d = calculate_distance_matrix(triangleSparse, \"dist\", True)\n",
    "distance = np.asarray(d)\n",
    "distance"
   ]
  },
  {
   "cell_type": "code",
   "execution_count": 67,
   "metadata": {},
   "outputs": [
    {
     "data": {
      "image/png": "[encoded data removed]",
      "text/plain": [
       "<Figure size 432x288 with 1 Axes>"
      ]
     },
     "metadata": {
      "needs_background": "light"
     },
     "output_type": "display_data"
    }
   ],
   "source": [
    "# plot\n",
    "x = triangle\n",
    "y = distance\n",
    "\n",
    "fig, ax = plt.subplots()\n",
    "\n",
    "ax.scatter(x, y)\n",
    "\n",
    "plt.show()"
   ]
  }
 ],
 "metadata": {
  "kernelspec": {
   "display_name": "Python 3",
   "language": "python",
   "name": "python3"
  },
  "language_info": {
   "codemirror_mode": {
    "name": "ipython",
    "version": 3
   },
   "file_extension": ".py",
   "mimetype": "text/x-python",
   "name": "python",
   "nbconvert_exporter": "python",
   "pygments_lexer": "ipython3",
   "version": "3.9.1"
  },
  "orig_nbformat": 4,
  "vscode": {
   "interpreter": {
    "hash": "aee8b7b246df8f9039afb4144a1f6fd8d2ca17a180786b69acc140d282b71a49"
   }
  }
 },
 "nbformat": 4,
 "nbformat_minor": 2
}
