{
 "cells": [
  {
   "attachments": {},
   "cell_type": "markdown",
   "metadata": {},
   "source": [
    "Build network for a single chromosome (c13):"
   ]
  },
  {
   "cell_type": "code",
   "execution_count": 181,
   "metadata": {},
   "outputs": [],
   "source": [
    "## imports\n",
    "import numpy as np\n",
    "from bed_reader import open_bed\n",
    "import os\n",
    "from IPython.display import SVG\n",
    "from sknetwork.embedding import LouvainNE\n",
    "from sknetwork.visualization import svg_graph, svg_bigraph\n",
    "from networkx.algorithms import bipartite\n",
    "from scipy import sparse\n",
    "from sknetwork.hierarchy import LouvainHierarchy\n",
    "from sknetwork.hierarchy import cut_straight, dasgupta_score, tree_sampling_divergence\n",
    "from sknetwork.visualization import svg_graph, svg_bigraph, svg_dendrogram\n",
    "from sklearn.neighbors import NearestNeighbors\n",
    "import networkx as nx\n",
    "import scipy.stats as stats\n",
    "import pandas as pd\n",
    "from scipy.stats import chi2_contingency"
   ]
  },
  {
   "cell_type": "code",
   "execution_count": 182,
   "metadata": {},
   "outputs": [],
   "source": [
    "## get database workspace\n",
    "file_name = '/Users/rishasurana/Library/CloudStorage/GoogleDrive-rsurana@usc.edu/.shortcut-targets-by-id/1I-Ssaub3M29w33JyrvO7HVv9laffGidc/chromosome_17_bed_bim_fam_data/ukb22418_c13_b0_v2.bed'\n"
   ]
  },
  {
   "cell_type": "code",
   "execution_count": 183,
   "metadata": {},
   "outputs": [
    {
     "name": "stdout",
     "output_type": "stream",
     "text": [
      "(488377, 26186)\n"
     ]
    }
   ],
   "source": [
    "## read bed and select values\n",
    "bed = open_bed(file_name)\n",
    "print(bed.shape)"
   ]
  },
  {
   "cell_type": "code",
   "execution_count": 187,
   "metadata": {},
   "outputs": [
    {
     "name": "stdout",
     "output_type": "stream",
     "text": [
      "(25, 25)\n"
     ]
    }
   ],
   "source": [
    "values = bed.read(index=np.s_[0:25,0:25])\n",
    "print(values.shape)\n",
    "values = np.array(values)"
   ]
  },
  {
   "cell_type": "code",
   "execution_count": 188,
   "metadata": {},
   "outputs": [],
   "source": [
    "def cramers_V(var1,var2) :\n",
    "  crosstab =np.array(pd.crosstab(var1,var2)) # Cross table building\n",
    "  stat = chi2_contingency(crosstab)[0] # Keeping of the test statistic of the Chi2 test\n",
    "  obs = np.sum(crosstab) # Number of observations\n",
    "  mini = min(crosstab.shape)-1 # Take the minimum value between the columns and the rows of the cross table\n",
    "  \n",
    "  return stat/(obs*mini)"
   ]
  },
  {
   "cell_type": "code",
   "execution_count": 189,
   "metadata": {},
   "outputs": [
    {
     "ename": "ValueError",
     "evalue": "No data; `observed` has size 0.",
     "output_type": "error",
     "traceback": [
      "\u001b[0;31m---------------------------------------------------------------------------\u001b[0m",
      "\u001b[0;31mValueError\u001b[0m                                Traceback (most recent call last)",
      "\u001b[1;32m/Users/rishasurana/gene-graphs/cX.ipynb Cell 7\u001b[0m in \u001b[0;36m<module>\u001b[0;34m\u001b[0m\n\u001b[1;32m      <a href='vscode-notebook-cell:/Users/rishasurana/gene-graphs/cX.ipynb#X16sZmlsZQ%3D%3D?line=7'>8</a>\u001b[0m col \u001b[39m=\u001b[39m []\n\u001b[1;32m      <a href='vscode-notebook-cell:/Users/rishasurana/gene-graphs/cX.ipynb#X16sZmlsZQ%3D%3D?line=8'>9</a>\u001b[0m \u001b[39mfor\u001b[39;00m var2 \u001b[39min\u001b[39;00m values\u001b[39m.\u001b[39mT:\n\u001b[0;32m---> <a href='vscode-notebook-cell:/Users/rishasurana/gene-graphs/cX.ipynb#X16sZmlsZQ%3D%3D?line=9'>10</a>\u001b[0m   cramers \u001b[39m=\u001b[39mcramers_V(var1, var2) \u001b[39m# Cramer's V test\u001b[39;00m\n\u001b[1;32m     <a href='vscode-notebook-cell:/Users/rishasurana/gene-graphs/cX.ipynb#X16sZmlsZQ%3D%3D?line=10'>11</a>\u001b[0m   col\u001b[39m.\u001b[39mappend(\u001b[39mround\u001b[39m(cramers,\u001b[39m2\u001b[39m)) \u001b[39m# Keeping of the rounded value of the Cramer's V  \u001b[39;00m\n\u001b[1;32m     <a href='vscode-notebook-cell:/Users/rishasurana/gene-graphs/cX.ipynb#X16sZmlsZQ%3D%3D?line=11'>12</a>\u001b[0m rows\u001b[39m.\u001b[39mappend(col)\n",
      "\u001b[1;32m/Users/rishasurana/gene-graphs/cX.ipynb Cell 7\u001b[0m in \u001b[0;36mcramers_V\u001b[0;34m(var1, var2)\u001b[0m\n\u001b[1;32m      <a href='vscode-notebook-cell:/Users/rishasurana/gene-graphs/cX.ipynb#X16sZmlsZQ%3D%3D?line=0'>1</a>\u001b[0m \u001b[39mdef\u001b[39;00m \u001b[39mcramers_V\u001b[39m(var1,var2) :\n\u001b[1;32m      <a href='vscode-notebook-cell:/Users/rishasurana/gene-graphs/cX.ipynb#X16sZmlsZQ%3D%3D?line=1'>2</a>\u001b[0m   crosstab \u001b[39m=\u001b[39mnp\u001b[39m.\u001b[39marray(pd\u001b[39m.\u001b[39mcrosstab(var1,var2)) \u001b[39m# Cross table building\u001b[39;00m\n\u001b[0;32m----> <a href='vscode-notebook-cell:/Users/rishasurana/gene-graphs/cX.ipynb#X16sZmlsZQ%3D%3D?line=2'>3</a>\u001b[0m   stat \u001b[39m=\u001b[39m chi2_contingency(crosstab)[\u001b[39m0\u001b[39m] \u001b[39m# Keeping of the test statistic of the Chi2 test\u001b[39;00m\n\u001b[1;32m      <a href='vscode-notebook-cell:/Users/rishasurana/gene-graphs/cX.ipynb#X16sZmlsZQ%3D%3D?line=3'>4</a>\u001b[0m   obs \u001b[39m=\u001b[39m np\u001b[39m.\u001b[39msum(crosstab) \u001b[39m# Number of observations\u001b[39;00m\n\u001b[1;32m      <a href='vscode-notebook-cell:/Users/rishasurana/gene-graphs/cX.ipynb#X16sZmlsZQ%3D%3D?line=4'>5</a>\u001b[0m   mini \u001b[39m=\u001b[39m \u001b[39mmin\u001b[39m(crosstab\u001b[39m.\u001b[39mshape)\u001b[39m-\u001b[39m\u001b[39m1\u001b[39m \u001b[39m# Take the minimum value between the columns and the rows of the cross table\u001b[39;00m\n",
      "File \u001b[0;32m~/Library/Python/3.9/lib/python/site-packages/scipy/stats/contingency.py:269\u001b[0m, in \u001b[0;36mchi2_contingency\u001b[0;34m(observed, correction, lambda_)\u001b[0m\n\u001b[1;32m    267\u001b[0m     \u001b[39mraise\u001b[39;00m \u001b[39mValueError\u001b[39;00m(\u001b[39m\"\u001b[39m\u001b[39mAll values in `observed` must be nonnegative.\u001b[39m\u001b[39m\"\u001b[39m)\n\u001b[1;32m    268\u001b[0m \u001b[39mif\u001b[39;00m observed\u001b[39m.\u001b[39msize \u001b[39m==\u001b[39m \u001b[39m0\u001b[39m:\n\u001b[0;32m--> 269\u001b[0m     \u001b[39mraise\u001b[39;00m \u001b[39mValueError\u001b[39;00m(\u001b[39m\"\u001b[39m\u001b[39mNo data; `observed` has size 0.\u001b[39m\u001b[39m\"\u001b[39m)\n\u001b[1;32m    271\u001b[0m expected \u001b[39m=\u001b[39m expected_freq(observed)\n\u001b[1;32m    272\u001b[0m \u001b[39mif\u001b[39;00m np\u001b[39m.\u001b[39many(expected \u001b[39m==\u001b[39m \u001b[39m0\u001b[39m):\n\u001b[1;32m    273\u001b[0m     \u001b[39m# Include one of the positions where expected is zero in\u001b[39;00m\n\u001b[1;32m    274\u001b[0m     \u001b[39m# the exception message.\u001b[39;00m\n",
      "\u001b[0;31mValueError\u001b[0m: No data; `observed` has size 0."
     ]
    }
   ],
   "source": [
    "## build cramer's correlation matrix\n",
    "import warnings ## temporarily hide NaN division warnings\n",
    "warnings.filterwarnings(\"ignore\")\n",
    "\n",
    "rows= []\n",
    "\n",
    "for var1 in values:\n",
    "  col = []\n",
    "  for var2 in values.T:\n",
    "    cramers =cramers_V(var1, var2) # Cramer's V test\n",
    "    col.append(round(cramers,2)) # Keeping of the rounded value of the Cramer's V  \n",
    "  rows.append(col)\n",
    "  \n",
    "cramers_results = np.array(rows)\n",
    "df = pd.DataFrame(cramers_results)\n",
    "df"
   ]
  },
  {
   "cell_type": "code",
   "execution_count": null,
   "metadata": {},
   "outputs": [
    {
     "data": {
      "image/png": "[encoded data removed]",
      "text/plain": [
       "<Figure size 432x288 with 2 Axes>"
      ]
     },
     "metadata": {},
     "output_type": "display_data"
    }
   ],
   "source": [
    "## build correlation heatmap\n",
    "import seaborn as sns\n",
    "import matplotlib.pyplot as plt\n",
    "\n",
    "mask = np.zeros_like(df, dtype=np.bool)\n",
    "mask[np.triu_indices_from(mask)] = True\n",
    "\n",
    "with sns.axes_style(\"white\"):\n",
    "  ax = sns.heatmap(df, mask=mask,vmin=0., vmax=1, square=True)\n",
    "\n",
    "plt.show()"
   ]
  },
  {
   "cell_type": "code",
   "execution_count": null,
   "metadata": {},
   "outputs": [
    {
     "name": "stdout",
     "output_type": "stream",
     "text": [
      "Graph with 55 nodes and 53 edges\n"
     ]
    },
    {
     "data": {
      "image/svg+xml": "<svg xmlns=\"http://www.w3.org/2000/svg\" width=\"440\" height=\"340\">\n<defs><marker id=\"arrow-black\" markerWidth=\"10\" markerHeight=\"10\" refX=\"9\" refY=\"3\" orient=\"auto\">\n<path d=\"M0,0 L0,6 L9,3 z\" fill=\"black\"/></marker></defs>\n<circle cx=\"397\" cy=\"215\" r=\"7.0\" style=\"fill:gray;stroke:black;stroke-width:1.0\"/>\n<circle cx=\"184\" cy=\"220\" r=\"7.0\" style=\"fill:gray;stroke:black;stroke-width:1.0\"/>\n<circle cx=\"213\" cy=\"129\" r=\"7.0\" style=\"fill:gray;stroke:black;stroke-width:1.0\"/>\n<circle cx=\"131\" cy=\"296\" r=\"7.0\" style=\"fill:gray;stroke:black;stroke-width:1.0\"/>\n<circle cx=\"74\" cy=\"111\" r=\"7.0\" style=\"fill:gray;stroke:black;stroke-width:1.0\"/>\n<circle cx=\"203\" cy=\"46\" r=\"7.0\" style=\"fill:gray;stroke:black;stroke-width:1.0\"/>\n<circle cx=\"131\" cy=\"133\" r=\"7.0\" style=\"fill:gray;stroke:black;stroke-width:1.0\"/>\n<circle cx=\"387\" cy=\"200\" r=\"7.0\" style=\"fill:gray;stroke:black;stroke-width:1.0\"/>\n<circle cx=\"20\" cy=\"142\" r=\"7.0\" style=\"fill:gray;stroke:black;stroke-width:1.0\"/>\n<circle cx=\"420\" cy=\"57\" r=\"7.0\" style=\"fill:gray;stroke:black;stroke-width:1.0\"/>\n<circle cx=\"52\" cy=\"315\" r=\"7.0\" style=\"fill:gray;stroke:black;stroke-width:1.0\"/>\n<circle cx=\"104\" cy=\"153\" r=\"7.0\" style=\"fill:gray;stroke:black;stroke-width:1.0\"/>\n<circle cx=\"378\" cy=\"260\" r=\"7.0\" style=\"fill:gray;stroke:black;stroke-width:1.0\"/>\n<circle cx=\"326\" cy=\"26\" r=\"7.0\" style=\"fill:gray;stroke:black;stroke-width:1.0\"/>\n<circle cx=\"66\" cy=\"218\" r=\"7.0\" style=\"fill:gray;stroke:black;stroke-width:1.0\"/>\n<circle cx=\"193\" cy=\"304\" r=\"7.0\" style=\"fill:gray;stroke:black;stroke-width:1.0\"/>\n<circle cx=\"62\" cy=\"225\" r=\"7.0\" style=\"fill:gray;stroke:black;stroke-width:1.0\"/>\n<circle cx=\"30\" cy=\"314\" r=\"7.0\" style=\"fill:gray;stroke:black;stroke-width:1.0\"/>\n<circle cx=\"259\" cy=\"301\" r=\"7.0\" style=\"fill:gray;stroke:black;stroke-width:1.0\"/>\n<circle cx=\"229\" cy=\"289\" r=\"7.0\" style=\"fill:gray;stroke:black;stroke-width:1.0\"/>\n<circle cx=\"318\" cy=\"158\" r=\"7.0\" style=\"fill:gray;stroke:black;stroke-width:1.0\"/>\n<circle cx=\"72\" cy=\"280\" r=\"7.0\" style=\"fill:gray;stroke:black;stroke-width:1.0\"/>\n<circle cx=\"225\" cy=\"283\" r=\"7.0\" style=\"fill:gray;stroke:black;stroke-width:1.0\"/>\n<circle cx=\"93\" cy=\"24\" r=\"7.0\" style=\"fill:gray;stroke:black;stroke-width:1.0\"/>\n<circle cx=\"143\" cy=\"181\" r=\"7.0\" style=\"fill:gray;stroke:black;stroke-width:1.0\"/>\n<circle cx=\"267\" cy=\"28\" r=\"7.0\" style=\"fill:gray;stroke:black;stroke-width:1.0\"/>\n<circle cx=\"253\" cy=\"136\" r=\"7.0\" style=\"fill:gray;stroke:black;stroke-width:1.0\"/>\n<circle cx=\"349\" cy=\"20\" r=\"7.0\" style=\"fill:gray;stroke:black;stroke-width:1.0\"/>\n<circle cx=\"391\" cy=\"320\" r=\"7.0\" style=\"fill:gray;stroke:black;stroke-width:1.0\"/>\n<circle cx=\"387\" cy=\"171\" r=\"7.0\" style=\"fill:gray;stroke:black;stroke-width:1.0\"/>\n<circle cx=\"208\" cy=\"115\" r=\"7.0\" style=\"fill:gray;stroke:black;stroke-width:1.0\"/>\n<circle cx=\"389\" cy=\"174\" r=\"7.0\" style=\"fill:gray;stroke:black;stroke-width:1.0\"/>\n<circle cx=\"80\" cy=\"109\" r=\"7.0\" style=\"fill:gray;stroke:black;stroke-width:1.0\"/>\n<circle cx=\"82\" cy=\"39\" r=\"7.0\" style=\"fill:gray;stroke:black;stroke-width:1.0\"/>\n<circle cx=\"354\" cy=\"25\" r=\"7.0\" style=\"fill:gray;stroke:black;stroke-width:1.0\"/>\n<circle cx=\"191\" cy=\"230\" r=\"7.0\" style=\"fill:gray;stroke:black;stroke-width:1.0\"/>\n<circle cx=\"62\" cy=\"111\" r=\"7.0\" style=\"fill:gray;stroke:black;stroke-width:1.0\"/>\n<circle cx=\"125\" cy=\"197\" r=\"7.0\" style=\"fill:gray;stroke:black;stroke-width:1.0\"/>\n<circle cx=\"204\" cy=\"33\" r=\"7.0\" style=\"fill:gray;stroke:black;stroke-width:1.0\"/>\n<circle cx=\"87\" cy=\"160\" r=\"7.0\" style=\"fill:gray;stroke:black;stroke-width:1.0\"/>\n<circle cx=\"61\" cy=\"85\" r=\"7.0\" style=\"fill:gray;stroke:black;stroke-width:1.0\"/>\n<circle cx=\"394\" cy=\"249\" r=\"7.0\" style=\"fill:gray;stroke:black;stroke-width:1.0\"/>\n<circle cx=\"300\" cy=\"193\" r=\"7.0\" style=\"fill:gray;stroke:black;stroke-width:1.0\"/>\n<circle cx=\"227\" cy=\"117\" r=\"7.0\" style=\"fill:gray;stroke:black;stroke-width:1.0\"/>\n<circle cx=\"209\" cy=\"186\" r=\"7.0\" style=\"fill:gray;stroke:black;stroke-width:1.0\"/>\n<circle cx=\"289\" cy=\"39\" r=\"7.0\" style=\"fill:gray;stroke:black;stroke-width:1.0\"/>\n<circle cx=\"119\" cy=\"37\" r=\"7.0\" style=\"fill:gray;stroke:black;stroke-width:1.0\"/>\n<circle cx=\"114\" cy=\"160\" r=\"7.0\" style=\"fill:gray;stroke:black;stroke-width:1.0\"/>\n<circle cx=\"391\" cy=\"129\" r=\"7.0\" style=\"fill:gray;stroke:black;stroke-width:1.0\"/>\n<circle cx=\"140\" cy=\"146\" r=\"7.0\" style=\"fill:gray;stroke:black;stroke-width:1.0\"/>\n<circle cx=\"59\" cy=\"28\" r=\"7.0\" style=\"fill:gray;stroke:black;stroke-width:1.0\"/>\n<circle cx=\"85\" cy=\"159\" r=\"7.0\" style=\"fill:gray;stroke:black;stroke-width:1.0\"/>\n<circle cx=\"210\" cy=\"294\" r=\"7.0\" style=\"fill:gray;stroke:black;stroke-width:1.0\"/>\n<circle cx=\"317\" cy=\"208\" r=\"7.0\" style=\"fill:gray;stroke:black;stroke-width:1.0\"/>\n<circle cx=\"243\" cy=\"54\" r=\"7.0\" style=\"fill:gray;stroke:black;stroke-width:1.0\"/>\n</svg>",
      "text/plain": [
       "<IPython.core.display.SVG object>"
      ]
     },
     "execution_count": 180,
     "metadata": {},
     "output_type": "execute_result"
    }
   ],
   "source": [
    "## create adjacency matrix\n",
    "\n",
    "## entire set\n",
    "sA = sparse.csr_matrix(df)\n",
    "G = nx.Graph(df)\n",
    "\n",
    "\n",
    "## diagonal HL\n",
    "sAArray = np.diagonal(df)\n",
    "r,c = df.shape\n",
    "M = np.zeros((r,c))\n",
    "for x in range(0, r, 1):\n",
    "    M[x,x] = sAArray.T[x]\n",
    "    \n",
    "M = sparse.csr_matrix(M)\n",
    "G = nx.Graph(M)\n",
    "print(G)\n",
    "\n",
    "\n",
    "## continue\n",
    "A = nx.adjacency_matrix(G)\n",
    "sAA = sparse.csr_matrix(A)\n",
    "## train classifier and build graph\n",
    "louvain = LouvainNE(2)\n",
    "embedding = louvain.fit_transform(sAA)\n",
    "image = svg_graph(sAA, position=embedding)\n",
    "SVG(image)"
   ]
  }
 ],
 "metadata": {
  "kernelspec": {
   "display_name": "Python 3",
   "language": "python",
   "name": "python3"
  },
  "language_info": {
   "codemirror_mode": {
    "name": "ipython",
    "version": 3
   },
   "file_extension": ".py",
   "mimetype": "text/x-python",
   "name": "python",
   "nbconvert_exporter": "python",
   "pygments_lexer": "ipython3",
   "version": "3.9.1"
  },
  "orig_nbformat": 4,
  "vscode": {
   "interpreter": {
    "hash": "aee8b7b246df8f9039afb4144a1f6fd8d2ca17a180786b69acc140d282b71a49"
   }
  }
 },
 "nbformat": 4,
 "nbformat_minor": 2
}
