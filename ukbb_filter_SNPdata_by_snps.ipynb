{
 "cells": [
  {
   "cell_type": "code",
   "execution_count": 1,
   "metadata": {},
   "outputs": [],
   "source": [
    "import bed_reader as bd\n",
    "import numpy as np, pandas as pd \n",
    "import os, sys, itertools as it\n",
    "import glob"
   ]
  },
  {
   "cell_type": "code",
   "execution_count": 2,
   "metadata": {},
   "outputs": [],
   "source": [
    "# The rs7412(T) allele, also known as Arg176Cys, generally indicates the presence of an Apoε2 allele;\n",
    "# see the ApoE page for a full discussion of the ApoE alleles and their association with Alzheimer's disease.\n",
    "# Another SNP related to ApoE is rs429358.\n",
    "snps = ['rs7412']"
   ]
  },
  {
   "cell_type": "code",
   "execution_count": 3,
   "metadata": {},
   "outputs": [],
   "source": [
    "dir_snp = '/Users/rishasurana/Library/CloudStorage/GoogleDrive-rsurana@usc.edu/.shortcut-targets-by-id/1I-Ssaub3M29w33JyrvO7HVv9laffGidc/chromosome_17_bed_bim_fam_data'"
   ]
  },
  {
   "cell_type": "code",
   "execution_count": 23,
   "metadata": {},
   "outputs": [],
   "source": [
    "fnames_bim = sorted(glob.glob(os.path.join(dir_snp, '*.bim')))\n",
    "fnames_bed = sorted(glob.glob(os.path.join(dir_snp, '*.bed')))\n",
    "fnames_fam = sorted(glob.glob(os.path.join(dir_snp, '*.fam')))\n",
    "#fnames_bim, len(fnames_bim)\n",
    "#fnames_bed, len(fnames_bed)\n",
    "#fnames_fam, len(fnames_fam)"
   ]
  },
  {
   "cell_type": "code",
   "execution_count": 5,
   "metadata": {},
   "outputs": [],
   "source": [
    "from bed_reader import open_bed"
   ]
  },
  {
   "cell_type": "code",
   "execution_count": 6,
   "metadata": {},
   "outputs": [],
   "source": [
    "bed = open_bed('/Users/rishasurana/Library/CloudStorage/GoogleDrive-rsurana@usc.edu/.shortcut-targets-by-id/1I-Ssaub3M29w33JyrvO7HVv9laffGidc/chromosome_17_bed_bim_fam_data/ukb22418_c6_b0_v2.bed')"
   ]
  },
  {
   "cell_type": "code",
   "execution_count": 7,
   "metadata": {},
   "outputs": [],
   "source": [
    "import numpy as np"
   ]
  },
  {
   "cell_type": "code",
   "execution_count": 8,
   "metadata": {},
   "outputs": [
    {
     "data": {
      "text/plain": [
       "(488377, 2)"
      ]
     },
     "execution_count": 8,
     "metadata": {},
     "output_type": "execute_result"
    }
   ],
   "source": [
    "values = bed.read(index=np.s_[:,1:3])\n",
    "values.shape"
   ]
  },
  {
   "cell_type": "code",
   "execution_count": 9,
   "metadata": {
    "scrolled": true
   },
   "outputs": [
    {
     "data": {
      "text/plain": [
       "array([[2., 2.],\n",
       "       [2., 2.],\n",
       "       [1., 1.],\n",
       "       ...,\n",
       "       [2., 2.],\n",
       "       [2., 2.],\n",
       "       [2., 2.]], dtype=float32)"
      ]
     },
     "execution_count": 9,
     "metadata": {},
     "output_type": "execute_result"
    }
   ],
   "source": [
    "values"
   ]
  },
  {
   "cell_type": "code",
   "execution_count": 10,
   "metadata": {},
   "outputs": [],
   "source": [
    "import itertools as it"
   ]
  },
  {
   "cell_type": "code",
   "execution_count": 11,
   "metadata": {},
   "outputs": [
    {
     "name": "stdout",
     "output_type": "stream",
     "text": [
      "0.0 0.0\n",
      "0.0 1.0\n",
      "0.0 nan\n",
      "1.0 0.0\n",
      "1.0 1.0\n",
      "1.0 2.0\n",
      "1.0 nan\n",
      "2.0 1.0\n",
      "2.0 2.0\n",
      "2.0 nan\n",
      "nan 0.0\n",
      "nan 1.0\n",
      "nan 2.0\n",
      "nan nan\n"
     ]
    }
   ],
   "source": [
    "def k(x):\n",
    "    return str(x[0]) + ' ' + str(x[1])\n",
    "d = {}\n",
    "for i, group in it.groupby(\n",
    "    sorted(values, key=k), key=k):\n",
    "    print(i)\n",
    "    d[i] = len(list(group))"
   ]
  },
  {
   "cell_type": "code",
   "execution_count": 12,
   "metadata": {
    "scrolled": true
   },
   "outputs": [
    {
     "data": {
      "text/plain": [
       "{'0.0 0.0': 1112,\n",
       " '0.0 1.0': 2,\n",
       " '0.0 nan': 14,\n",
       " '1.0 0.0': 3,\n",
       " '1.0 1.0': 44760,\n",
       " '1.0 2.0': 42,\n",
       " '1.0 nan': 29,\n",
       " '2.0 1.0': 28,\n",
       " '2.0 2.0': 441004,\n",
       " '2.0 nan': 980,\n",
       " 'nan 0.0': 24,\n",
       " 'nan 1.0': 32,\n",
       " 'nan 2.0': 341,\n",
       " 'nan nan': 6}"
      ]
     },
     "execution_count": 12,
     "metadata": {},
     "output_type": "execute_result"
    }
   ],
   "source": [
    "d"
   ]
  },
  {
   "cell_type": "code",
   "execution_count": 13,
   "metadata": {},
   "outputs": [],
   "source": [
    "ids = bed.iid"
   ]
  },
  {
   "cell_type": "code",
   "execution_count": 14,
   "metadata": {},
   "outputs": [
    {
     "data": {
      "text/plain": [
       "'4872768'"
      ]
     },
     "execution_count": 14,
     "metadata": {},
     "output_type": "execute_result"
    }
   ],
   "source": [
    "ids[1]"
   ]
  },
  {
   "cell_type": "code",
   "execution_count": 24,
   "metadata": {},
   "outputs": [
    {
     "data": {
      "text/plain": [
       "\"\\nfor each chromosome, compute the pair-wise histogram of SNP frequencies for the 10000 subjects\\nfor each c, \\n    for snp rs74315467 in c, \\n        for snp rs12483981 in c, \\n            compute histogram: {\\n                'rs74315467 0, rs12483981 1':20, \\n                'rs74315467 0, rs12483981 2':100, \\n                \\n            }\\n\""
      ]
     },
     "execution_count": 24,
     "metadata": {},
     "output_type": "execute_result"
    }
   ],
   "source": [
    "'''\n",
    "for each chromosome, compute the pair-wise histogram of SNP frequencies for the 10000 subjects\n",
    "for each c, \n",
    "    for snp rs74315467 in c, \n",
    "        for snp rs12483981 in c, \n",
    "            compute histogram: {\n",
    "                'rs74315467 0, rs12483981 1':20, \n",
    "                'rs74315467 0, rs12483981 2':100, \n",
    "                \n",
    "            }\n",
    "'''"
   ]
  }
 ],
 "metadata": {
  "kernelspec": {
   "display_name": "Python 3",
   "language": "python",
   "name": "python3"
  },
  "language_info": {
   "codemirror_mode": {
    "name": "ipython",
    "version": 3
   },
   "file_extension": ".py",
   "mimetype": "text/x-python",
   "name": "python",
   "nbconvert_exporter": "python",
   "pygments_lexer": "ipython3",
   "version": "3.9.1"
  },
  "vscode": {
   "interpreter": {
    "hash": "aee8b7b246df8f9039afb4144a1f6fd8d2ca17a180786b69acc140d282b71a49"
   }
  }
 },
 "nbformat": 4,
 "nbformat_minor": 2
}
