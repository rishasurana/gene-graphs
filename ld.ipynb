{
 "cells": [
  {
   "cell_type": "code",
   "execution_count": 34,
   "metadata": {},
   "outputs": [],
   "source": [
    " ## imports\n",
    "import numpy as np\n",
    "import networkx as nx\n",
    "import scipy\n",
    "import scipy.stats as stats\n",
    "import pandas as pd\n",
    "import sklearn as sk\n",
    "import itertools\n",
    "import os\n",
    "from matplotlib import pyplot as plt \n",
    "from bed_reader import open_bed\n",
    "from IPython.display import SVG\n",
    "from sknetwork.embedding import LouvainNE\n",
    "from sknetwork.embedding import LouvainEmbedding\n",
    "from sknetwork.visualization import svg_graph, svg_bigraph\n",
    "from networkx.algorithms import bipartite\n",
    "from networkx.algorithms import community\n",
    "from scipy import sparse\n",
    "from sknetwork.hierarchy import LouvainHierarchy\n",
    "from sknetwork.hierarchy import cut_straight, dasgupta_score, tree_sampling_divergence\n",
    "from sknetwork.visualization import svg_graph, svg_bigraph, svg_dendrogram\n",
    "from sklearn.neighbors import NearestNeighbors\n",
    "from scipy.stats import chi2_contingency\n",
    "from scipy.sparse import diags\n",
    "from scipy.sparse import csr_matrix"
   ]
  },
  {
   "cell_type": "code",
   "execution_count": 35,
   "metadata": {},
   "outputs": [],
   "source": [
    "data = pd.read_table('/Users/rishasurana/Library/CloudStorage/GoogleDrive-rsurana@usc.edu/.shortcut-targets-by-id/19VxhyuBkLblsX697psfjAco6p25esQrH/chrom19/LD_files_Plink-outputs/ld_c19_r2=0_kb=1000000', header = 0, delim_whitespace=any)\n",
    "x = data[\"BP_A\"]\n",
    "y = data[\"BP_B\"]\n",
    "r = data[\"R2\"]"
   ]
  },
  {
   "cell_type": "code",
   "execution_count": 36,
   "metadata": {},
   "outputs": [
    {
     "name": "stdout",
     "output_type": "stream",
     "text": [
      "(228881,)\n",
      "(228881,)\n",
      "(228881,)\n"
     ]
    }
   ],
   "source": [
    "print(x.shape)\n",
    "print(y.shape)\n",
    "print(r.shape)"
   ]
  },
  {
   "cell_type": "code",
   "execution_count": 37,
   "metadata": {},
   "outputs": [
    {
     "data": {
      "text/plain": [
       "<59097934x59097934 sparse matrix of type '<class 'numpy.float64'>'\n",
       "\twith 228881 stored elements in Compressed Sparse Row format>"
      ]
     },
     "execution_count": 37,
     "metadata": {},
     "output_type": "execute_result"
    }
   ],
   "source": [
    "sparseMatrix = csr_matrix((r, (x, y)))\n",
    "\n",
    "size = 0\n",
    "if sparseMatrix.shape[1] > sparseMatrix.shape[0]:\n",
    "    size = sparseMatrix.shape[1]\n",
    "else:\n",
    "    size = sparseMatrix.shape[0]\n",
    "\n",
    "sparseSquare = csr_matrix((r, (x, y)), shape=(size, size))\n",
    "sparseSquare"
   ]
  },
  {
   "cell_type": "code",
   "execution_count": 38,
   "metadata": {},
   "outputs": [
    {
     "name": "stdout",
     "output_type": "stream",
     "text": [
      "  (110783, 260137)\t4.57563e-07\n",
      "  (110783, 260970)\t1.09989e-06\n",
      "  (110783, 267039)\t3.82608e-07\n",
      "  (110783, 267614)\t1.95714e-08\n",
      "  (110783, 277715)\t5.81458e-07\n",
      "  (110783, 280712)\t2.5929e-07\n",
      "  (110783, 282181)\t1.82225e-08\n",
      "  (110783, 282753)\t7.57253e-06\n",
      "  (260137, 260970)\t0.0267291\n",
      "  (260137, 267039)\t0.0359147\n",
      "  (260137, 267614)\t0.0332863\n",
      "  (260137, 272444)\t0.00141327\n",
      "  (260137, 277715)\t0.0387689\n",
      "  (260137, 280712)\t0.000378773\n",
      "  (260137, 282181)\t2.84337e-05\n",
      "  (260137, 282753)\t0.00939122\n",
      "  (260137, 287703)\t0.000228773\n",
      "  (260970, 267039)\t0.663635\n",
      "  (260970, 267614)\t0.641319\n",
      "  (260970, 272444)\t0.0521433\n",
      "  (260970, 277715)\t0.495677\n",
      "  (260970, 280712)\t0.0148012\n",
      "  (260970, 282181)\t0.000131724\n",
      "  (260970, 282753)\t0.461188\n",
      "  (260970, 287703)\t0.00721459\n",
      "  :\t:\n",
      "  (59085461, 59093464)\t0.015238\n",
      "  (59085461, 59094374)\t0.000171087\n",
      "  (59085461, 59096403)\t0.000461115\n",
      "  (59085461, 59097933)\t0.000359627\n",
      "  (59087551, 59089792)\t0.000347049\n",
      "  (59087551, 59093239)\t0.0079401\n",
      "  (59087551, 59093464)\t0.00803689\n",
      "  (59087551, 59094374)\t7.95579e-05\n",
      "  (59087551, 59096403)\t0.000258332\n",
      "  (59087551, 59097933)\t0.000240909\n",
      "  (59089792, 59093239)\t0.0417284\n",
      "  (59089792, 59093464)\t0.0412681\n",
      "  (59089792, 59094374)\t0.000347987\n",
      "  (59089792, 59096403)\t0.00132042\n",
      "  (59089792, 59097933)\t0.000937742\n",
      "  (59093239, 59093464)\t0.992294\n",
      "  (59093239, 59094374)\t0.00988888\n",
      "  (59093239, 59096403)\t0.0408376\n",
      "  (59093239, 59097933)\t0.0303296\n",
      "  (59093464, 59094374)\t0.00997614\n",
      "  (59093464, 59096403)\t0.0403409\n",
      "  (59093464, 59097933)\t0.0300621\n",
      "  (59094374, 59096403)\t0.000492073\n",
      "  (59094374, 59097933)\t0.000291382\n",
      "  (59096403, 59097933)\t0.000795985\n"
     ]
    }
   ],
   "source": [
    "print(sparseSquare)"
   ]
  },
  {
   "cell_type": "code",
   "execution_count": 33,
   "metadata": {},
   "outputs": [
    {
     "ename": "NameError",
     "evalue": "name 'smallSparse' is not defined",
     "output_type": "error",
     "traceback": [
      "\u001b[0;31m---------------------------------------------------------------------------\u001b[0m",
      "\u001b[0;31mNameError\u001b[0m                                 Traceback (most recent call last)",
      "\u001b[1;32m/Users/rishasurana/gene-graphs/ld.ipynb Cell 5\u001b[0m in \u001b[0;36m<module>\u001b[0;34m\u001b[0m\n\u001b[1;32m      <a href='vscode-notebook-cell:/Users/rishasurana/gene-graphs/ld.ipynb#X12sZmlsZQ%3D%3D?line=0'>1</a>\u001b[0m \u001b[39m# binarize\u001b[39;00m\n\u001b[0;32m----> <a href='vscode-notebook-cell:/Users/rishasurana/gene-graphs/ld.ipynb#X12sZmlsZQ%3D%3D?line=1'>2</a>\u001b[0m dfSparse \u001b[39m=\u001b[39m smallSparse \u001b[39m# convert data frame to a sparse matrix (runs in O(n))\u001b[39;00m\n\u001b[1;32m      <a href='vscode-notebook-cell:/Users/rishasurana/gene-graphs/ld.ipynb#X12sZmlsZQ%3D%3D?line=2'>3</a>\u001b[0m \u001b[39mfor\u001b[39;00m i \u001b[39min\u001b[39;00m \u001b[39mrange\u001b[39m(np\u001b[39m.\u001b[39mshape(dfSparse)[\u001b[39m0\u001b[39m]):\n\u001b[1;32m      <a href='vscode-notebook-cell:/Users/rishasurana/gene-graphs/ld.ipynb#X12sZmlsZQ%3D%3D?line=3'>4</a>\u001b[0m     \u001b[39mfor\u001b[39;00m j \u001b[39min\u001b[39;00m \u001b[39mrange\u001b[39m(np\u001b[39m.\u001b[39mshape(dfSparse)[\u001b[39m1\u001b[39m]):\n",
      "\u001b[0;31mNameError\u001b[0m: name 'smallSparse' is not defined"
     ]
    }
   ],
   "source": [
    "# binarize\n",
    "dfSparse = sparseSquare # convert data frame to a sparse matrix (runs in O(n))\n",
    "for i in range(np.shape(dfSparse)[0]):\n",
    "    for j in range(np.shape(dfSparse)[1]):\n",
    "        if dfSparse[i,j] <= 0.1:\n",
    "            dfSparse[i,j] = 0\n",
    "        else:\n",
    "            dfSparse[i,j] = 1\n",
    "\n",
    "print(dfSparse)\n"
   ]
  },
  {
   "cell_type": "code",
   "execution_count": null,
   "metadata": {},
   "outputs": [
    {
     "ename": "KeyboardInterrupt",
     "evalue": "",
     "output_type": "error",
     "traceback": [
      "\u001b[0;31m---------------------------------------------------------------------------\u001b[0m",
      "\u001b[0;31mKeyboardInterrupt\u001b[0m                         Traceback (most recent call last)",
      "\u001b[1;32m/Users/rishasurana/gene-graphs/ld.ipynb Cell 6\u001b[0m in \u001b[0;36m<module>\u001b[0;34m\u001b[0m\n\u001b[1;32m      <a href='vscode-notebook-cell:/Users/rishasurana/gene-graphs/ld.ipynb#W4sZmlsZQ%3D%3D?line=0'>1</a>\u001b[0m \u001b[39m# create adjacency matrix \u001b[39;00m\n\u001b[0;32m----> <a href='vscode-notebook-cell:/Users/rishasurana/gene-graphs/ld.ipynb#W4sZmlsZQ%3D%3D?line=1'>2</a>\u001b[0m G \u001b[39m=\u001b[39m nx\u001b[39m.\u001b[39;49mGraph(sparseSquare) \u001b[39m# create graph from sparse data [UPDATE THIS]\u001b[39;00m\n\u001b[1;32m      <a href='vscode-notebook-cell:/Users/rishasurana/gene-graphs/ld.ipynb#W4sZmlsZQ%3D%3D?line=2'>3</a>\u001b[0m adjacency \u001b[39m=\u001b[39m nx\u001b[39m.\u001b[39madjacency_matrix(G) \u001b[39m# create Adjacency matrix\u001b[39;00m\n\u001b[1;32m      <a href='vscode-notebook-cell:/Users/rishasurana/gene-graphs/ld.ipynb#W4sZmlsZQ%3D%3D?line=3'>4</a>\u001b[0m adjacencyMatrix \u001b[39m=\u001b[39m sparse\u001b[39m.\u001b[39mcsr_matrix(adjacency) \u001b[39m# convert array to sparse row matrix form\u001b[39;00m\n",
      "File \u001b[0;32m~/Library/Python/3.9/lib/python/site-packages/networkx/classes/graph.py:370\u001b[0m, in \u001b[0;36mGraph.__init__\u001b[0;34m(self, incoming_graph_data, **attr)\u001b[0m\n\u001b[1;32m    368\u001b[0m \u001b[39m# attempt to load graph with data\u001b[39;00m\n\u001b[1;32m    369\u001b[0m \u001b[39mif\u001b[39;00m incoming_graph_data \u001b[39mis\u001b[39;00m \u001b[39mnot\u001b[39;00m \u001b[39mNone\u001b[39;00m:\n\u001b[0;32m--> 370\u001b[0m     convert\u001b[39m.\u001b[39;49mto_networkx_graph(incoming_graph_data, create_using\u001b[39m=\u001b[39;49m\u001b[39mself\u001b[39;49m)\n\u001b[1;32m    371\u001b[0m \u001b[39m# load graph attributes (must be after convert)\u001b[39;00m\n\u001b[1;32m    372\u001b[0m \u001b[39mself\u001b[39m\u001b[39m.\u001b[39mgraph\u001b[39m.\u001b[39mupdate(attr)\n",
      "File \u001b[0;32m~/Library/Python/3.9/lib/python/site-packages/networkx/convert.py:158\u001b[0m, in \u001b[0;36mto_networkx_graph\u001b[0;34m(data, create_using, multigraph_input)\u001b[0m\n\u001b[1;32m    156\u001b[0m \u001b[39mif\u001b[39;00m \u001b[39mhasattr\u001b[39m(data, \u001b[39m\"\u001b[39m\u001b[39mformat\u001b[39m\u001b[39m\"\u001b[39m):\n\u001b[1;32m    157\u001b[0m     \u001b[39mtry\u001b[39;00m:\n\u001b[0;32m--> 158\u001b[0m         \u001b[39mreturn\u001b[39;00m nx\u001b[39m.\u001b[39;49mfrom_scipy_sparse_array(data, create_using\u001b[39m=\u001b[39;49mcreate_using)\n\u001b[1;32m    159\u001b[0m     \u001b[39mexcept\u001b[39;00m \u001b[39mException\u001b[39;00m \u001b[39mas\u001b[39;00m err:\n\u001b[1;32m    160\u001b[0m         \u001b[39mraise\u001b[39;00m nx\u001b[39m.\u001b[39mNetworkXError(\n\u001b[1;32m    161\u001b[0m             \u001b[39m\"\u001b[39m\u001b[39mInput is not a correct scipy sparse array type.\u001b[39m\u001b[39m\"\u001b[39m\n\u001b[1;32m    162\u001b[0m         ) \u001b[39mfrom\u001b[39;00m \u001b[39merr\u001b[39;00m\n",
      "File \u001b[0;32m~/Library/Python/3.9/lib/python/site-packages/networkx/convert_matrix.py:732\u001b[0m, in \u001b[0;36mfrom_scipy_sparse_array\u001b[0;34m(A, parallel_edges, create_using, edge_attribute)\u001b[0m\n\u001b[1;32m    730\u001b[0m     \u001b[39mraise\u001b[39;00m nx\u001b[39m.\u001b[39mNetworkXError(\u001b[39mf\u001b[39m\u001b[39m\"\u001b[39m\u001b[39mAdjacency matrix not square: nx,ny=\u001b[39m\u001b[39m{\u001b[39;00mA\u001b[39m.\u001b[39mshape\u001b[39m}\u001b[39;00m\u001b[39m\"\u001b[39m)\n\u001b[1;32m    731\u001b[0m \u001b[39m# Make sure we get even the isolated nodes of the graph.\u001b[39;00m\n\u001b[0;32m--> 732\u001b[0m G\u001b[39m.\u001b[39;49madd_nodes_from(\u001b[39mrange\u001b[39;49m(n))\n\u001b[1;32m    733\u001b[0m \u001b[39m# Create an iterable over (u, v, w) triples and for each triple, add an\u001b[39;00m\n\u001b[1;32m    734\u001b[0m \u001b[39m# edge from u to v with weight w.\u001b[39;00m\n\u001b[1;32m    735\u001b[0m triples \u001b[39m=\u001b[39m _generate_weighted_edges(A)\n",
      "File \u001b[0;32m~/Library/Python/3.9/lib/python/site-packages/networkx/classes/graph.py:637\u001b[0m, in \u001b[0;36mGraph.add_nodes_from\u001b[0;34m(self, nodes_for_adding, **attr)\u001b[0m\n\u001b[1;32m    635\u001b[0m         \u001b[39mraise\u001b[39;00m \u001b[39mValueError\u001b[39;00m(\u001b[39m\"\u001b[39m\u001b[39mNone cannot be a node\u001b[39m\u001b[39m\"\u001b[39m)\n\u001b[1;32m    636\u001b[0m     \u001b[39mself\u001b[39m\u001b[39m.\u001b[39m_adj[n] \u001b[39m=\u001b[39m \u001b[39mself\u001b[39m\u001b[39m.\u001b[39madjlist_inner_dict_factory()\n\u001b[0;32m--> 637\u001b[0m     \u001b[39mself\u001b[39m\u001b[39m.\u001b[39m_node[n] \u001b[39m=\u001b[39m \u001b[39mself\u001b[39;49m\u001b[39m.\u001b[39;49mnode_attr_dict_factory()\n\u001b[1;32m    638\u001b[0m \u001b[39mself\u001b[39m\u001b[39m.\u001b[39m_node[n]\u001b[39m.\u001b[39mupdate(newdict)\n",
      "\u001b[0;31mKeyboardInterrupt\u001b[0m: "
     ]
    }
   ],
   "source": [
    "# create adjacency matrix \n",
    "G = nx.Graph(sparseSquare) # create graph from sparse data [UPDATE THIS]\n",
    "adjacency = nx.adjacency_matrix(G) # create Adjacency matrix\n",
    "adjacencyMatrix = sparse.csr_matrix(adjacency) # convert array to sparse row matrix form\n",
    "print(adjacencyMatrix.shape[0])"
   ]
  },
  {
   "cell_type": "code",
   "execution_count": null,
   "metadata": {},
   "outputs": [
    {
     "ename": "ValueError",
     "evalue": "The input matrix is empty.",
     "output_type": "error",
     "traceback": [
      "\u001b[0;31m---------------------------------------------------------------------------\u001b[0m",
      "\u001b[0;31mValueError\u001b[0m                                Traceback (most recent call last)",
      "\u001b[1;32m/Users/rishasurana/gene-graphs/ld.ipynb Cell 7\u001b[0m in \u001b[0;36m<module>\u001b[0;34m\u001b[0m\n\u001b[1;32m      <a href='vscode-notebook-cell:/Users/rishasurana/gene-graphs/ld.ipynb#X16sZmlsZQ%3D%3D?line=0'>1</a>\u001b[0m \u001b[39m## train classifier and build graph\u001b[39;00m\n\u001b[1;32m      <a href='vscode-notebook-cell:/Users/rishasurana/gene-graphs/ld.ipynb#X16sZmlsZQ%3D%3D?line=1'>2</a>\u001b[0m louvain \u001b[39m=\u001b[39m LouvainNE(\u001b[39m2\u001b[39m)\n\u001b[0;32m----> <a href='vscode-notebook-cell:/Users/rishasurana/gene-graphs/ld.ipynb#X16sZmlsZQ%3D%3D?line=2'>3</a>\u001b[0m embedding \u001b[39m=\u001b[39m louvain\u001b[39m.\u001b[39;49mfit_transform(adjacencyMatrix)\n\u001b[1;32m      <a href='vscode-notebook-cell:/Users/rishasurana/gene-graphs/ld.ipynb#X16sZmlsZQ%3D%3D?line=5'>6</a>\u001b[0m image \u001b[39m=\u001b[39m svg_graph(adjacencyMatrix, position\u001b[39m=\u001b[39membedding)\n\u001b[1;32m      <a href='vscode-notebook-cell:/Users/rishasurana/gene-graphs/ld.ipynb#X16sZmlsZQ%3D%3D?line=7'>8</a>\u001b[0m \u001b[39m#show graph\u001b[39;00m\n",
      "File \u001b[0;32m~/Library/Python/3.9/lib/python/site-packages/sknetwork/embedding/base.py:41\u001b[0m, in \u001b[0;36mBaseEmbedding.fit_transform\u001b[0;34m(self, *args, **kwargs)\u001b[0m\n\u001b[1;32m     33\u001b[0m \u001b[39mdef\u001b[39;00m \u001b[39mfit_transform\u001b[39m(\u001b[39mself\u001b[39m, \u001b[39m*\u001b[39margs, \u001b[39m*\u001b[39m\u001b[39m*\u001b[39mkwargs) \u001b[39m-\u001b[39m\u001b[39m>\u001b[39m np\u001b[39m.\u001b[39mndarray:\n\u001b[1;32m     34\u001b[0m     \u001b[39m\"\"\"Fit to data and return the embedding. Same parameters as the ``fit`` method.\u001b[39;00m\n\u001b[1;32m     35\u001b[0m \n\u001b[1;32m     36\u001b[0m \u001b[39m    Returns\u001b[39;00m\n\u001b[0;32m   (...)\u001b[0m\n\u001b[1;32m     39\u001b[0m \u001b[39m        Embedding.\u001b[39;00m\n\u001b[1;32m     40\u001b[0m \u001b[39m    \"\"\"\u001b[39;00m\n\u001b[0;32m---> 41\u001b[0m     \u001b[39mself\u001b[39;49m\u001b[39m.\u001b[39;49mfit(\u001b[39m*\u001b[39;49margs, \u001b[39m*\u001b[39;49m\u001b[39m*\u001b[39;49mkwargs)\n\u001b[1;32m     42\u001b[0m     \u001b[39mreturn\u001b[39;00m \u001b[39mself\u001b[39m\u001b[39m.\u001b[39membedding_\n",
      "File \u001b[0;32m~/Library/Python/3.9/lib/python/site-packages/sknetwork/embedding/louvain_hierarchy.py:132\u001b[0m, in \u001b[0;36mLouvainNE.fit\u001b[0;34m(self, input_matrix, force_bipartite)\u001b[0m\n\u001b[1;32m    119\u001b[0m \u001b[39m\"\"\"Embedding of graphs from a clustering obtained with Louvain.\u001b[39;00m\n\u001b[1;32m    120\u001b[0m \n\u001b[1;32m    121\u001b[0m \u001b[39mParameters\u001b[39;00m\n\u001b[0;32m   (...)\u001b[0m\n\u001b[1;32m    129\u001b[0m \u001b[39mself: :class:`LouvainNE`\u001b[39;00m\n\u001b[1;32m    130\u001b[0m \u001b[39m\"\"\"\u001b[39;00m\n\u001b[1;32m    131\u001b[0m \u001b[39m# input\u001b[39;00m\n\u001b[0;32m--> 132\u001b[0m input_matrix \u001b[39m=\u001b[39m check_format(input_matrix)\n\u001b[1;32m    133\u001b[0m adjacency, \u001b[39mself\u001b[39m\u001b[39m.\u001b[39mbipartite \u001b[39m=\u001b[39m get_adjacency(input_matrix, force_bipartite\u001b[39m=\u001b[39mforce_bipartite)\n\u001b[1;32m    134\u001b[0m n \u001b[39m=\u001b[39m adjacency\u001b[39m.\u001b[39mshape[\u001b[39m0\u001b[39m]\n",
      "File \u001b[0;32m~/Library/Python/3.9/lib/python/site-packages/sknetwork/utils/check.py:133\u001b[0m, in \u001b[0;36mcheck_format\u001b[0;34m(input_matrix)\u001b[0m\n\u001b[1;32m    131\u001b[0m input_matrix \u001b[39m=\u001b[39m sparse\u001b[39m.\u001b[39mcsr_matrix(input_matrix)\n\u001b[1;32m    132\u001b[0m \u001b[39mif\u001b[39;00m input_matrix\u001b[39m.\u001b[39mnnz \u001b[39m==\u001b[39m \u001b[39m0\u001b[39m:\n\u001b[0;32m--> 133\u001b[0m     \u001b[39mraise\u001b[39;00m \u001b[39mValueError\u001b[39;00m(\u001b[39m'\u001b[39m\u001b[39mThe input matrix is empty.\u001b[39m\u001b[39m'\u001b[39m)\n\u001b[1;32m    134\u001b[0m \u001b[39mreturn\u001b[39;00m input_matrix\n",
      "\u001b[0;31mValueError\u001b[0m: The input matrix is empty."
     ]
    }
   ],
   "source": [
    "## train classifier and build graph\n",
    "louvain = LouvainNE(2)\n",
    "embedding = louvain.fit_transform(adjacencyMatrix)\n",
    "\n",
    "\n",
    "image = svg_graph(adjacencyMatrix, position=embedding)\n",
    "\n",
    "#show graph\n",
    "SVG(image)"
   ]
  }
 ],
 "metadata": {
  "kernelspec": {
   "display_name": "Python 3",
   "language": "python",
   "name": "python3"
  },
  "language_info": {
   "codemirror_mode": {
    "name": "ipython",
    "version": 3
   },
   "file_extension": ".py",
   "mimetype": "text/x-python",
   "name": "python",
   "nbconvert_exporter": "python",
   "pygments_lexer": "ipython3",
   "version": "3.9.1"
  },
  "orig_nbformat": 4,
  "vscode": {
   "interpreter": {
    "hash": "aee8b7b246df8f9039afb4144a1f6fd8d2ca17a180786b69acc140d282b71a49"
   }
  }
 },
 "nbformat": 4,
 "nbformat_minor": 2
}
