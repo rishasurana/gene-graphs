{
 "cells": [
  {
   "cell_type": "code",
   "execution_count": 5,
   "metadata": {},
   "outputs": [
    {
     "name": "stdout",
     "output_type": "stream",
     "text": [
      "Defaulting to user installation because normal site-packages is not writeable\n",
      "Requirement already satisfied: scikit-network in /Users/rishasurana/Library/Python/3.9/lib/python/site-packages (0.28.3)\n",
      "Requirement already satisfied: numpy>=1.22.0 in /Users/rishasurana/Library/Python/3.9/lib/python/site-packages (from scikit-network) (1.23.4)\n",
      "Requirement already satisfied: scipy>=1.7.3 in /Users/rishasurana/Library/Python/3.9/lib/python/site-packages (from scikit-network) (1.9.3)\n",
      "Note: you may need to restart the kernel to use updated packages.\n"
     ]
    }
   ],
   "source": [
    "pip install scikit-network"
   ]
  },
  {
   "cell_type": "code",
   "execution_count": 6,
   "metadata": {},
   "outputs": [
    {
     "name": "stdout",
     "output_type": "stream",
     "text": [
      "[[ 1.  0. nan  0.]\n",
      " [ 2.  0. nan  2.]\n",
      " [ 0.  1.  2.  0.]]\n"
     ]
    }
   ],
   "source": [
    "# test bedreader\n",
    "import numpy as np\n",
    "from bed_reader import open_bed, sample_file\n",
    "\n",
    "file_name = sample_file(\"small.bed\")\n",
    "bed = open_bed(file_name)\n",
    "val = bed.read()\n",
    "print(val)\n",
    "\n",
    "del bed"
   ]
  },
  {
   "cell_type": "code",
   "execution_count": 7,
   "metadata": {},
   "outputs": [],
   "source": [
    "import numpy as np\n",
    "from bed_reader import open_bed\n",
    "import os\n"
   ]
  },
  {
   "cell_type": "code",
   "execution_count": 8,
   "metadata": {},
   "outputs": [
    {
     "name": "stdout",
     "output_type": "stream",
     "text": [
      "True\n"
     ]
    }
   ],
   "source": [
    "file_name = '/Users/rishasurana/Library/CloudStorage/GoogleDrive-rsurana@usc.edu/.shortcut-targets-by-id/1I-Ssaub3M29w33JyrvO7HVv9laffGidc/chromosome_17_bed_bim_fam_data/ukb22418_c13_b0_v2.bed'\n",
    "print(os.path.isfile(file_name))\n",
    "bed = open_bed(file_name)"
   ]
  },
  {
   "cell_type": "code",
   "execution_count": 9,
   "metadata": {},
   "outputs": [
    {
     "name": "stdout",
     "output_type": "stream",
     "text": [
      "/Users/rishasurana/gene-graphs\n"
     ]
    }
   ],
   "source": [
    "print(os.getcwd())"
   ]
  },
  {
   "cell_type": "code",
   "execution_count": 10,
   "metadata": {},
   "outputs": [
    {
     "data": {
      "text/plain": [
       "array([[0., 2.],\n",
       "       [0., 2.],\n",
       "       [0., 2.],\n",
       "       ...,\n",
       "       [0., 1.],\n",
       "       [0., 1.],\n",
       "       [0., 2.]], dtype=float32)"
      ]
     },
     "execution_count": 10,
     "metadata": {},
     "output_type": "execute_result"
    }
   ],
   "source": [
    "values = bed.read(index=np.s_[:,1:3])\n",
    "values.shape\n",
    "values"
   ]
  },
  {
   "cell_type": "code",
   "execution_count": 11,
   "metadata": {},
   "outputs": [],
   "source": [
    "from IPython.display import SVG\n",
    "from sknetwork.embedding import LouvainNE\n",
    "from sknetwork.visualization import svg_graph, svg_bigraph"
   ]
  },
  {
   "cell_type": "code",
   "execution_count": 12,
   "metadata": {},
   "outputs": [
    {
     "data": {
      "image/svg+xml": "<svg xmlns=\"http://www.w3.org/2000/svg\" width=\"440\" height=\"340\">\n<path stroke-width=\"1\" stroke=\"black\" d=\"M 253 27 255 27\"/>\n<path stroke-width=\"1\" stroke=\"black\" d=\"M 64 234 20 227\"/>\n<path stroke-width=\"1\" stroke=\"black\" d=\"M 66 232 66 232\"/>\n<path stroke-width=\"1\" stroke=\"black\" d=\"M 66 232 64 234\"/>\n<path stroke-width=\"1\" stroke=\"black\" d=\"M 66 232 20 227\"/>\n<path stroke-width=\"1\" stroke=\"black\" d=\"M 363 320 363 320\"/>\n<path stroke-width=\"1\" stroke=\"black\" d=\"M 363 320 420 300\"/>\n<path stroke-width=\"1\" stroke=\"black\" d=\"M 64 234 255 20\"/>\n<path stroke-width=\"1\" stroke=\"black\" d=\"M 64 234 66 232\"/>\n<path stroke-width=\"1\" stroke=\"black\" d=\"M 64 234 64 234\"/>\n<path stroke-width=\"1\" stroke=\"black\" d=\"M 64 234 420 300\"/>\n<path stroke-width=\"1\" stroke=\"black\" d=\"M 20 227 255 20\"/>\n<path stroke-width=\"1\" stroke=\"black\" d=\"M 20 227 20 227\"/>\n<path stroke-width=\"1\" stroke=\"black\" d=\"M 20 227 420 300\"/>\n<path stroke-width=\"1\" stroke=\"black\" d=\"M 363 320 66 232\"/>\n<path stroke-width=\"1\" stroke=\"black\" d=\"M 363 320 363 320\"/>\n<path stroke-width=\"1\" stroke=\"black\" d=\"M 64 234 64 234\"/>\n<path stroke-width=\"1\" stroke=\"black\" d=\"M 64 234 66 232\"/>\n<path stroke-width=\"1\" stroke=\"black\" d=\"M 66 232 420 300\"/>\n<path stroke-width=\"1\" stroke=\"black\" d=\"M 66 232 420 300\"/>\n<path stroke-width=\"1\" stroke=\"black\" d=\"M 255 27 253 27\"/>\n<path stroke-width=\"1\" stroke=\"black\" d=\"M 255 27 255 27\"/>\n<path stroke-width=\"1\" stroke=\"black\" d=\"M 420 300 420 300\"/>\n<path stroke-width=\"1\" stroke=\"black\" d=\"M 420 300 420 300\"/>\n<path stroke-width=\"1\" stroke=\"black\" d=\"M 253 27 253 27\"/>\n<path stroke-width=\"1\" stroke=\"black\" d=\"M 253 27 255 27\"/>\n<path stroke-width=\"1\" stroke=\"black\" d=\"M 253 27 420 300\"/>\n<path stroke-width=\"1\" stroke=\"black\" d=\"M 363 320 420 300\"/>\n<path stroke-width=\"1\" stroke=\"black\" d=\"M 420 300 420 300\"/>\n<path stroke-width=\"1\" stroke=\"black\" d=\"M 255 27 253 27\"/>\n<path stroke-width=\"1\" stroke=\"black\" d=\"M 255 27 255 27\"/>\n<path stroke-width=\"1\" stroke=\"black\" d=\"M 420 300 420 300\"/>\n<path stroke-width=\"1\" stroke=\"black\" d=\"M 420 300 420 300\"/>\n<path stroke-width=\"1\" stroke=\"black\" d=\"M 66 232 66 232\"/>\n<path stroke-width=\"1\" stroke=\"black\" d=\"M 66 232 64 234\"/>\n<path stroke-width=\"1\" stroke=\"black\" d=\"M 66 232 363 320\"/>\n<path stroke-width=\"1\" stroke=\"black\" d=\"M 420 300 420 300\"/>\n<path stroke-width=\"1\" stroke=\"black\" d=\"M 170 160 170 160\"/>\n<path stroke-width=\"1\" stroke=\"black\" d=\"M 363 320 420 300\"/>\n<path stroke-width=\"1\" stroke=\"black\" d=\"M 386 302 386 302\"/>\n<path stroke-width=\"1\" stroke=\"black\" d=\"M 420 300 386 302\"/>\n<path stroke-width=\"1\" stroke=\"black\" d=\"M 420 300 255 20\"/>\n<path stroke-width=\"1\" stroke=\"black\" d=\"M 420 300 250 21\"/>\n<path stroke-width=\"1\" stroke=\"black\" d=\"M 420 300 420 300\"/>\n<path stroke-width=\"1\" stroke=\"black\" d=\"M 420 300 420 300\"/>\n<path stroke-width=\"1\" stroke=\"black\" d=\"M 420 300 420 300\"/>\n<path stroke-width=\"1\" stroke=\"black\" d=\"M 420 300 253 27\"/>\n<path stroke-width=\"1\" stroke=\"black\" d=\"M 420 300 420 300\"/>\n<path stroke-width=\"1\" stroke=\"black\" d=\"M 420 300 420 300\"/>\n<path stroke-width=\"1\" stroke=\"black\" d=\"M 420 300 66 232\"/>\n<path stroke-width=\"1\" stroke=\"black\" d=\"M 420 300 363 320\"/>\n<path stroke-width=\"1\" stroke=\"black\" d=\"M 420 300 64 234\"/>\n<path stroke-width=\"1\" stroke=\"black\" d=\"M 420 300 20 227\"/>\n<path stroke-width=\"1\" stroke=\"black\" d=\"M 420 300 363 320\"/>\n<path stroke-width=\"1\" stroke=\"black\" d=\"M 420 300 386 302\"/>\n<path stroke-width=\"1\" stroke=\"black\" d=\"M 420 300 420 300\"/>\n<path stroke-width=\"1\" stroke=\"black\" d=\"M 420 300 20 227\"/>\n<path stroke-width=\"1\" stroke=\"black\" d=\"M 420 300 386 302\"/>\n<path stroke-width=\"1\" stroke=\"black\" d=\"M 420 300 363 320\"/>\n<path stroke-width=\"1\" stroke=\"black\" d=\"M 386 302 420 300\"/>\n<path stroke-width=\"1\" stroke=\"black\" d=\"M 386 302 420 300\"/>\n<path stroke-width=\"1\" stroke=\"black\" d=\"M 20 227 253 27\"/>\n<path stroke-width=\"1\" stroke=\"black\" d=\"M 20 227 64 234\"/>\n<path stroke-width=\"1\" stroke=\"black\" d=\"M 20 227 66 232\"/>\n<path stroke-width=\"1\" stroke=\"black\" d=\"M 20 227 20 227\"/>\n<path stroke-width=\"1\" stroke=\"black\" d=\"M 20 227 420 300\"/>\n<path stroke-width=\"1\" stroke=\"black\" d=\"M 386 302 255 27\"/>\n<path stroke-width=\"1\" stroke=\"black\" d=\"M 20 227 420 300\"/>\n<path stroke-width=\"1\" stroke=\"black\" d=\"M 420 300 386 302\"/>\n<path stroke-width=\"1\" stroke=\"black\" d=\"M 420 300 420 300\"/>\n<path stroke-width=\"1\" stroke=\"black\" d=\"M 420 300 420 300\"/>\n<path stroke-width=\"1\" stroke=\"black\" d=\"M 420 300 420 300\"/>\n<path stroke-width=\"1\" stroke=\"black\" d=\"M 420 300 420 300\"/>\n<path stroke-width=\"1\" stroke=\"black\" d=\"M 420 300 420 300\"/>\n<path stroke-width=\"1\" stroke=\"black\" d=\"M 420 300 66 232\"/>\n<path stroke-width=\"1\" stroke=\"black\" d=\"M 420 300 255 20\"/>\n<path stroke-width=\"1\" stroke=\"black\" d=\"M 170 160 170 160\"/>\n<path stroke-width=\"1\" stroke=\"black\" d=\"M 420 300 420 300\"/>\n<path stroke-width=\"1\" stroke=\"black\" d=\"M 420 300 420 300\"/>\n<path stroke-width=\"1\" stroke=\"black\" d=\"M 255 27 255 27\"/>\n<path stroke-width=\"1\" stroke=\"black\" d=\"M 255 27 253 27\"/>\n<path stroke-width=\"1\" stroke=\"black\" d=\"M 255 27 255 27\"/>\n<path stroke-width=\"1\" stroke=\"black\" d=\"M 255 27 386 302\"/>\n<path stroke-width=\"1\" stroke=\"black\" d=\"M 255 20 253 27\"/>\n<path stroke-width=\"1\" stroke=\"black\" d=\"M 255 20 255 27\"/>\n<path stroke-width=\"1\" stroke=\"black\" d=\"M 255 20 250 21\"/>\n<path stroke-width=\"1\" stroke=\"black\" d=\"M 255 20 255 20\"/>\n<path stroke-width=\"1\" stroke=\"black\" d=\"M 255 20 386 302\"/>\n<path stroke-width=\"1\" stroke=\"black\" d=\"M 255 20 255 20\"/>\n<path stroke-width=\"1\" stroke=\"black\" d=\"M 255 20 250 21\"/>\n<path stroke-width=\"1\" stroke=\"black\" d=\"M 255 20 64 234\"/>\n<path stroke-width=\"1\" stroke=\"black\" d=\"M 255 20 20 227\"/>\n<path stroke-width=\"1\" stroke=\"black\" d=\"M 255 20 420 300\"/>\n<path stroke-width=\"1\" stroke=\"black\" d=\"M 250 21 253 27\"/>\n<path stroke-width=\"1\" stroke=\"black\" d=\"M 255 27 250 21\"/>\n<path stroke-width=\"1\" stroke=\"black\" d=\"M 255 27 255 20\"/>\n<path stroke-width=\"1\" stroke=\"black\" d=\"M 255 27 250 21\"/>\n<path stroke-width=\"1\" stroke=\"black\" d=\"M 255 27 255 20\"/>\n<path stroke-width=\"1\" stroke=\"black\" d=\"M 253 27 255 20\"/>\n<path stroke-width=\"1\" stroke=\"black\" d=\"M 253 27 250 21\"/>\n<path stroke-width=\"1\" stroke=\"black\" d=\"M 253 27 239 142\"/>\n<path stroke-width=\"1\" stroke=\"black\" d=\"M 253 27 170 160\"/>\n<path stroke-width=\"1\" stroke=\"black\" d=\"M 253 27 170 160\"/>\n<path stroke-width=\"1\" stroke=\"black\" d=\"M 253 27 255 20\"/>\n<path stroke-width=\"1\" stroke=\"black\" d=\"M 253 27 386 302\"/>\n<path stroke-width=\"1\" stroke=\"black\" d=\"M 250 21 255 27\"/>\n<path stroke-width=\"1\" stroke=\"black\" d=\"M 253 27 239 142\"/>\n<path stroke-width=\"1\" stroke=\"black\" d=\"M 253 27 250 21\"/>\n<path stroke-width=\"1\" stroke=\"black\" d=\"M 253 27 250 21\"/>\n<path stroke-width=\"1\" stroke=\"black\" d=\"M 253 27 255 27\"/>\n<path stroke-width=\"1\" stroke=\"black\" d=\"M 253 27 253 27\"/>\n<path stroke-width=\"1\" stroke=\"black\" d=\"M 253 27 255 27\"/>\n<path stroke-width=\"1\" stroke=\"black\" d=\"M 253 27 20 227\"/>\n<path stroke-width=\"1\" stroke=\"black\" d=\"M 255 27 253 27\"/>\n<path stroke-width=\"1\" stroke=\"black\" d=\"M 253 27 253 27\"/>\n<path stroke-width=\"1\" stroke=\"black\" d=\"M 250 21 255 20\"/>\n<path stroke-width=\"1\" stroke=\"black\" d=\"M 250 21 255 20\"/>\n<path stroke-width=\"1\" stroke=\"black\" d=\"M 250 21 250 21\"/>\n<path stroke-width=\"1\" stroke=\"black\" d=\"M 386 302 420 300\"/>\n<path stroke-width=\"1\" stroke=\"black\" d=\"M 255 20 255 20\"/>\n<path stroke-width=\"1\" stroke=\"black\" d=\"M 255 20 420 300\"/>\n<path stroke-width=\"1\" stroke=\"black\" d=\"M 239 142 253 27\"/>\n<path stroke-width=\"1\" stroke=\"black\" d=\"M 239 142 239 142\"/>\n<path stroke-width=\"1\" stroke=\"black\" d=\"M 239 142 170 160\"/>\n<path stroke-width=\"1\" stroke=\"black\" d=\"M 253 27 253 27\"/>\n<path stroke-width=\"1\" stroke=\"black\" d=\"M 386 302 420 300\"/>\n<path stroke-width=\"1\" stroke=\"black\" d=\"M 250 21 253 27\"/>\n<path stroke-width=\"1\" stroke=\"black\" d=\"M 250 21 253 27\"/>\n<path stroke-width=\"1\" stroke=\"black\" d=\"M 250 21 255 27\"/>\n<path stroke-width=\"1\" stroke=\"black\" d=\"M 250 21 255 20\"/>\n<path stroke-width=\"1\" stroke=\"black\" d=\"M 250 21 250 21\"/>\n<path stroke-width=\"1\" stroke=\"black\" d=\"M 250 21 420 300\"/>\n<path stroke-width=\"1\" stroke=\"black\" d=\"M 420 300 420 300\"/>\n<path stroke-width=\"1\" stroke=\"black\" d=\"M 420 300 420 300\"/>\n<path stroke-width=\"1\" stroke=\"black\" d=\"M 250 21 250 21\"/>\n<path stroke-width=\"1\" stroke=\"black\" d=\"M 420 300 20 227\"/>\n<path stroke-width=\"1\" stroke=\"black\" d=\"M 386 302 386 302\"/>\n<path stroke-width=\"1\" stroke=\"black\" d=\"M 386 302 253 27\"/>\n<path stroke-width=\"1\" stroke=\"black\" d=\"M 250 21 250 21\"/>\n<path stroke-width=\"1\" stroke=\"black\" d=\"M 239 142 253 27\"/>\n<path stroke-width=\"1\" stroke=\"black\" d=\"M 239 142 170 160\"/>\n<path stroke-width=\"1\" stroke=\"black\" d=\"M 239 142 239 142\"/>\n<path stroke-width=\"1\" stroke=\"black\" d=\"M 170 160 253 27\"/>\n<path stroke-width=\"1\" stroke=\"black\" d=\"M 170 160 170 160\"/>\n<path stroke-width=\"1\" stroke=\"black\" d=\"M 170 160 239 142\"/>\n<path stroke-width=\"1\" stroke=\"black\" d=\"M 386 302 255 20\"/>\n<path stroke-width=\"1\" stroke=\"black\" d=\"M 170 160 170 160\"/>\n<path stroke-width=\"1\" stroke=\"black\" d=\"M 170 160 239 142\"/>\n<path stroke-width=\"1\" stroke=\"black\" d=\"M 170 160 170 160\"/>\n<path stroke-width=\"1\" stroke=\"black\" d=\"M 170 160 170 160\"/>\n<path stroke-width=\"1\" stroke=\"black\" d=\"M 255 20 253 27\"/>\n<path stroke-width=\"1\" stroke=\"black\" d=\"M 255 20 255 27\"/>\n<path stroke-width=\"1\" stroke=\"black\" d=\"M 255 20 255 20\"/>\n<path stroke-width=\"1\" stroke=\"black\" d=\"M 255 20 250 21\"/>\n<path stroke-width=\"1\" stroke=\"black\" d=\"M 170 160 253 27\"/>\n<path stroke-width=\"1\" stroke=\"black\" d=\"M 420 300 420 300\"/>\n<circle cx=\"253\" cy=\"27\" r=\"7.0\" style=\"fill:red;stroke:black;stroke-width:1.0\"/>\n<circle cx=\"255\" cy=\"27\" r=\"7.0\" style=\"fill:red;stroke:black;stroke-width:1.0\"/>\n<circle cx=\"255\" cy=\"20\" r=\"7.0\" style=\"fill:red;stroke:black;stroke-width:1.0\"/>\n<circle cx=\"250\" cy=\"21\" r=\"7.0\" style=\"fill:red;stroke:black;stroke-width:1.0\"/>\n<circle cx=\"239\" cy=\"142\" r=\"7.0\" style=\"fill:red;stroke:black;stroke-width:1.0\"/>\n<circle cx=\"170\" cy=\"160\" r=\"7.0\" style=\"fill:red;stroke:black;stroke-width:1.0\"/>\n<circle cx=\"170\" cy=\"160\" r=\"7.0\" style=\"fill:red;stroke:black;stroke-width:1.0\"/>\n<circle cx=\"255\" cy=\"20\" r=\"7.0\" style=\"fill:red;stroke:black;stroke-width:1.0\"/>\n<circle cx=\"386\" cy=\"302\" r=\"7.0\" style=\"fill:red;stroke:black;stroke-width:1.0\"/>\n<circle cx=\"255\" cy=\"20\" r=\"7.0\" style=\"fill:blue;stroke:black;stroke-width:1.0\"/>\n<circle cx=\"239\" cy=\"142\" r=\"7.0\" style=\"fill:red;stroke:black;stroke-width:1.0\"/>\n<circle cx=\"253\" cy=\"27\" r=\"7.0\" style=\"fill:red;stroke:black;stroke-width:1.0\"/>\n<circle cx=\"250\" cy=\"21\" r=\"7.0\" style=\"fill:red;stroke:black;stroke-width:1.0\"/>\n<circle cx=\"250\" cy=\"21\" r=\"7.0\" style=\"fill:red;stroke:black;stroke-width:1.0\"/>\n<circle cx=\"420\" cy=\"300\" r=\"7.0\" style=\"fill:blue;stroke:black;stroke-width:1.0\"/>\n<circle cx=\"420\" cy=\"300\" r=\"7.0\" style=\"fill:blue;stroke:black;stroke-width:1.0\"/>\n<circle cx=\"170\" cy=\"160\" r=\"7.0\" style=\"fill:red;stroke:black;stroke-width:1.0\"/>\n<circle cx=\"255\" cy=\"27\" r=\"7.0\" style=\"fill:red;stroke:black;stroke-width:1.0\"/>\n<circle cx=\"420\" cy=\"300\" r=\"7.0\" style=\"fill:blue;stroke:black;stroke-width:1.0\"/>\n<circle cx=\"253\" cy=\"27\" r=\"7.0\" style=\"fill:red;stroke:black;stroke-width:1.0\"/>\n<circle cx=\"420\" cy=\"300\" r=\"7.0\" style=\"fill:blue;stroke:black;stroke-width:1.0\"/>\n<circle cx=\"255\" cy=\"27\" r=\"7.0\" style=\"fill:red;stroke:black;stroke-width:1.0\"/>\n<circle cx=\"420\" cy=\"300\" r=\"7.0\" style=\"fill:blue;stroke:black;stroke-width:1.0\"/>\n<circle cx=\"66\" cy=\"232\" r=\"7.0\" style=\"fill:blue;stroke:black;stroke-width:1.0\"/>\n<circle cx=\"64\" cy=\"234\" r=\"7.0\" style=\"fill:blue;stroke:black;stroke-width:1.0\"/>\n<circle cx=\"66\" cy=\"232\" r=\"7.0\" style=\"fill:blue;stroke:black;stroke-width:1.0\"/>\n<circle cx=\"363\" cy=\"320\" r=\"7.0\" style=\"fill:blue;stroke:black;stroke-width:1.0\"/>\n<circle cx=\"64\" cy=\"234\" r=\"7.0\" style=\"fill:blue;stroke:black;stroke-width:1.0\"/>\n<circle cx=\"20\" cy=\"227\" r=\"7.0\" style=\"fill:blue;stroke:black;stroke-width:1.0\"/>\n<circle cx=\"363\" cy=\"320\" r=\"7.0\" style=\"fill:blue;stroke:black;stroke-width:1.0\"/>\n<circle cx=\"386\" cy=\"302\" r=\"7.0\" style=\"fill:blue;stroke:black;stroke-width:1.0\"/>\n<circle cx=\"20\" cy=\"227\" r=\"7.0\" style=\"fill:blue;stroke:black;stroke-width:1.0\"/>\n<circle cx=\"420\" cy=\"300\" r=\"7.0\" style=\"fill:blue;stroke:black;stroke-width:1.0\"/>\n<circle cx=\"420\" cy=\"300\" r=\"7.0\" style=\"fill:blue;stroke:black;stroke-width:1.0\"/>\n</svg>",
      "text/plain": [
       "<IPython.core.display.SVG object>"
      ]
     },
     "execution_count": 12,
     "metadata": {},
     "output_type": "execute_result"
    }
   ],
   "source": [
    "# test ski-kit hierarchal louvain graphs\n",
    "from sknetwork.data import karate_club, painters, movie_actor\n",
    "graph = karate_club(metadata=True)\n",
    "adjacency = graph.adjacency\n",
    "labels = graph.labels\n",
    "louvain = LouvainNE(2)\n",
    "embedding = louvain.fit_transform(adjacency)\n",
    "image = svg_graph(adjacency, position=embedding, labels=labels)\n",
    "SVG(image)"
   ]
  }
 ],
 "metadata": {
  "kernelspec": {
   "display_name": "Python 3",
   "language": "python",
   "name": "python3"
  },
  "language_info": {
   "codemirror_mode": {
    "name": "ipython",
    "version": 3
   },
   "file_extension": ".py",
   "mimetype": "text/x-python",
   "name": "python",
   "nbconvert_exporter": "python",
   "pygments_lexer": "ipython3",
   "version": "3.9.1"
  },
  "orig_nbformat": 4,
  "vscode": {
   "interpreter": {
    "hash": "aee8b7b246df8f9039afb4144a1f6fd8d2ca17a180786b69acc140d282b71a49"
   }
  }
 },
 "nbformat": 4,
 "nbformat_minor": 2
}
