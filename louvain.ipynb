{
 "cells": [
  {
   "attachments": {},
   "cell_type": "markdown",
   "metadata": {},
   "source": [
    "Take in SNPxSNP graph (from Cramer's V), and build graph."
   ]
  },
  {
   "cell_type": "code",
   "execution_count": 22,
   "metadata": {},
   "outputs": [],
   "source": [
    "def HL(df) : \n",
    "\n",
    "    ## imports\n",
    "    import numpy as np\n",
    "    import networkx as nx\n",
    "    import scipy.stats as stats\n",
    "    import pandas as pd\n",
    "    import sklearn as sk\n",
    "    import itertools\n",
    "    import os\n",
    "    from bed_reader import open_bed\n",
    "    from IPython.display import SVG\n",
    "    from sknetwork.embedding import LouvainNE\n",
    "    from sknetwork.embedding import LouvainEmbedding\n",
    "    from sknetwork.visualization import svg_graph, svg_bigraph\n",
    "    from networkx.algorithms import bipartite\n",
    "    from networkx.algorithms import community\n",
    "    from scipy import sparse\n",
    "    from sknetwork.hierarchy import LouvainHierarchy\n",
    "    from sknetwork.hierarchy import cut_straight, dasgupta_score, tree_sampling_divergence\n",
    "    from sknetwork.visualization import svg_graph, svg_bigraph, svg_dendrogram\n",
    "    from sklearn.neighbors import NearestNeighbors\n",
    "    from scipy.stats import chi2_contingency\n",
    "    from scipy.sparse import diags\n",
    "\n",
    "\n",
    "    # binarize\n",
    "    dfSparse = sparse.csr_matrix(df) # convert data frame to a sparse matrix\n",
    "    for i in range(np.shape(dfSparse)[0]):\n",
    "        for j in range(np.shape(dfSparse)[1]):\n",
    "            if dfSparse[i,j] <= 0.3:\n",
    "                dfSparse[i,j] = 0\n",
    "            else:\n",
    "                dfSparse[i,j] = 1\n",
    "\n",
    "\n",
    "    dfMatrix = dfSparse.toarray()\n",
    "    dfMatrix.shape\n",
    "    \n",
    "    # get triangle\n",
    "    triangle = np.triu(dfMatrix, k=1) # get upper half\n",
    "    print(triangle)\n",
    "    print(triangle.shape)\n",
    "    triangleSparse = sparse.csr_matrix(triangle)\n",
    "\n",
    "    # create adjacency matrix \n",
    "    G = nx.Graph(triangleSparse) # create graph from sparse data [UPDATE THIS]\n",
    "    adjacency = nx.adjacency_matrix(G) # create Adjacency matrix\n",
    "    adjacencyMatrix = sparse.csr_matrix(adjacency) # convert array to sparse row matrix form\n",
    "    print(adjacencyMatrix.shape[0])\n",
    "\n",
    "    ## train classifier and build graph\n",
    "    louvain = LouvainNE(2)\n",
    "    embedding = louvain.fit_transform(adjacencyMatrix)\n",
    "    degrees = adjacency.dot(np.ones(adjacency.shape[0]))\n",
    "\n",
    "    labels = []\n",
    "    for i in range(adjacencyMatrix.shape[0]):\n",
    "        labels.append(i)\n",
    "\n",
    "    image = svg_graph(adjacencyMatrix, position=embedding, display_edge_weight= True, display_node_weight=True, \n",
    "    labels=labels, scale=1, node_order=labels, filename=\"graph\", node_size_min=10, node_size_max=20, directed=False)\n",
    "\n",
    "    #show graph\n",
    "    return SVG(image)\n",
    "\n",
    "    "
   ]
  },
  {
   "cell_type": "code",
   "execution_count": 23,
   "metadata": {},
   "outputs": [],
   "source": [
    "    ## imports\n",
    "    import numpy as np\n",
    "    import networkx as nx\n",
    "    import scipy.stats as stats\n",
    "    import pandas as pd\n",
    "    import sklearn as sk\n",
    "    import itertools\n",
    "    import os\n",
    "    from bed_reader import open_bed\n",
    "    from IPython.display import SVG\n",
    "    from sknetwork.embedding import LouvainNE\n",
    "    from sknetwork.embedding import LouvainEmbedding\n",
    "    from sknetwork.visualization import svg_graph, svg_bigraph\n",
    "    from networkx.algorithms import bipartite\n",
    "    from networkx.algorithms import community\n",
    "    from scipy import sparse\n",
    "    from sknetwork.hierarchy import LouvainHierarchy\n",
    "    from sknetwork.hierarchy import cut_straight, dasgupta_score, tree_sampling_divergence\n",
    "    from sknetwork.visualization import svg_graph, svg_bigraph, svg_dendrogram\n",
    "    from sklearn.neighbors import NearestNeighbors\n",
    "    from scipy.stats import chi2_contingency\n",
    "    from scipy.sparse import diags"
   ]
  },
  {
   "cell_type": "code",
   "execution_count": 28,
   "metadata": {},
   "outputs": [],
   "source": [
    "#test = [[0, 0.54266815, 0.33628486, 0.85377528, 0.69203585],[0, 0, 0.2048833, 0.63337313, 0.77369248],[0, 0, 0., 0.44748536, 0.39128826],[0., 0., 0., 0., 0.81285984],[0., 0., 0., 0., 0.]]\n",
    "test = [[0.00000000e+000,2.81838725e-077 ,1.05285636e-027, 2.67706557e-284, 1.41317825e-142] ,\n",
    "[0.00000000e+000, 0.00000000e+000, 7.31277668e-011, 1.08470338e-112, 1.93160907e-198] ,\n",
    "[0.00000000e+000, 0.00000000e+000, 0.00000000e+000, 4.15164549e-050, 1.32033633e-037] ,\n",
    "[0.00000000e+000, 0.00000000e+000, 0.00000000e+000, 0.00000000e+000, 4.33336541e-235] ,\n",
    "[0.00000000e+000, 0.00000000e+000, 0.00000000e+000, 0.00000000e+000, 0.00000000e+000]] \n",
    "testSparse = sparse.csr_matrix(test)"
   ]
  },
  {
   "cell_type": "code",
   "execution_count": 29,
   "metadata": {},
   "outputs": [
    {
     "name": "stdout",
     "output_type": "stream",
     "text": [
      "[[0. 0. 0. 0. 0.]\n",
      " [0. 0. 0. 0. 0.]\n",
      " [0. 0. 0. 0. 0.]\n",
      " [0. 0. 0. 0. 0.]\n",
      " [0. 0. 0. 0. 0.]]\n",
      "(5, 5)\n",
      "5\n"
     ]
    },
    {
     "name": "stderr",
     "output_type": "stream",
     "text": [
      "/Users/rishasurana/Library/Python/3.9/lib/python/site-packages/scipy/sparse/_index.py:103: SparseEfficiencyWarning: Changing the sparsity structure of a csr_matrix is expensive. lil_matrix is more efficient.\n",
      "  self._set_intXint(row, col, x.flat[0])\n"
     ]
    },
    {
     "ename": "ValueError",
     "evalue": "The input matrix is empty.",
     "output_type": "error",
     "traceback": [
      "\u001b[0;31m---------------------------------------------------------------------------\u001b[0m",
      "\u001b[0;31mValueError\u001b[0m                                Traceback (most recent call last)",
      "\u001b[1;32m/Users/rishasurana/gene-graphs/louvain.ipynb Cell 5\u001b[0m in \u001b[0;36m<module>\u001b[0;34m\u001b[0m\n\u001b[0;32m----> <a href='vscode-notebook-cell:/Users/rishasurana/gene-graphs/louvain.ipynb#W5sZmlsZQ%3D%3D?line=0'>1</a>\u001b[0m HL(testSparse)\n",
      "\u001b[1;32m/Users/rishasurana/gene-graphs/louvain.ipynb Cell 5\u001b[0m in \u001b[0;36mHL\u001b[0;34m(df)\u001b[0m\n\u001b[1;32m     <a href='vscode-notebook-cell:/Users/rishasurana/gene-graphs/louvain.ipynb#W5sZmlsZQ%3D%3D?line=51'>52</a>\u001b[0m \u001b[39m## train classifier and build graph\u001b[39;00m\n\u001b[1;32m     <a href='vscode-notebook-cell:/Users/rishasurana/gene-graphs/louvain.ipynb#W5sZmlsZQ%3D%3D?line=52'>53</a>\u001b[0m louvain \u001b[39m=\u001b[39m LouvainNE(\u001b[39m2\u001b[39m)\n\u001b[0;32m---> <a href='vscode-notebook-cell:/Users/rishasurana/gene-graphs/louvain.ipynb#W5sZmlsZQ%3D%3D?line=53'>54</a>\u001b[0m embedding \u001b[39m=\u001b[39m louvain\u001b[39m.\u001b[39;49mfit_transform(adjacencyMatrix)\n\u001b[1;32m     <a href='vscode-notebook-cell:/Users/rishasurana/gene-graphs/louvain.ipynb#W5sZmlsZQ%3D%3D?line=54'>55</a>\u001b[0m degrees \u001b[39m=\u001b[39m adjacency\u001b[39m.\u001b[39mdot(np\u001b[39m.\u001b[39mones(adjacency\u001b[39m.\u001b[39mshape[\u001b[39m0\u001b[39m]))\n\u001b[1;32m     <a href='vscode-notebook-cell:/Users/rishasurana/gene-graphs/louvain.ipynb#W5sZmlsZQ%3D%3D?line=56'>57</a>\u001b[0m labels \u001b[39m=\u001b[39m []\n",
      "File \u001b[0;32m~/Library/Python/3.9/lib/python/site-packages/sknetwork/embedding/base.py:41\u001b[0m, in \u001b[0;36mBaseEmbedding.fit_transform\u001b[0;34m(self, *args, **kwargs)\u001b[0m\n\u001b[1;32m     33\u001b[0m \u001b[39mdef\u001b[39;00m \u001b[39mfit_transform\u001b[39m(\u001b[39mself\u001b[39m, \u001b[39m*\u001b[39margs, \u001b[39m*\u001b[39m\u001b[39m*\u001b[39mkwargs) \u001b[39m-\u001b[39m\u001b[39m>\u001b[39m np\u001b[39m.\u001b[39mndarray:\n\u001b[1;32m     34\u001b[0m     \u001b[39m\"\"\"Fit to data and return the embedding. Same parameters as the ``fit`` method.\u001b[39;00m\n\u001b[1;32m     35\u001b[0m \n\u001b[1;32m     36\u001b[0m \u001b[39m    Returns\u001b[39;00m\n\u001b[0;32m   (...)\u001b[0m\n\u001b[1;32m     39\u001b[0m \u001b[39m        Embedding.\u001b[39;00m\n\u001b[1;32m     40\u001b[0m \u001b[39m    \"\"\"\u001b[39;00m\n\u001b[0;32m---> 41\u001b[0m     \u001b[39mself\u001b[39;49m\u001b[39m.\u001b[39;49mfit(\u001b[39m*\u001b[39;49margs, \u001b[39m*\u001b[39;49m\u001b[39m*\u001b[39;49mkwargs)\n\u001b[1;32m     42\u001b[0m     \u001b[39mreturn\u001b[39;00m \u001b[39mself\u001b[39m\u001b[39m.\u001b[39membedding_\n",
      "File \u001b[0;32m~/Library/Python/3.9/lib/python/site-packages/sknetwork/embedding/louvain_hierarchy.py:132\u001b[0m, in \u001b[0;36mLouvainNE.fit\u001b[0;34m(self, input_matrix, force_bipartite)\u001b[0m\n\u001b[1;32m    119\u001b[0m \u001b[39m\"\"\"Embedding of graphs from a clustering obtained with Louvain.\u001b[39;00m\n\u001b[1;32m    120\u001b[0m \n\u001b[1;32m    121\u001b[0m \u001b[39mParameters\u001b[39;00m\n\u001b[0;32m   (...)\u001b[0m\n\u001b[1;32m    129\u001b[0m \u001b[39mself: :class:`LouvainNE`\u001b[39;00m\n\u001b[1;32m    130\u001b[0m \u001b[39m\"\"\"\u001b[39;00m\n\u001b[1;32m    131\u001b[0m \u001b[39m# input\u001b[39;00m\n\u001b[0;32m--> 132\u001b[0m input_matrix \u001b[39m=\u001b[39m check_format(input_matrix)\n\u001b[1;32m    133\u001b[0m adjacency, \u001b[39mself\u001b[39m\u001b[39m.\u001b[39mbipartite \u001b[39m=\u001b[39m get_adjacency(input_matrix, force_bipartite\u001b[39m=\u001b[39mforce_bipartite)\n\u001b[1;32m    134\u001b[0m n \u001b[39m=\u001b[39m adjacency\u001b[39m.\u001b[39mshape[\u001b[39m0\u001b[39m]\n",
      "File \u001b[0;32m~/Library/Python/3.9/lib/python/site-packages/sknetwork/utils/check.py:133\u001b[0m, in \u001b[0;36mcheck_format\u001b[0;34m(input_matrix)\u001b[0m\n\u001b[1;32m    131\u001b[0m input_matrix \u001b[39m=\u001b[39m sparse\u001b[39m.\u001b[39mcsr_matrix(input_matrix)\n\u001b[1;32m    132\u001b[0m \u001b[39mif\u001b[39;00m input_matrix\u001b[39m.\u001b[39mnnz \u001b[39m==\u001b[39m \u001b[39m0\u001b[39m:\n\u001b[0;32m--> 133\u001b[0m     \u001b[39mraise\u001b[39;00m \u001b[39mValueError\u001b[39;00m(\u001b[39m'\u001b[39m\u001b[39mThe input matrix is empty.\u001b[39m\u001b[39m'\u001b[39m)\n\u001b[1;32m    134\u001b[0m \u001b[39mreturn\u001b[39;00m input_matrix\n",
      "\u001b[0;31mValueError\u001b[0m: The input matrix is empty."
     ]
    }
   ],
   "source": [
    "HL(testSparse)"
   ]
  }
 ],
 "metadata": {
  "kernelspec": {
   "display_name": "Python 3",
   "language": "python",
   "name": "python3"
  },
  "language_info": {
   "codemirror_mode": {
    "name": "ipython",
    "version": 3
   },
   "file_extension": ".py",
   "mimetype": "text/x-python",
   "name": "python",
   "nbconvert_exporter": "python",
   "pygments_lexer": "ipython3",
   "version": "3.9.1"
  },
  "orig_nbformat": 4,
  "vscode": {
   "interpreter": {
    "hash": "aee8b7b246df8f9039afb4144a1f6fd8d2ca17a180786b69acc140d282b71a49"
   }
  }
 },
 "nbformat": 4,
 "nbformat_minor": 2
}
