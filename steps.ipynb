{
 "cells": [
  {
   "attachments": {},
   "cell_type": "markdown",
   "metadata": {},
   "source": [
    "Project step overview"
   ]
  },
  {
   "cell_type": "code",
   "execution_count": 132,
   "metadata": {},
   "outputs": [],
   "source": [
    "## imports\n",
    "import numpy as np\n",
    "import networkx as nx\n",
    "import scipy.stats as stats\n",
    "import pandas as pd\n",
    "import sklearn as sk\n",
    "import itertools\n",
    "import os\n",
    "from bed_reader import open_bed\n",
    "from IPython.display import SVG\n",
    "from sknetwork.embedding import LouvainNE\n",
    "from sknetwork.embedding import LouvainEmbedding\n",
    "from sknetwork.visualization import svg_graph, svg_bigraph\n",
    "from networkx.algorithms import bipartite\n",
    "from networkx.algorithms import community\n",
    "from scipy import sparse\n",
    "from sknetwork.hierarchy import LouvainHierarchy\n",
    "from sknetwork.hierarchy import cut_straight, dasgupta_score, tree_sampling_divergence\n",
    "from sknetwork.visualization import svg_graph, svg_bigraph, svg_dendrogram\n",
    "from sklearn.neighbors import NearestNeighbors\n",
    "from scipy.stats import chi2_contingency\n",
    "from scipy.sparse import diags"
   ]
  },
  {
   "cell_type": "code",
   "execution_count": 133,
   "metadata": {},
   "outputs": [],
   "source": [
    "def get_diagonal(df, width) : # convert SNPxSNP matrix as a result of cramer's to diagonal\n",
    "    mid = df[df.shape(0)]\n",
    "    arr = []\n",
    "    result = np.empty(arr)\n",
    "    for i in df:\n",
    "        for j in df.T:\n",
    "            if abs((i - j)) > width:\n",
    "                result.append(j)\n",
    "\n",
    "    return result"
   ]
  },
  {
   "cell_type": "code",
   "execution_count": 179,
   "metadata": {},
   "outputs": [
    {
     "name": "stdout",
     "output_type": "stream",
     "text": [
      "(488377, 26806)\n",
      "(71, 71)\n"
     ]
    }
   ],
   "source": [
    "## get database workspace\n",
    "file_name = '/Users/rishasurana/Library/CloudStorage/GoogleDrive-rsurana@usc.edu/.shortcut-targets-by-id/1I-Ssaub3M29w33JyrvO7HVv9laffGidc/chromosome_17_bed_bim_fam_data/ukb22418_c13_b0_v2.bed'\n",
    "## read bed and select values\n",
    "bed = open_bed(file_name)\n",
    "print(bed.shape)\n",
    "values = bed.read(index=np.s_[0:71,0:71])\n",
    "print(values.shape)\n",
    "values = np.array(values)"
   ]
  },
  {
   "attachments": {},
   "cell_type": "markdown",
   "metadata": {},
   "source": [
    "SAMPLE build Cramer's correlation matrix\n",
    "note: Do not use, use SNPcorrelation.ipynb"
   ]
  },
  {
   "cell_type": "code",
   "execution_count": 135,
   "metadata": {},
   "outputs": [],
   "source": [
    "def cramers_V(var1,var2) :\n",
    "  crosstab =np.array(pd.crosstab(var1,var2)) # Cross table building\n",
    "  stat = chi2_contingency(crosstab)[0] # Keeping of the test statistic of the Chi2 test\n",
    "  obs = np.sum(crosstab) # Number of observations\n",
    "  mini = min(crosstab.shape)-1 # Take the minimum value between the columns and the rows of the cross table\n",
    "  \n",
    "  return stat/(obs*mini)"
   ]
  },
  {
   "cell_type": "code",
   "execution_count": 171,
   "metadata": {},
   "outputs": [
    {
     "ename": "AttributeError",
     "evalue": "'list' object has no attribute 'T'",
     "output_type": "error",
     "traceback": [
      "\u001b[0;31m---------------------------------------------------------------------------\u001b[0m",
      "\u001b[0;31mAttributeError\u001b[0m                            Traceback (most recent call last)",
      "\u001b[1;32m/Users/rishasurana/gene-graphs/steps.ipynb Cell 7\u001b[0m in \u001b[0;36m<module>\u001b[0;34m\u001b[0m\n\u001b[1;32m      <a href='vscode-notebook-cell:/Users/rishasurana/gene-graphs/steps.ipynb#W6sZmlsZQ%3D%3D?line=5'>6</a>\u001b[0m \u001b[39mfor\u001b[39;00m var1 \u001b[39min\u001b[39;00m values:\n\u001b[1;32m      <a href='vscode-notebook-cell:/Users/rishasurana/gene-graphs/steps.ipynb#W6sZmlsZQ%3D%3D?line=6'>7</a>\u001b[0m   col \u001b[39m=\u001b[39m []\n\u001b[0;32m----> <a href='vscode-notebook-cell:/Users/rishasurana/gene-graphs/steps.ipynb#W6sZmlsZQ%3D%3D?line=7'>8</a>\u001b[0m   \u001b[39mfor\u001b[39;00m var2 \u001b[39min\u001b[39;00m values\u001b[39m.\u001b[39;49mT:\n\u001b[1;32m      <a href='vscode-notebook-cell:/Users/rishasurana/gene-graphs/steps.ipynb#W6sZmlsZQ%3D%3D?line=8'>9</a>\u001b[0m     cramers \u001b[39m=\u001b[39mcramers_V(var1, var2) \u001b[39m# Cramer's V test\u001b[39;00m\n\u001b[1;32m     <a href='vscode-notebook-cell:/Users/rishasurana/gene-graphs/steps.ipynb#W6sZmlsZQ%3D%3D?line=9'>10</a>\u001b[0m     col\u001b[39m.\u001b[39mappend(\u001b[39mround\u001b[39m(cramers,\u001b[39m5\u001b[39m)) \u001b[39m# Keeping of the rounded value of the Cramer's V  \u001b[39;00m\n",
      "\u001b[0;31mAttributeError\u001b[0m: 'list' object has no attribute 'T'"
     ]
    }
   ],
   "source": [
    "import warnings ## temporarily hide NaN division warnings\n",
    "warnings.filterwarnings(\"ignore\")\n",
    "\n",
    "rows= []\n",
    "\n",
    "for var1 in values:\n",
    "  col = []\n",
    "  for var2 in values.T:\n",
    "    cramers =cramers_V(var1, var2) # Cramer's V test\n",
    "    col.append(round(cramers,5)) # Keeping of the rounded value of the Cramer's V  \n",
    "  rows.append(col)\n",
    "  \n",
    "cramers_results = np.array(rows)\n",
    "df = pd.DataFrame(cramers_results)\n",
    "\n",
    "df\n",
    "\n"
   ]
  },
  {
   "attachments": {},
   "cell_type": "markdown",
   "metadata": {},
   "source": [
    "Use the following cramer's"
   ]
  },
  {
   "cell_type": "code",
   "execution_count": 177,
   "metadata": {},
   "outputs": [
    {
     "name": "stdout",
     "output_type": "stream",
     "text": [
      "chrom 19 SNPs = 26806\n"
     ]
    }
   ],
   "source": [
    "# create value array to store selected snp values\n",
    "\n",
    "# apoe = np.array([\"rs440446\", rs877973\", \"rs769449\", \"rs769450\", \"rs429358\", \"rs7412\"])\n",
    "values = []\n",
    "snp_count = 0\n",
    "for chrom in range(19,20): # change to 1,23 for full genome\n",
    "  bed = open_bed(file_name)\n",
    "  id_to_index = dict([(int(id), index) for index, id in enumerate(bed.iid)])\n",
    "  snp_to_index = dict([(sid, index) for index, sid in enumerate(bed.sid)])\n",
    "  # indeces (lines) of bed file where subj id is in id_list (do id_list[subset])\n",
    "  pos = np.where(np.in1d(bed.iid, bed.sid)) # change to 100\n",
    "\n",
    "  # ##\n",
    "  # ifapoe = np.where(np.in1d(bed.sid,apoe))\n",
    "  # values = bed.read(index=np.s_[pos,ifapoe])\n",
    "  # snp_count = values.shape[1]\n",
    "  # print(values)\n",
    "  # ##\n",
    "\n",
    "  for snp in bed.sid: # change to bed.sid # first n snps by each other\n",
    "    snp_ind = snp_to_index[snp] \n",
    "    # if snp_ind % 1000 == 0:\n",
    "    values.append(bed.read(index=np.s_[pos,snp_ind])) # 0,1,2,nan values of SNP\n",
    "    snp_count += 1\n",
    "\n",
    "  print(\"chrom\", str(chrom), \"SNPs =\", str(snp_count))"
   ]
  },
  {
   "cell_type": "code",
   "execution_count": 181,
   "metadata": {},
   "outputs": [
    {
     "data": {
      "text/plain": [
       "array([[0.        , 0.42452013, 0.4663655 , ..., 0.34525025, 0.37927465,\n",
       "        0.36418098],\n",
       "       [0.        , 0.        , 0.47899058, ..., 0.50882688, 0.52010956,\n",
       "        0.33317012],\n",
       "       [0.        , 0.        , 0.        , ..., 0.40677882, 0.34049994,\n",
       "        0.58352888],\n",
       "       ...,\n",
       "       [0.        , 0.        , 0.        , ..., 0.        , 0.37956294,\n",
       "        0.41131133],\n",
       "       [0.        , 0.        , 0.        , ..., 0.        , 0.        ,\n",
       "        0.34108176],\n",
       "       [0.        , 0.        , 0.        , ..., 0.        , 0.        ,\n",
       "        0.        ]])"
      ]
     },
     "execution_count": 181,
     "metadata": {},
     "output_type": "execute_result"
    }
   ],
   "source": [
    "# Cramers V\n",
    "SNP = 71\n",
    "\n",
    "cramers = np.zeros((SNP,SNP)) # should be bed.sid_count,bed.sid_count\n",
    "distances = np.zeros((SNP,SNP))\n",
    "\n",
    "for snp1 in range(SNP): # in range(SNP): \n",
    "  for snp2 in range(SNP): # in range(SNP):\n",
    "    if snp1 < snp2:\n",
    "      snppair = [values[snp1].flatten().tolist(),values[snp2].flatten().tolist()]\n",
    "\n",
    "      exclude = []\n",
    "\n",
    "      for i in range(len(snppair[0])):\n",
    "        if not (0 <= snppair[0][i] < 3 and 0 <= snppair[1][i] < 3):\n",
    "          exclude.append(i)\n",
    "\n",
    "      snppair = np.delete(snppair, exclude, axis=1)\n",
    "\n",
    "      x2input = np.ones((3,3)) \n",
    "\n",
    "      for i in range(len(snppair[0])):\n",
    "        x2input[int(snppair[0][i])][int(snppair[1][i])] += 1\n",
    "      \n",
    "      # if len(snppair[0]) > 2:\n",
    "      # print([\n",
    "      #     (i, len(list(group))) \n",
    "      #     for i, group in it.groupby(sorted(list(snppair)))\n",
    "      # ])\n",
    "\n",
    "      X2 = stats.chi2_contingency(x2input, correction=False)[0]\n",
    "      N = np.sum(x2input)\n",
    "      minimum_dimension = min(x2input.shape)-1\n",
    "      cv = np.sqrt((X2/N) / minimum_dimension)\n",
    "\n",
    "      cramers[snp1][snp2] = cv\n",
    "      distances[snp1][snp2] = abs(bed.bp_position[snp1] - bed.bp_position[snp2])\n",
    "\n",
    "df = cramers\n",
    "df"
   ]
  },
  {
   "cell_type": "code",
   "execution_count": 188,
   "metadata": {},
   "outputs": [
    {
     "data": {
      "text/plain": [
       "<71x71 sparse matrix of type '<class 'numpy.float64'>'\n",
       "\twith 5041 stored elements in Compressed Sparse Row format>"
      ]
     },
     "execution_count": 188,
     "metadata": {},
     "output_type": "execute_result"
    }
   ],
   "source": [
    "# binarize\n",
    "dfSparse = sparse.csr_matrix(df) # convert data frame to a sparse matrix\n",
    "for i in range(np.shape(dfSparse)[0]):\n",
    "    for j in range(np.shape(dfSparse)[1]):\n",
    "        if dfSparse[i,j] <= 0.5:\n",
    "            dfSparse[i,j] = 0\n",
    "        else:\n",
    "            dfSparse[i,j] = 1\n",
    "\n",
    "dfSparse"
   ]
  },
  {
   "cell_type": "code",
   "execution_count": 189,
   "metadata": {},
   "outputs": [
    {
     "data": {
      "text/plain": [
       "array([[0., 0., 0., ..., 0., 0., 0.],\n",
       "       [0., 0., 0., ..., 1., 1., 0.],\n",
       "       [0., 0., 0., ..., 0., 0., 1.],\n",
       "       ...,\n",
       "       [0., 0., 0., ..., 0., 0., 0.],\n",
       "       [0., 0., 0., ..., 0., 0., 0.],\n",
       "       [0., 0., 0., ..., 0., 0., 0.]])"
      ]
     },
     "execution_count": 189,
     "metadata": {},
     "output_type": "execute_result"
    }
   ],
   "source": [
    "dfMatrix = dfSparse.toarray()\n",
    "dfMatrix"
   ]
  },
  {
   "attachments": {},
   "cell_type": "markdown",
   "metadata": {},
   "source": [
    "Build graph"
   ]
  },
  {
   "cell_type": "code",
   "execution_count": 190,
   "metadata": {},
   "outputs": [
    {
     "name": "stdout",
     "output_type": "stream",
     "text": [
      "[[0. 0. 0. ... 0. 0. 0.]\n",
      " [0. 0. 0. ... 1. 1. 0.]\n",
      " [0. 0. 0. ... 0. 0. 1.]\n",
      " ...\n",
      " [0. 0. 0. ... 0. 0. 0.]\n",
      " [0. 0. 0. ... 0. 0. 0.]\n",
      " [0. 0. 0. ... 0. 0. 0.]]\n",
      "(71, 71)\n"
     ]
    }
   ],
   "source": [
    "# get triangle\n",
    "triangle = np.triu(dfMatrix, k=1) # get upper half\n",
    "print(triangle)\n",
    "print(triangle.shape)\n",
    "triangleSparse = sparse.csr_matrix(triangle)"
   ]
  },
  {
   "cell_type": "code",
   "execution_count": 193,
   "metadata": {},
   "outputs": [
    {
     "name": "stdout",
     "output_type": "stream",
     "text": [
      "71\n"
     ]
    },
    {
     "data": {
      "image/svg+xml": "<svg xmlns=\"http://www.w3.org/2000/svg\" width=\"440\" height=\"340\">\n<path stroke-width=\"1.0\" stroke=\"black\" d=\"M 211 37 20 220\"/>\n<path stroke-width=\"1.0\" stroke=\"black\" d=\"M 46 20 170 286\"/>\n<path stroke-width=\"1.0\" stroke=\"black\" d=\"M 46 20 37 236\"/>\n<path stroke-width=\"1.0\" stroke=\"black\" d=\"M 46 20 148 282\"/>\n<path stroke-width=\"1.0\" stroke=\"black\" d=\"M 46 20 37 236\"/>\n<path stroke-width=\"1.0\" stroke=\"black\" d=\"M 46 20 94 35\"/>\n<path stroke-width=\"1.0\" stroke=\"black\" d=\"M 46 20 20 220\"/>\n<path stroke-width=\"1.0\" stroke=\"black\" d=\"M 46 20 37 236\"/>\n<path stroke-width=\"1.0\" stroke=\"black\" d=\"M 242 35 240 34\"/>\n<path stroke-width=\"1.0\" stroke=\"black\" d=\"M 242 35 240 34\"/>\n<path stroke-width=\"1.0\" stroke=\"black\" d=\"M 242 35 20 220\"/>\n<path stroke-width=\"1.0\" stroke=\"black\" d=\"M 242 35 211 37\"/>\n<path stroke-width=\"1.0\" stroke=\"black\" d=\"M 242 35 242 35\"/>\n<path stroke-width=\"1.0\" stroke=\"black\" d=\"M 20 220 20 220\"/>\n<path stroke-width=\"1.0\" stroke=\"black\" d=\"M 20 220 20 220\"/>\n<path stroke-width=\"1.0\" stroke=\"black\" d=\"M 20 220 20 220\"/>\n<path stroke-width=\"1.0\" stroke=\"black\" d=\"M 20 220 20 220\"/>\n<path stroke-width=\"1.0\" stroke=\"black\" d=\"M 20 220 240 34\"/>\n<path stroke-width=\"1.0\" stroke=\"black\" d=\"M 20 220 20 220\"/>\n<path stroke-width=\"1.0\" stroke=\"black\" d=\"M 20 220 240 34\"/>\n<path stroke-width=\"1.0\" stroke=\"black\" d=\"M 20 220 20 220\"/>\n<path stroke-width=\"1.0\" stroke=\"black\" d=\"M 20 220 242 35\"/>\n<path stroke-width=\"1.0\" stroke=\"black\" d=\"M 20 220 20 220\"/>\n<path stroke-width=\"1.0\" stroke=\"black\" d=\"M 20 220 198 33\"/>\n<path stroke-width=\"1.0\" stroke=\"black\" d=\"M 46 20 95 35\"/>\n<path stroke-width=\"1.0\" stroke=\"black\" d=\"M 46 20 46 20\"/>\n<path stroke-width=\"1.0\" stroke=\"black\" d=\"M 46 20 170 286\"/>\n<path stroke-width=\"1.0\" stroke=\"black\" d=\"M 46 20 240 34\"/>\n<path stroke-width=\"1.0\" stroke=\"black\" d=\"M 20 220 20 220\"/>\n<path stroke-width=\"1.0\" stroke=\"black\" d=\"M 20 220 20 220\"/>\n<path stroke-width=\"1.0\" stroke=\"black\" d=\"M 46 20 37 236\"/>\n<path stroke-width=\"1.0\" stroke=\"black\" d=\"M 46 20 20 220\"/>\n<path stroke-width=\"1.0\" stroke=\"black\" d=\"M 46 20 385 164\"/>\n<path stroke-width=\"1.0\" stroke=\"black\" d=\"M 46 20 46 20\"/>\n<path stroke-width=\"1.0\" stroke=\"black\" d=\"M 46 20 46 20\"/>\n<path stroke-width=\"1.0\" stroke=\"black\" d=\"M 46 20 20 220\"/>\n<path stroke-width=\"1.0\" stroke=\"black\" d=\"M 46 20 20 220\"/>\n<path stroke-width=\"1.0\" stroke=\"black\" d=\"M 46 20 46 20\"/>\n<path stroke-width=\"1.0\" stroke=\"black\" d=\"M 46 20 170 286\"/>\n<path stroke-width=\"1.0\" stroke=\"black\" d=\"M 20 220 20 220\"/>\n<path stroke-width=\"1.0\" stroke=\"black\" d=\"M 46 20 37 236\"/>\n<path stroke-width=\"1.0\" stroke=\"black\" d=\"M 46 20 46 20\"/>\n<path stroke-width=\"1.0\" stroke=\"black\" d=\"M 46 20 148 282\"/>\n<path stroke-width=\"1.0\" stroke=\"black\" d=\"M 46 20 94 35\"/>\n<path stroke-width=\"1.0\" stroke=\"black\" d=\"M 46 20 37 234\"/>\n<path stroke-width=\"1.0\" stroke=\"black\" d=\"M 46 20 46 20\"/>\n<path stroke-width=\"1.0\" stroke=\"black\" d=\"M 46 20 211 37\"/>\n<path stroke-width=\"1.0\" stroke=\"black\" d=\"M 46 20 95 35\"/>\n<path stroke-width=\"1.0\" stroke=\"black\" d=\"M 46 20 20 220\"/>\n<path stroke-width=\"1.0\" stroke=\"black\" d=\"M 46 20 39 236\"/>\n<path stroke-width=\"1.0\" stroke=\"black\" d=\"M 46 20 94 35\"/>\n<path stroke-width=\"1.0\" stroke=\"black\" d=\"M 46 20 37 236\"/>\n<path stroke-width=\"1.0\" stroke=\"black\" d=\"M 46 20 20 220\"/>\n<path stroke-width=\"1.0\" stroke=\"black\" d=\"M 392 162 385 164\"/>\n<path stroke-width=\"1.0\" stroke=\"black\" d=\"M 392 162 392 162\"/>\n<path stroke-width=\"1.0\" stroke=\"black\" d=\"M 392 162 385 164\"/>\n<path stroke-width=\"1.0\" stroke=\"black\" d=\"M 240 34 240 34\"/>\n<path stroke-width=\"1.0\" stroke=\"black\" d=\"M 240 34 46 20\"/>\n<path stroke-width=\"1.0\" stroke=\"black\" d=\"M 240 34 170 286\"/>\n<path stroke-width=\"1.0\" stroke=\"black\" d=\"M 240 34 46 20\"/>\n<path stroke-width=\"1.0\" stroke=\"black\" d=\"M 240 34 170 286\"/>\n<path stroke-width=\"1.0\" stroke=\"black\" d=\"M 170 286 46 20\"/>\n<path stroke-width=\"1.0\" stroke=\"black\" d=\"M 170 286 170 286\"/>\n<path stroke-width=\"1.0\" stroke=\"black\" d=\"M 170 286 148 282\"/>\n<path stroke-width=\"1.0\" stroke=\"black\" d=\"M 170 286 46 20\"/>\n<path stroke-width=\"1.0\" stroke=\"black\" d=\"M 170 286 240 34\"/>\n<path stroke-width=\"1.0\" stroke=\"black\" d=\"M 170 286 46 20\"/>\n<path stroke-width=\"1.0\" stroke=\"black\" d=\"M 240 34 240 34\"/>\n<path stroke-width=\"1.0\" stroke=\"black\" d=\"M 170 286 170 286\"/>\n<path stroke-width=\"1.0\" stroke=\"black\" d=\"M 46 20 37 236\"/>\n<path stroke-width=\"1.0\" stroke=\"black\" d=\"M 46 20 385 164\"/>\n<path stroke-width=\"1.0\" stroke=\"black\" d=\"M 46 20 46 20\"/>\n<path stroke-width=\"1.0\" stroke=\"black\" d=\"M 46 20 46 20\"/>\n<path stroke-width=\"1.0\" stroke=\"black\" d=\"M 46 20 20 220\"/>\n<path stroke-width=\"1.0\" stroke=\"black\" d=\"M 46 20 46 20\"/>\n<path stroke-width=\"1.0\" stroke=\"black\" d=\"M 46 20 170 286\"/>\n<path stroke-width=\"1.0\" stroke=\"black\" d=\"M 46 20 37 236\"/>\n<path stroke-width=\"1.0\" stroke=\"black\" d=\"M 46 20 20 220\"/>\n<path stroke-width=\"1.0\" stroke=\"black\" d=\"M 46 20 46 20\"/>\n<path stroke-width=\"1.0\" stroke=\"black\" d=\"M 46 20 148 282\"/>\n<path stroke-width=\"1.0\" stroke=\"black\" d=\"M 170 286 148 282\"/>\n<path stroke-width=\"1.0\" stroke=\"black\" d=\"M 20 220 37 236\"/>\n<path stroke-width=\"1.0\" stroke=\"black\" d=\"M 240 34 46 20\"/>\n<path stroke-width=\"1.0\" stroke=\"black\" d=\"M 37 236 94 35\"/>\n<path stroke-width=\"1.0\" stroke=\"black\" d=\"M 392 162 379 153\"/>\n<path stroke-width=\"1.0\" stroke=\"black\" d=\"M 392 162 392 162\"/>\n<path stroke-width=\"1.0\" stroke=\"black\" d=\"M 37 236 37 236\"/>\n<path stroke-width=\"1.0\" stroke=\"black\" d=\"M 37 236 20 220\"/>\n<path stroke-width=\"1.0\" stroke=\"black\" d=\"M 37 236 385 164\"/>\n<path stroke-width=\"1.0\" stroke=\"black\" d=\"M 37 236 46 20\"/>\n<path stroke-width=\"1.0\" stroke=\"black\" d=\"M 37 236 20 220\"/>\n<path stroke-width=\"1.0\" stroke=\"black\" d=\"M 37 236 20 220\"/>\n<path stroke-width=\"1.0\" stroke=\"black\" d=\"M 37 236 20 220\"/>\n<path stroke-width=\"1.0\" stroke=\"black\" d=\"M 37 236 46 20\"/>\n<path stroke-width=\"1.0\" stroke=\"black\" d=\"M 37 236 37 236\"/>\n<path stroke-width=\"1.0\" stroke=\"black\" d=\"M 37 236 37 236\"/>\n<path stroke-width=\"1.0\" stroke=\"black\" d=\"M 37 236 20 220\"/>\n<path stroke-width=\"1.0\" stroke=\"black\" d=\"M 37 236 94 35\"/>\n<path stroke-width=\"1.0\" stroke=\"black\" d=\"M 37 236 37 234\"/>\n<path stroke-width=\"1.0\" stroke=\"black\" d=\"M 37 236 211 37\"/>\n<path stroke-width=\"1.0\" stroke=\"black\" d=\"M 37 236 20 220\"/>\n<path stroke-width=\"1.0\" stroke=\"black\" d=\"M 37 236 39 236\"/>\n<path stroke-width=\"1.0\" stroke=\"black\" d=\"M 37 236 94 35\"/>\n<path stroke-width=\"1.0\" stroke=\"black\" d=\"M 37 236 20 220\"/>\n<path stroke-width=\"1.0\" stroke=\"black\" d=\"M 37 236 46 20\"/>\n<path stroke-width=\"1.0\" stroke=\"black\" d=\"M 37 236 46 20\"/>\n<path stroke-width=\"1.0\" stroke=\"black\" d=\"M 37 236 37 236\"/>\n<path stroke-width=\"1.0\" stroke=\"black\" d=\"M 37 236 37 236\"/>\n<path stroke-width=\"1.0\" stroke=\"black\" d=\"M 37 236 148 282\"/>\n<path stroke-width=\"1.0\" stroke=\"black\" d=\"M 20 220 37 236\"/>\n<path stroke-width=\"1.0\" stroke=\"black\" d=\"M 20 220 20 220\"/>\n<path stroke-width=\"1.0\" stroke=\"black\" d=\"M 20 220 20 220\"/>\n<path stroke-width=\"1.0\" stroke=\"black\" d=\"M 37 234 37 236\"/>\n<path stroke-width=\"1.0\" stroke=\"black\" d=\"M 37 234 46 20\"/>\n<path stroke-width=\"1.0\" stroke=\"black\" d=\"M 37 234 37 234\"/>\n<path stroke-width=\"1.0\" stroke=\"black\" d=\"M 37 234 240 34\"/>\n<path stroke-width=\"1.0\" stroke=\"black\" d=\"M 37 234 94 35\"/>\n<path stroke-width=\"1.0\" stroke=\"black\" d=\"M 37 234 37 234\"/>\n<path stroke-width=\"1.0\" stroke=\"black\" d=\"M 37 234 211 37\"/>\n<path stroke-width=\"1.0\" stroke=\"black\" d=\"M 37 234 37 236\"/>\n<path stroke-width=\"1.0\" stroke=\"black\" d=\"M 37 234 37 236\"/>\n<path stroke-width=\"1.0\" stroke=\"black\" d=\"M 37 234 94 35\"/>\n<path stroke-width=\"1.0\" stroke=\"black\" d=\"M 37 234 20 220\"/>\n<path stroke-width=\"1.0\" stroke=\"black\" d=\"M 20 220 37 236\"/>\n<path stroke-width=\"1.0\" stroke=\"black\" d=\"M 37 234 242 35\"/>\n<path stroke-width=\"1.0\" stroke=\"black\" d=\"M 39 236 385 164\"/>\n<path stroke-width=\"1.0\" stroke=\"black\" d=\"M 39 236 39 236\"/>\n<path stroke-width=\"1.0\" stroke=\"black\" d=\"M 39 236 37 236\"/>\n<path stroke-width=\"1.0\" stroke=\"black\" d=\"M 39 236 20 220\"/>\n<path stroke-width=\"1.0\" stroke=\"black\" d=\"M 39 236 37 234\"/>\n<path stroke-width=\"1.0\" stroke=\"black\" d=\"M 39 236 211 37\"/>\n<path stroke-width=\"1.0\" stroke=\"black\" d=\"M 39 236 20 220\"/>\n<path stroke-width=\"1.0\" stroke=\"black\" d=\"M 39 236 94 35\"/>\n<path stroke-width=\"1.0\" stroke=\"black\" d=\"M 39 236 46 20\"/>\n<path stroke-width=\"1.0\" stroke=\"black\" d=\"M 39 236 37 236\"/>\n<path stroke-width=\"1.0\" stroke=\"black\" d=\"M 39 236 46 20\"/>\n<path stroke-width=\"1.0\" stroke=\"black\" d=\"M 39 236 37 236\"/>\n<path stroke-width=\"1.0\" stroke=\"black\" d=\"M 39 236 37 236\"/>\n<path stroke-width=\"1.0\" stroke=\"black\" d=\"M 20 220 20 220\"/>\n<path stroke-width=\"1.0\" stroke=\"black\" d=\"M 20 220 37 236\"/>\n<path stroke-width=\"1.0\" stroke=\"black\" d=\"M 94 35 37 236\"/>\n<path stroke-width=\"1.0\" stroke=\"black\" d=\"M 94 35 94 35\"/>\n<path stroke-width=\"1.0\" stroke=\"black\" d=\"M 94 35 95 35\"/>\n<path stroke-width=\"1.0\" stroke=\"black\" d=\"M 94 35 94 35\"/>\n<path stroke-width=\"1.0\" stroke=\"black\" d=\"M 20 220 37 236\"/>\n<path stroke-width=\"1.0\" stroke=\"black\" d=\"M 20 220 20 220\"/>\n<path stroke-width=\"1.0\" stroke=\"black\" d=\"M 20 220 383 164\"/>\n<path stroke-width=\"1.0\" stroke=\"black\" d=\"M 20 220 46 20\"/>\n<path stroke-width=\"1.0\" stroke=\"black\" d=\"M 20 220 20 220\"/>\n<path stroke-width=\"1.0\" stroke=\"black\" d=\"M 20 220 20 220\"/>\n<path stroke-width=\"1.0\" stroke=\"black\" d=\"M 20 220 20 220\"/>\n<path stroke-width=\"1.0\" stroke=\"black\" d=\"M 20 220 20 220\"/>\n<path stroke-width=\"1.0\" stroke=\"black\" d=\"M 20 220 170 286\"/>\n<path stroke-width=\"1.0\" stroke=\"black\" d=\"M 20 220 20 220\"/>\n<path stroke-width=\"1.0\" stroke=\"black\" d=\"M 20 220 148 282\"/>\n<path stroke-width=\"1.0\" stroke=\"black\" d=\"M 20 220 37 234\"/>\n<path stroke-width=\"1.0\" stroke=\"black\" d=\"M 20 220 39 236\"/>\n<path stroke-width=\"1.0\" stroke=\"black\" d=\"M 20 220 94 35\"/>\n<path stroke-width=\"1.0\" stroke=\"black\" d=\"M 20 220 20 220\"/>\n<path stroke-width=\"1.0\" stroke=\"black\" d=\"M 20 220 46 20\"/>\n<path stroke-width=\"1.0\" stroke=\"black\" d=\"M 20 220 20 220\"/>\n<path stroke-width=\"1.0\" stroke=\"black\" d=\"M 20 220 37 236\"/>\n<path stroke-width=\"1.0\" stroke=\"black\" d=\"M 20 220 46 20\"/>\n<path stroke-width=\"1.0\" stroke=\"black\" d=\"M 20 220 37 236\"/>\n<path stroke-width=\"1.0\" stroke=\"black\" d=\"M 20 220 37 236\"/>\n<path stroke-width=\"1.0\" stroke=\"black\" d=\"M 46 20 94 35\"/>\n<path stroke-width=\"1.0\" stroke=\"black\" d=\"M 39 236 148 282\"/>\n<path stroke-width=\"1.0\" stroke=\"black\" d=\"M 240 34 46 20\"/>\n<path stroke-width=\"1.0\" stroke=\"black\" d=\"M 94 35 37 236\"/>\n<path stroke-width=\"1.0\" stroke=\"black\" d=\"M 94 35 94 35\"/>\n<path stroke-width=\"1.0\" stroke=\"black\" d=\"M 94 35 211 35\"/>\n<path stroke-width=\"1.0\" stroke=\"black\" d=\"M 379 153 379 153\"/>\n<path stroke-width=\"1.0\" stroke=\"black\" d=\"M 379 153 148 282\"/>\n<path stroke-width=\"1.0\" stroke=\"black\" d=\"M 379 153 379 153\"/>\n<path stroke-width=\"1.0\" stroke=\"black\" d=\"M 379 153 392 162\"/>\n<path stroke-width=\"1.0\" stroke=\"black\" d=\"M 37 234 95 35\"/>\n<path stroke-width=\"1.0\" stroke=\"black\" d=\"M 37 234 37 236\"/>\n<path stroke-width=\"1.0\" stroke=\"black\" d=\"M 37 234 20 220\"/>\n<path stroke-width=\"1.0\" stroke=\"black\" d=\"M 37 234 37 234\"/>\n<path stroke-width=\"1.0\" stroke=\"black\" d=\"M 94 35 37 236\"/>\n<path stroke-width=\"1.0\" stroke=\"black\" d=\"M 37 234 37 234\"/>\n<path stroke-width=\"1.0\" stroke=\"black\" d=\"M 37 234 242 35\"/>\n<path stroke-width=\"1.0\" stroke=\"black\" d=\"M 211 37 211 37\"/>\n<path stroke-width=\"1.0\" stroke=\"black\" d=\"M 211 37 211 37\"/>\n<path stroke-width=\"1.0\" stroke=\"black\" d=\"M 211 37 198 33\"/>\n<path stroke-width=\"1.0\" stroke=\"black\" d=\"M 211 37 242 35\"/>\n<path stroke-width=\"1.0\" stroke=\"black\" d=\"M 20 220 20 220\"/>\n<path stroke-width=\"1.0\" stroke=\"black\" d=\"M 20 220 383 164\"/>\n<path stroke-width=\"1.0\" stroke=\"black\" d=\"M 20 220 20 220\"/>\n<path stroke-width=\"1.0\" stroke=\"black\" d=\"M 20 220 20 220\"/>\n<path stroke-width=\"1.0\" stroke=\"black\" d=\"M 20 220 20 220\"/>\n<path stroke-width=\"1.0\" stroke=\"black\" d=\"M 20 220 20 220\"/>\n<path stroke-width=\"1.0\" stroke=\"black\" d=\"M 37 234 20 220\"/>\n<path stroke-width=\"1.0\" stroke=\"black\" d=\"M 39 236 37 236\"/>\n<path stroke-width=\"1.0\" stroke=\"black\" d=\"M 94 35 37 236\"/>\n<path stroke-width=\"1.0\" stroke=\"black\" d=\"M 94 35 39 236\"/>\n<path stroke-width=\"1.0\" stroke=\"black\" d=\"M 240 34 240 34\"/>\n<path stroke-width=\"1.0\" stroke=\"black\" d=\"M 240 34 37 234\"/>\n<path stroke-width=\"1.0\" stroke=\"black\" d=\"M 240 34 242 35\"/>\n<path stroke-width=\"1.0\" stroke=\"black\" d=\"M 240 34 20 220\"/>\n<path stroke-width=\"1.0\" stroke=\"black\" d=\"M 240 34 240 34\"/>\n<path stroke-width=\"1.0\" stroke=\"black\" d=\"M 240 34 198 33\"/>\n<path stroke-width=\"1.0\" stroke=\"black\" d=\"M 240 34 242 35\"/>\n<path stroke-width=\"1.0\" stroke=\"black\" d=\"M 240 34 240 34\"/>\n<path stroke-width=\"1.0\" stroke=\"black\" d=\"M 198 33 20 220\"/>\n<path stroke-width=\"1.0\" stroke=\"black\" d=\"M 198 33 20 220\"/>\n<path stroke-width=\"1.0\" stroke=\"black\" d=\"M 198 33 240 34\"/>\n<path stroke-width=\"1.0\" stroke=\"black\" d=\"M 94 35 46 20\"/>\n<path stroke-width=\"1.0\" stroke=\"black\" d=\"M 198 33 148 282\"/>\n<path stroke-width=\"1.0\" stroke=\"black\" d=\"M 198 33 198 33\"/>\n<path stroke-width=\"1.0\" stroke=\"black\" d=\"M 94 35 95 35\"/>\n<path stroke-width=\"1.0\" stroke=\"black\" d=\"M 94 35 37 236\"/>\n<path stroke-width=\"1.0\" stroke=\"black\" d=\"M 94 35 46 20\"/>\n<path stroke-width=\"1.0\" stroke=\"black\" d=\"M 94 35 37 236\"/>\n<path stroke-width=\"1.0\" stroke=\"black\" d=\"M 94 35 20 220\"/>\n<path stroke-width=\"1.0\" stroke=\"black\" d=\"M 94 35 94 35\"/>\n<path stroke-width=\"1.0\" stroke=\"black\" d=\"M 94 35 37 234\"/>\n<path stroke-width=\"1.0\" stroke=\"black\" d=\"M 94 35 94 35\"/>\n<path stroke-width=\"1.0\" stroke=\"black\" d=\"M 94 35 20 220\"/>\n<path stroke-width=\"1.0\" stroke=\"black\" d=\"M 94 35 37 234\"/>\n<path stroke-width=\"1.0\" stroke=\"black\" d=\"M 198 33 211 37\"/>\n<path stroke-width=\"1.0\" stroke=\"black\" d=\"M 46 20 37 234\"/>\n<path stroke-width=\"1.0\" stroke=\"black\" d=\"M 46 20 46 20\"/>\n<path stroke-width=\"1.0\" stroke=\"black\" d=\"M 46 20 211 37\"/>\n<path stroke-width=\"1.0\" stroke=\"black\" d=\"M 94 35 37 236\"/>\n<path stroke-width=\"1.0\" stroke=\"black\" d=\"M 94 35 20 220\"/>\n<path stroke-width=\"1.0\" stroke=\"black\" d=\"M 94 35 94 35\"/>\n<path stroke-width=\"1.0\" stroke=\"black\" d=\"M 94 35 37 234\"/>\n<path stroke-width=\"1.0\" stroke=\"black\" d=\"M 94 35 95 35\"/>\n<path stroke-width=\"1.0\" stroke=\"black\" d=\"M 94 35 94 35\"/>\n<path stroke-width=\"1.0\" stroke=\"black\" d=\"M 94 35 37 234\"/>\n<path stroke-width=\"1.0\" stroke=\"black\" d=\"M 94 35 94 35\"/>\n<path stroke-width=\"1.0\" stroke=\"black\" d=\"M 94 35 46 20\"/>\n<path stroke-width=\"1.0\" stroke=\"black\" d=\"M 94 35 37 236\"/>\n<path stroke-width=\"1.0\" stroke=\"black\" d=\"M 94 35 148 282\"/>\n<path stroke-width=\"1.0\" stroke=\"black\" d=\"M 94 35 46 20\"/>\n<path stroke-width=\"1.0\" stroke=\"black\" d=\"M 94 35 211 37\"/>\n<path stroke-width=\"1.0\" stroke=\"black\" d=\"M 211 35 211 37\"/>\n<path stroke-width=\"1.0\" stroke=\"black\" d=\"M 211 35 211 35\"/>\n<path stroke-width=\"1.0\" stroke=\"black\" d=\"M 211 35 385 164\"/>\n<path stroke-width=\"1.0\" stroke=\"black\" d=\"M 211 35 37 234\"/>\n<path stroke-width=\"1.0\" stroke=\"black\" d=\"M 211 35 211 37\"/>\n<path stroke-width=\"1.0\" stroke=\"black\" d=\"M 211 35 95 35\"/>\n<path stroke-width=\"1.0\" stroke=\"black\" d=\"M 211 35 94 35\"/>\n<path stroke-width=\"1.0\" stroke=\"black\" d=\"M 211 35 211 37\"/>\n<path stroke-width=\"1.0\" stroke=\"black\" d=\"M 211 35 37 236\"/>\n<path stroke-width=\"1.0\" stroke=\"black\" d=\"M 211 35 37 236\"/>\n<path stroke-width=\"1.0\" stroke=\"black\" d=\"M 211 35 94 35\"/>\n<path stroke-width=\"1.0\" stroke=\"black\" d=\"M 94 35 211 35\"/>\n<path stroke-width=\"1.0\" stroke=\"black\" d=\"M 20 220 37 236\"/>\n<path stroke-width=\"1.0\" stroke=\"black\" d=\"M 94 35 37 236\"/>\n<path stroke-width=\"1.0\" stroke=\"black\" d=\"M 198 33 211 37\"/>\n<path stroke-width=\"1.0\" stroke=\"black\" d=\"M 37 236 37 236\"/>\n<path stroke-width=\"1.0\" stroke=\"black\" d=\"M 37 236 20 220\"/>\n<path stroke-width=\"1.0\" stroke=\"black\" d=\"M 37 236 211 35\"/>\n<path stroke-width=\"1.0\" stroke=\"black\" d=\"M 37 236 379 153\"/>\n<path stroke-width=\"1.0\" stroke=\"black\" d=\"M 37 236 37 236\"/>\n<path stroke-width=\"1.0\" stroke=\"black\" d=\"M 20 220 37 236\"/>\n<path stroke-width=\"1.0\" stroke=\"black\" d=\"M 20 220 20 220\"/>\n<path stroke-width=\"1.0\" stroke=\"black\" d=\"M 20 220 37 236\"/>\n<path stroke-width=\"1.0\" stroke=\"black\" d=\"M 20 220 20 220\"/>\n<path stroke-width=\"1.0\" stroke=\"black\" d=\"M 20 220 20 220\"/>\n<path stroke-width=\"1.0\" stroke=\"black\" d=\"M 20 220 20 220\"/>\n<path stroke-width=\"1.0\" stroke=\"black\" d=\"M 94 35 95 35\"/>\n<path stroke-width=\"1.0\" stroke=\"black\" d=\"M 20 220 20 220\"/>\n<path stroke-width=\"1.0\" stroke=\"black\" d=\"M 20 220 37 236\"/>\n<path stroke-width=\"1.0\" stroke=\"black\" d=\"M 20 220 20 220\"/>\n<path stroke-width=\"1.0\" stroke=\"black\" d=\"M 198 33 95 35\"/>\n<path stroke-width=\"1.0\" stroke=\"black\" d=\"M 198 33 20 220\"/>\n<path stroke-width=\"1.0\" stroke=\"black\" d=\"M 198 33 20 220\"/>\n<path stroke-width=\"1.0\" stroke=\"black\" d=\"M 198 33 46 20\"/>\n<path stroke-width=\"1.0\" stroke=\"black\" d=\"M 198 33 240 34\"/>\n<path stroke-width=\"1.0\" stroke=\"black\" d=\"M 198 33 240 34\"/>\n<path stroke-width=\"1.0\" stroke=\"black\" d=\"M 198 33 198 33\"/>\n<path stroke-width=\"1.0\" stroke=\"black\" d=\"M 198 33 211 37\"/>\n<path stroke-width=\"1.0\" stroke=\"black\" d=\"M 198 33 20 220\"/>\n<path stroke-width=\"1.0\" stroke=\"black\" d=\"M 20 220 37 236\"/>\n<path stroke-width=\"1.0\" stroke=\"black\" d=\"M 37 236 46 20\"/>\n<path stroke-width=\"1.0\" stroke=\"black\" d=\"M 20 220 20 220\"/>\n<path stroke-width=\"1.0\" stroke=\"black\" d=\"M 20 220 20 220\"/>\n<path stroke-width=\"1.0\" stroke=\"black\" d=\"M 242 35 95 35\"/>\n<path stroke-width=\"1.0\" stroke=\"black\" d=\"M 242 35 46 20\"/>\n<path stroke-width=\"1.0\" stroke=\"black\" d=\"M 242 35 37 234\"/>\n<path stroke-width=\"1.0\" stroke=\"black\" d=\"M 242 35 240 34\"/>\n<path stroke-width=\"1.0\" stroke=\"black\" d=\"M 242 35 37 234\"/>\n<path stroke-width=\"1.0\" stroke=\"black\" d=\"M 242 35 211 37\"/>\n<path stroke-width=\"1.0\" stroke=\"black\" d=\"M 242 35 242 35\"/>\n<path stroke-width=\"1.0\" stroke=\"black\" d=\"M 240 34 95 35\"/>\n<path stroke-width=\"1.0\" stroke=\"black\" d=\"M 240 34 240 34\"/>\n<path stroke-width=\"1.0\" stroke=\"black\" d=\"M 240 34 240 34\"/>\n<path stroke-width=\"1.0\" stroke=\"black\" d=\"M 240 34 95 35\"/>\n<path stroke-width=\"1.0\" stroke=\"black\" d=\"M 379 153 37 236\"/>\n<path stroke-width=\"1.0\" stroke=\"black\" d=\"M 37 236 37 236\"/>\n<path stroke-width=\"1.0\" stroke=\"black\" d=\"M 37 236 46 20\"/>\n<path stroke-width=\"1.0\" stroke=\"black\" d=\"M 37 236 170 286\"/>\n<path stroke-width=\"1.0\" stroke=\"black\" d=\"M 37 236 37 236\"/>\n<path stroke-width=\"1.0\" stroke=\"black\" d=\"M 37 236 20 220\"/>\n<path stroke-width=\"1.0\" stroke=\"black\" d=\"M 37 236 148 282\"/>\n<path stroke-width=\"1.0\" stroke=\"black\" d=\"M 37 236 94 35\"/>\n<path stroke-width=\"1.0\" stroke=\"black\" d=\"M 37 236 37 234\"/>\n<path stroke-width=\"1.0\" stroke=\"black\" d=\"M 37 236 20 220\"/>\n<path stroke-width=\"1.0\" stroke=\"black\" d=\"M 37 236 46 20\"/>\n<path stroke-width=\"1.0\" stroke=\"black\" d=\"M 37 236 37 236\"/>\n<path stroke-width=\"1.0\" stroke=\"black\" d=\"M 37 236 46 20\"/>\n<path stroke-width=\"1.0\" stroke=\"black\" d=\"M 37 236 383 164\"/>\n<path stroke-width=\"1.0\" stroke=\"black\" d=\"M 20 220 385 164\"/>\n<path stroke-width=\"1.0\" stroke=\"black\" d=\"M 379 153 37 236\"/>\n<path stroke-width=\"1.0\" stroke=\"black\" d=\"M 379 153 37 234\"/>\n<path stroke-width=\"1.0\" stroke=\"black\" d=\"M 20 220 20 220\"/>\n<path stroke-width=\"1.0\" stroke=\"black\" d=\"M 20 220 20 220\"/>\n<path stroke-width=\"1.0\" stroke=\"black\" d=\"M 20 220 170 286\"/>\n<path stroke-width=\"1.0\" stroke=\"black\" d=\"M 20 220 37 236\"/>\n<path stroke-width=\"1.0\" stroke=\"black\" d=\"M 20 220 20 220\"/>\n<path stroke-width=\"1.0\" stroke=\"black\" d=\"M 20 220 148 282\"/>\n<path stroke-width=\"1.0\" stroke=\"black\" d=\"M 20 220 37 234\"/>\n<path stroke-width=\"1.0\" stroke=\"black\" d=\"M 20 220 20 220\"/>\n<path stroke-width=\"1.0\" stroke=\"black\" d=\"M 20 220 37 234\"/>\n<path stroke-width=\"1.0\" stroke=\"black\" d=\"M 20 220 37 234\"/>\n<path stroke-width=\"1.0\" stroke=\"black\" d=\"M 20 220 20 220\"/>\n<path stroke-width=\"1.0\" stroke=\"black\" d=\"M 379 153 379 153\"/>\n<path stroke-width=\"1.0\" stroke=\"black\" d=\"M 20 220 46 20\"/>\n<path stroke-width=\"1.0\" stroke=\"black\" d=\"M 20 220 37 236\"/>\n<path stroke-width=\"1.0\" stroke=\"black\" d=\"M 20 220 20 220\"/>\n<path stroke-width=\"1.0\" stroke=\"black\" d=\"M 383 164 383 164\"/>\n<path stroke-width=\"1.0\" stroke=\"black\" d=\"M 379 153 37 236\"/>\n<path stroke-width=\"1.0\" stroke=\"black\" d=\"M 379 153 385 164\"/>\n<path stroke-width=\"1.0\" stroke=\"black\" d=\"M 379 153 385 164\"/>\n<path stroke-width=\"1.0\" stroke=\"black\" d=\"M 379 153 383 164\"/>\n<path stroke-width=\"1.0\" stroke=\"black\" d=\"M 379 153 379 153\"/>\n<path stroke-width=\"1.0\" stroke=\"black\" d=\"M 379 153 392 162\"/>\n<path stroke-width=\"1.0\" stroke=\"black\" d=\"M 379 153 37 236\"/>\n<path stroke-width=\"1.0\" stroke=\"black\" d=\"M 379 153 20 220\"/>\n<path stroke-width=\"1.0\" stroke=\"black\" d=\"M 20 220 20 220\"/>\n<path stroke-width=\"1.0\" stroke=\"black\" d=\"M 95 35 211 35\"/>\n<path stroke-width=\"1.0\" stroke=\"black\" d=\"M 37 236 37 236\"/>\n<path stroke-width=\"1.0\" stroke=\"black\" d=\"M 37 236 20 220\"/>\n<path stroke-width=\"1.0\" stroke=\"black\" d=\"M 170 286 240 34\"/>\n<path stroke-width=\"1.0\" stroke=\"black\" d=\"M 170 286 46 20\"/>\n<path stroke-width=\"1.0\" stroke=\"black\" d=\"M 170 286 240 34\"/>\n<path stroke-width=\"1.0\" stroke=\"black\" d=\"M 170 286 170 286\"/>\n<path stroke-width=\"1.0\" stroke=\"black\" d=\"M 170 286 148 282\"/>\n<path stroke-width=\"1.0\" stroke=\"black\" d=\"M 392 162 385 164\"/>\n<path stroke-width=\"1.0\" stroke=\"black\" d=\"M 392 162 392 162\"/>\n<path stroke-width=\"1.0\" stroke=\"black\" d=\"M 392 162 392 162\"/>\n<path stroke-width=\"1.0\" stroke=\"black\" d=\"M 211 37 211 37\"/>\n<path stroke-width=\"1.0\" stroke=\"black\" d=\"M 211 37 95 35\"/>\n<path stroke-width=\"1.0\" stroke=\"black\" d=\"M 211 37 20 220\"/>\n<path stroke-width=\"1.0\" stroke=\"black\" d=\"M 170 286 170 286\"/>\n<path stroke-width=\"1.0\" stroke=\"black\" d=\"M 211 37 46 20\"/>\n<path stroke-width=\"1.0\" stroke=\"black\" d=\"M 211 37 240 34\"/>\n<path stroke-width=\"1.0\" stroke=\"black\" d=\"M 211 37 211 37\"/>\n<path stroke-width=\"1.0\" stroke=\"black\" d=\"M 211 37 95 35\"/>\n<path stroke-width=\"1.0\" stroke=\"black\" d=\"M 211 37 37 234\"/>\n<path stroke-width=\"1.0\" stroke=\"black\" d=\"M 211 37 198 33\"/>\n<path stroke-width=\"1.0\" stroke=\"black\" d=\"M 211 37 211 37\"/>\n<path stroke-width=\"1.0\" stroke=\"black\" d=\"M 211 37 242 35\"/>\n<path stroke-width=\"1.0\" stroke=\"black\" d=\"M 211 37 95 35\"/>\n<path stroke-width=\"1.0\" stroke=\"black\" d=\"M 211 37 198 33\"/>\n<path stroke-width=\"1.0\" stroke=\"black\" d=\"M 211 37 94 35\"/>\n<path stroke-width=\"1.0\" stroke=\"black\" d=\"M 211 37 211 35\"/>\n<path stroke-width=\"1.0\" stroke=\"black\" d=\"M 211 37 46 20\"/>\n<path stroke-width=\"1.0\" stroke=\"black\" d=\"M 37 236 37 236\"/>\n<path stroke-width=\"1.0\" stroke=\"black\" d=\"M 95 35 240 34\"/>\n<path stroke-width=\"1.0\" stroke=\"black\" d=\"M 95 35 46 20\"/>\n<path stroke-width=\"1.0\" stroke=\"black\" d=\"M 46 20 95 35\"/>\n<path stroke-width=\"1.0\" stroke=\"black\" d=\"M 46 20 20 220\"/>\n<path stroke-width=\"1.0\" stroke=\"black\" d=\"M 46 20 39 236\"/>\n<path stroke-width=\"1.0\" stroke=\"black\" d=\"M 46 20 46 20\"/>\n<path stroke-width=\"1.0\" stroke=\"black\" d=\"M 46 20 37 236\"/>\n<path stroke-width=\"1.0\" stroke=\"black\" d=\"M 46 20 240 34\"/>\n<path stroke-width=\"1.0\" stroke=\"black\" d=\"M 46 20 170 286\"/>\n<path stroke-width=\"1.0\" stroke=\"black\" d=\"M 46 20 37 236\"/>\n<path stroke-width=\"1.0\" stroke=\"black\" d=\"M 46 20 37 236\"/>\n<path stroke-width=\"1.0\" stroke=\"black\" d=\"M 46 20 37 236\"/>\n<path stroke-width=\"1.0\" stroke=\"black\" d=\"M 148 282 211 37\"/>\n<path stroke-width=\"1.0\" stroke=\"black\" d=\"M 95 35 211 37\"/>\n<path stroke-width=\"1.0\" stroke=\"black\" d=\"M 148 282 20 220\"/>\n<path stroke-width=\"1.0\" stroke=\"black\" d=\"M 148 282 20 220\"/>\n<path stroke-width=\"1.0\" stroke=\"black\" d=\"M 148 282 148 282\"/>\n<path stroke-width=\"1.0\" stroke=\"black\" d=\"M 148 282 94 35\"/>\n<path stroke-width=\"1.0\" stroke=\"black\" d=\"M 148 282 37 234\"/>\n<path stroke-width=\"1.0\" stroke=\"black\" d=\"M 148 282 198 33\"/>\n<path stroke-width=\"1.0\" stroke=\"black\" d=\"M 148 282 148 282\"/>\n<path stroke-width=\"1.0\" stroke=\"black\" d=\"M 148 282 94 35\"/>\n<path stroke-width=\"1.0\" stroke=\"black\" d=\"M 95 35 95 35\"/>\n<path stroke-width=\"1.0\" stroke=\"black\" d=\"M 95 35 46 20\"/>\n<path stroke-width=\"1.0\" stroke=\"black\" d=\"M 95 35 95 35\"/>\n<path stroke-width=\"1.0\" stroke=\"black\" d=\"M 95 35 94 35\"/>\n<path stroke-width=\"1.0\" stroke=\"black\" d=\"M 148 282 20 220\"/>\n<path stroke-width=\"1.0\" stroke=\"black\" d=\"M 37 236 46 20\"/>\n<path stroke-width=\"1.0\" stroke=\"black\" d=\"M 37 236 20 220\"/>\n<path stroke-width=\"1.0\" stroke=\"black\" d=\"M 37 236 46 20\"/>\n<path stroke-width=\"1.0\" stroke=\"black\" d=\"M 148 282 20 220\"/>\n<path stroke-width=\"1.0\" stroke=\"black\" d=\"M 148 282 148 282\"/>\n<path stroke-width=\"1.0\" stroke=\"black\" d=\"M 148 282 37 234\"/>\n<path stroke-width=\"1.0\" stroke=\"black\" d=\"M 148 282 39 236\"/>\n<path stroke-width=\"1.0\" stroke=\"black\" d=\"M 148 282 46 20\"/>\n<path stroke-width=\"1.0\" stroke=\"black\" d=\"M 148 282 170 286\"/>\n<path stroke-width=\"1.0\" stroke=\"black\" d=\"M 148 282 148 282\"/>\n<path stroke-width=\"1.0\" stroke=\"black\" d=\"M 148 282 170 286\"/>\n<path stroke-width=\"1.0\" stroke=\"black\" d=\"M 148 282 37 236\"/>\n<path stroke-width=\"1.0\" stroke=\"black\" d=\"M 37 236 37 236\"/>\n<path stroke-width=\"1.0\" stroke=\"black\" d=\"M 37 236 385 164\"/>\n<path stroke-width=\"1.0\" stroke=\"black\" d=\"M 148 282 170 286\"/>\n<path stroke-width=\"1.0\" stroke=\"black\" d=\"M 37 236 46 20\"/>\n<path stroke-width=\"1.0\" stroke=\"black\" d=\"M 37 236 170 286\"/>\n<path stroke-width=\"1.0\" stroke=\"black\" d=\"M 37 236 37 236\"/>\n<path stroke-width=\"1.0\" stroke=\"black\" d=\"M 37 236 20 220\"/>\n<path stroke-width=\"1.0\" stroke=\"black\" d=\"M 37 236 148 282\"/>\n<path stroke-width=\"1.0\" stroke=\"black\" d=\"M 37 236 94 35\"/>\n<path stroke-width=\"1.0\" stroke=\"black\" d=\"M 37 236 37 234\"/>\n<path stroke-width=\"1.0\" stroke=\"black\" d=\"M 37 236 211 37\"/>\n<path stroke-width=\"1.0\" stroke=\"black\" d=\"M 37 236 20 220\"/>\n<path stroke-width=\"1.0\" stroke=\"black\" d=\"M 37 236 37 234\"/>\n<path stroke-width=\"1.0\" stroke=\"black\" d=\"M 37 236 39 236\"/>\n<path stroke-width=\"1.0\" stroke=\"black\" d=\"M 37 236 94 35\"/>\n<path stroke-width=\"1.0\" stroke=\"black\" d=\"M 37 236 20 220\"/>\n<path stroke-width=\"1.0\" stroke=\"black\" d=\"M 37 236 385 164\"/>\n<path stroke-width=\"1.0\" stroke=\"black\" d=\"M 148 282 385 164\"/>\n<path stroke-width=\"1.0\" stroke=\"black\" d=\"M 37 236 37 236\"/>\n<path stroke-width=\"1.0\" stroke=\"black\" d=\"M 37 236 385 164\"/>\n<path stroke-width=\"1.0\" stroke=\"black\" d=\"M 37 236 46 20\"/>\n<path stroke-width=\"1.0\" stroke=\"black\" d=\"M 37 236 20 220\"/>\n<path stroke-width=\"1.0\" stroke=\"black\" d=\"M 37 236 20 220\"/>\n<path stroke-width=\"1.0\" stroke=\"black\" d=\"M 37 236 170 286\"/>\n<path stroke-width=\"1.0\" stroke=\"black\" d=\"M 37 236 37 236\"/>\n<path stroke-width=\"1.0\" stroke=\"black\" d=\"M 37 236 20 220\"/>\n<path stroke-width=\"1.0\" stroke=\"black\" d=\"M 37 236 148 282\"/>\n<path stroke-width=\"1.0\" stroke=\"black\" d=\"M 37 236 94 35\"/>\n<path stroke-width=\"1.0\" stroke=\"black\" d=\"M 37 236 37 234\"/>\n<path stroke-width=\"1.0\" stroke=\"black\" d=\"M 37 236 211 37\"/>\n<path stroke-width=\"1.0\" stroke=\"black\" d=\"M 148 282 37 236\"/>\n<path stroke-width=\"1.0\" stroke=\"black\" d=\"M 37 236 20 220\"/>\n<path stroke-width=\"1.0\" stroke=\"black\" d=\"M 37 236 39 236\"/>\n<path stroke-width=\"1.0\" stroke=\"black\" d=\"M 37 236 94 35\"/>\n<path stroke-width=\"1.0\" stroke=\"black\" d=\"M 37 236 46 20\"/>\n<path stroke-width=\"1.0\" stroke=\"black\" d=\"M 37 236 37 236\"/>\n<path stroke-width=\"1.0\" stroke=\"black\" d=\"M 37 236 46 20\"/>\n<path stroke-width=\"1.0\" stroke=\"black\" d=\"M 37 236 148 282\"/>\n<path stroke-width=\"1.0\" stroke=\"black\" d=\"M 37 236 37 236\"/>\n<path stroke-width=\"1.0\" stroke=\"black\" d=\"M 37 236 20 220\"/>\n<path stroke-width=\"1.0\" stroke=\"black\" d=\"M 37 236 211 35\"/>\n<path stroke-width=\"1.0\" stroke=\"black\" d=\"M 37 236 20 220\"/>\n<path stroke-width=\"1.0\" stroke=\"black\" d=\"M 37 236 379 153\"/>\n<path stroke-width=\"1.0\" stroke=\"black\" d=\"M 37 236 37 234\"/>\n<path stroke-width=\"1.0\" stroke=\"black\" d=\"M 95 35 94 35\"/>\n<path stroke-width=\"1.0\" stroke=\"black\" d=\"M 95 35 211 37\"/>\n<path stroke-width=\"1.0\" stroke=\"black\" d=\"M 95 35 95 35\"/>\n<path stroke-width=\"1.0\" stroke=\"black\" d=\"M 46 20 95 35\"/>\n<path stroke-width=\"1.0\" stroke=\"black\" d=\"M 46 20 20 220\"/>\n<path stroke-width=\"1.0\" stroke=\"black\" d=\"M 46 20 94 35\"/>\n<path stroke-width=\"1.0\" stroke=\"black\" d=\"M 46 20 46 20\"/>\n<path stroke-width=\"1.0\" stroke=\"black\" d=\"M 46 20 37 236\"/>\n<path stroke-width=\"1.0\" stroke=\"black\" d=\"M 46 20 240 34\"/>\n<path stroke-width=\"1.0\" stroke=\"black\" d=\"M 46 20 46 20\"/>\n<path stroke-width=\"1.0\" stroke=\"black\" d=\"M 46 20 37 236\"/>\n<path stroke-width=\"1.0\" stroke=\"black\" d=\"M 46 20 37 236\"/>\n<path stroke-width=\"1.0\" stroke=\"black\" d=\"M 46 20 94 35\"/>\n<path stroke-width=\"1.0\" stroke=\"black\" d=\"M 46 20 37 236\"/>\n<path stroke-width=\"1.0\" stroke=\"black\" d=\"M 46 20 46 20\"/>\n<path stroke-width=\"1.0\" stroke=\"black\" d=\"M 20 220 37 236\"/>\n<path stroke-width=\"1.0\" stroke=\"black\" d=\"M 20 220 383 164\"/>\n<path stroke-width=\"1.0\" stroke=\"black\" d=\"M 20 220 20 220\"/>\n<path stroke-width=\"1.0\" stroke=\"black\" d=\"M 20 220 20 220\"/>\n<path stroke-width=\"1.0\" stroke=\"black\" d=\"M 20 220 170 286\"/>\n<path stroke-width=\"1.0\" stroke=\"black\" d=\"M 20 220 37 236\"/>\n<path stroke-width=\"1.0\" stroke=\"black\" d=\"M 20 220 20 220\"/>\n<path stroke-width=\"1.0\" stroke=\"black\" d=\"M 20 220 148 282\"/>\n<path stroke-width=\"1.0\" stroke=\"black\" d=\"M 20 220 37 234\"/>\n<path stroke-width=\"1.0\" stroke=\"black\" d=\"M 20 220 20 220\"/>\n<path stroke-width=\"1.0\" stroke=\"black\" d=\"M 20 220 198 33\"/>\n<path stroke-width=\"1.0\" stroke=\"black\" d=\"M 20 220 20 220\"/>\n<path stroke-width=\"1.0\" stroke=\"black\" d=\"M 20 220 20 220\"/>\n<path stroke-width=\"1.0\" stroke=\"black\" d=\"M 20 220 46 20\"/>\n<path stroke-width=\"1.0\" stroke=\"black\" d=\"M 46 20 37 234\"/>\n<path stroke-width=\"1.0\" stroke=\"black\" d=\"M 46 20 46 20\"/>\n<path stroke-width=\"1.0\" stroke=\"black\" d=\"M 385 164 20 220\"/>\n<path stroke-width=\"1.0\" stroke=\"black\" d=\"M 385 164 148 282\"/>\n<path stroke-width=\"1.0\" stroke=\"black\" d=\"M 385 164 37 234\"/>\n<path stroke-width=\"1.0\" stroke=\"black\" d=\"M 385 164 379 153\"/>\n<path stroke-width=\"1.0\" stroke=\"black\" d=\"M 385 164 37 236\"/>\n<path stroke-width=\"1.0\" stroke=\"black\" d=\"M 385 164 20 220\"/>\n<path stroke-width=\"1.0\" stroke=\"black\" d=\"M 385 164 379 153\"/>\n<path stroke-width=\"1.0\" stroke=\"black\" d=\"M 383 164 37 236\"/>\n<path stroke-width=\"1.0\" stroke=\"black\" d=\"M 383 164 385 164\"/>\n<path stroke-width=\"1.0\" stroke=\"black\" d=\"M 383 164 385 164\"/>\n<path stroke-width=\"1.0\" stroke=\"black\" d=\"M 383 164 20 220\"/>\n<path stroke-width=\"1.0\" stroke=\"black\" d=\"M 46 20 94 35\"/>\n<path stroke-width=\"1.0\" stroke=\"black\" d=\"M 383 164 20 220\"/>\n<path stroke-width=\"1.0\" stroke=\"black\" d=\"M 383 164 20 220\"/>\n<path stroke-width=\"1.0\" stroke=\"black\" d=\"M 383 164 20 220\"/>\n<path stroke-width=\"1.0\" stroke=\"black\" d=\"M 383 164 383 164\"/>\n<path stroke-width=\"1.0\" stroke=\"black\" d=\"M 383 164 379 153\"/>\n<path stroke-width=\"1.0\" stroke=\"black\" d=\"M 383 164 37 236\"/>\n<path stroke-width=\"1.0\" stroke=\"black\" d=\"M 39 236 379 153\"/>\n<path stroke-width=\"1.0\" stroke=\"black\" d=\"M 39 236 39 236\"/>\n<path stroke-width=\"1.0\" stroke=\"black\" d=\"M 46 20 37 236\"/>\n<path stroke-width=\"1.0\" stroke=\"black\" d=\"M 46 20 46 20\"/>\n<path stroke-width=\"1.0\" stroke=\"black\" d=\"M 46 20 20 220\"/>\n<path stroke-width=\"1.0\" stroke=\"black\" d=\"M 46 20 170 286\"/>\n<path stroke-width=\"1.0\" stroke=\"black\" d=\"M 383 164 379 153\"/>\n<path stroke-width=\"1.0\" stroke=\"black\" d=\"M 385 164 46 20\"/>\n<path stroke-width=\"1.0\" stroke=\"black\" d=\"M 20 220 20 220\"/>\n<path stroke-width=\"1.0\" stroke=\"black\" d=\"M 20 220 148 282\"/>\n<path stroke-width=\"1.0\" stroke=\"black\" d=\"M 20 220 20 220\"/>\n<path stroke-width=\"1.0\" stroke=\"black\" d=\"M 20 220 46 20\"/>\n<path stroke-width=\"1.0\" stroke=\"black\" d=\"M 20 220 46 20\"/>\n<path stroke-width=\"1.0\" stroke=\"black\" d=\"M 20 220 20 220\"/>\n<path stroke-width=\"1.0\" stroke=\"black\" d=\"M 20 220 20 220\"/>\n<path stroke-width=\"1.0\" stroke=\"black\" d=\"M 20 220 37 236\"/>\n<path stroke-width=\"1.0\" stroke=\"black\" d=\"M 20 220 20 220\"/>\n<path stroke-width=\"1.0\" stroke=\"black\" d=\"M 20 220 46 20\"/>\n<path stroke-width=\"1.0\" stroke=\"black\" d=\"M 20 220 94 35\"/>\n<path stroke-width=\"1.0\" stroke=\"black\" d=\"M 20 220 37 234\"/>\n<path stroke-width=\"1.0\" stroke=\"black\" d=\"M 20 220 211 37\"/>\n<path stroke-width=\"1.0\" stroke=\"black\" d=\"M 20 220 37 236\"/>\n<path stroke-width=\"1.0\" stroke=\"black\" d=\"M 20 220 20 220\"/>\n<path stroke-width=\"1.0\" stroke=\"black\" d=\"M 20 220 46 20\"/>\n<path stroke-width=\"1.0\" stroke=\"black\" d=\"M 20 220 20 220\"/>\n<path stroke-width=\"1.0\" stroke=\"black\" d=\"M 20 220 37 236\"/>\n<path stroke-width=\"1.0\" stroke=\"black\" d=\"M 20 220 46 20\"/>\n<path stroke-width=\"1.0\" stroke=\"black\" d=\"M 20 220 211 37\"/>\n<path stroke-width=\"1.0\" stroke=\"black\" d=\"M 20 220 37 236\"/>\n<path stroke-width=\"1.0\" stroke=\"black\" d=\"M 20 220 37 236\"/>\n<path stroke-width=\"1.0\" stroke=\"black\" d=\"M 20 220 20 220\"/>\n<path stroke-width=\"1.0\" stroke=\"black\" d=\"M 385 164 385 164\"/>\n<path stroke-width=\"1.0\" stroke=\"black\" d=\"M 385 164 46 20\"/>\n<path stroke-width=\"1.0\" stroke=\"black\" d=\"M 385 164 385 164\"/>\n<path stroke-width=\"1.0\" stroke=\"black\" d=\"M 20 220 20 220\"/>\n<path stroke-width=\"1.0\" stroke=\"black\" d=\"M 20 220 37 236\"/>\n<path stroke-width=\"1.0\" stroke=\"black\" d=\"M 20 220 211 37\"/>\n<path stroke-width=\"1.0\" stroke=\"black\" d=\"M 392 162 392 162\"/>\n<path stroke-width=\"1.0\" stroke=\"black\" d=\"M 20 220 37 236\"/>\n<path stroke-width=\"1.0\" stroke=\"black\" d=\"M 20 220 20 220\"/>\n<path stroke-width=\"1.0\" stroke=\"black\" d=\"M 20 220 198 33\"/>\n<path stroke-width=\"1.0\" stroke=\"black\" d=\"M 20 220 20 220\"/>\n<path stroke-width=\"1.0\" stroke=\"black\" d=\"M 379 153 211 35\"/>\n<path stroke-width=\"1.0\" stroke=\"black\" d=\"M 379 153 39 236\"/>\n<path stroke-width=\"1.0\" stroke=\"black\" d=\"M 379 153 37 234\"/>\n<path stroke-width=\"1.0\" stroke=\"black\" d=\"M 379 153 379 153\"/>\n<path stroke-width=\"1.0\" stroke=\"black\" d=\"M 379 153 379 153\"/>\n<path stroke-width=\"1.0\" stroke=\"black\" d=\"M 379 153 379 153\"/>\n<path stroke-width=\"1.0\" stroke=\"black\" d=\"M 20 220 37 236\"/>\n<path stroke-width=\"1.0\" stroke=\"black\" d=\"M 392 162 379 153\"/>\n<path stroke-width=\"1.0\" stroke=\"black\" d=\"M 20 220 20 220\"/>\n<path stroke-width=\"1.0\" stroke=\"black\" d=\"M 20 220 20 220\"/>\n<path stroke-width=\"1.0\" stroke=\"black\" d=\"M 20 220 37 236\"/>\n<path stroke-width=\"1.0\" stroke=\"black\" d=\"M 20 220 20 220\"/>\n<path stroke-width=\"1.0\" stroke=\"black\" d=\"M 20 220 37 234\"/>\n<path stroke-width=\"1.0\" stroke=\"black\" d=\"M 20 220 20 220\"/>\n<path stroke-width=\"1.0\" stroke=\"black\" d=\"M 20 220 37 234\"/>\n<path stroke-width=\"1.0\" stroke=\"black\" d=\"M 20 220 20 220\"/>\n<path stroke-width=\"1.0\" stroke=\"black\" d=\"M 20 220 20 220\"/>\n<path stroke-width=\"1.0\" stroke=\"black\" d=\"M 20 220 37 236\"/>\n<path stroke-width=\"1.0\" stroke=\"black\" d=\"M 20 220 20 220\"/>\n<path stroke-width=\"1.0\" stroke=\"black\" d=\"M 392 162 392 162\"/>\n<path stroke-width=\"1.0\" stroke=\"black\" d=\"M 20 220 20 220\"/>\n<path stroke-width=\"1.0\" stroke=\"black\" d=\"M 385 164 148 282\"/>\n<path stroke-width=\"1.0\" stroke=\"black\" d=\"M 385 164 385 164\"/>\n<path stroke-width=\"1.0\" stroke=\"black\" d=\"M 385 164 385 164\"/>\n<path stroke-width=\"1.0\" stroke=\"black\" d=\"M 37 236 148 282\"/>\n<path stroke-width=\"1.0\" stroke=\"black\" d=\"M 37 236 94 35\"/>\n<path stroke-width=\"1.0\" stroke=\"black\" d=\"M 37 236 37 234\"/>\n<path stroke-width=\"1.0\" stroke=\"black\" d=\"M 37 236 211 37\"/>\n<path stroke-width=\"1.0\" stroke=\"black\" d=\"M 37 236 94 35\"/>\n<path stroke-width=\"1.0\" stroke=\"black\" d=\"M 37 236 20 220\"/>\n<path stroke-width=\"1.0\" stroke=\"black\" d=\"M 37 236 39 236\"/>\n<path stroke-width=\"1.0\" stroke=\"black\" d=\"M 37 236 94 35\"/>\n<path stroke-width=\"1.0\" stroke=\"black\" d=\"M 37 236 37 234\"/>\n<path stroke-width=\"1.0\" stroke=\"black\" d=\"M 37 236 46 20\"/>\n<path stroke-width=\"1.0\" stroke=\"black\" d=\"M 37 236 37 236\"/>\n<path stroke-width=\"1.0\" stroke=\"black\" d=\"M 37 236 20 220\"/>\n<path stroke-width=\"1.0\" stroke=\"black\" d=\"M 37 236 46 20\"/>\n<path stroke-width=\"1.0\" stroke=\"black\" d=\"M 37 236 148 282\"/>\n<path stroke-width=\"1.0\" stroke=\"black\" d=\"M 37 236 37 236\"/>\n<path stroke-width=\"1.0\" stroke=\"black\" d=\"M 37 236 20 220\"/>\n<path stroke-width=\"1.0\" stroke=\"black\" d=\"M 37 236 94 35\"/>\n<path stroke-width=\"1.0\" stroke=\"black\" d=\"M 37 236 20 220\"/>\n<path stroke-width=\"1.0\" stroke=\"black\" d=\"M 37 236 379 153\"/>\n<path stroke-width=\"1.0\" stroke=\"black\" d=\"M 37 236 37 236\"/>\n<path stroke-width=\"1.0\" stroke=\"black\" d=\"M 20 220 37 236\"/>\n<path stroke-width=\"1.0\" stroke=\"black\" d=\"M 20 220 20 220\"/>\n<path stroke-width=\"1.0\" stroke=\"black\" d=\"M 20 220 20 220\"/>\n<path stroke-width=\"1.0\" stroke=\"black\" d=\"M 20 220 20 220\"/>\n<path stroke-width=\"1.0\" stroke=\"black\" d=\"M 37 236 37 236\"/>\n<path stroke-width=\"1.0\" stroke=\"black\" d=\"M 20 220 170 286\"/>\n<path stroke-width=\"1.0\" stroke=\"black\" d=\"M 37 236 37 236\"/>\n<path stroke-width=\"1.0\" stroke=\"black\" d=\"M 37 236 46 20\"/>\n<path stroke-width=\"1.0\" stroke=\"black\" d=\"M 211 37 211 37\"/>\n<path stroke-width=\"1.0\" stroke=\"black\" d=\"M 211 37 211 37\"/>\n<path stroke-width=\"1.0\" stroke=\"black\" d=\"M 211 37 148 282\"/>\n<path stroke-width=\"1.0\" stroke=\"black\" d=\"M 211 37 211 37\"/>\n<path stroke-width=\"1.0\" stroke=\"black\" d=\"M 211 37 211 35\"/>\n<path stroke-width=\"1.0\" stroke=\"black\" d=\"M 95 35 46 20\"/>\n<path stroke-width=\"1.0\" stroke=\"black\" d=\"M 95 35 94 35\"/>\n<path stroke-width=\"1.0\" stroke=\"black\" d=\"M 95 35 95 35\"/>\n<path stroke-width=\"1.0\" stroke=\"black\" d=\"M 95 35 94 35\"/>\n<path stroke-width=\"1.0\" stroke=\"black\" d=\"M 95 35 37 234\"/>\n<path stroke-width=\"1.0\" stroke=\"black\" d=\"M 95 35 95 35\"/>\n<path stroke-width=\"1.0\" stroke=\"black\" d=\"M 37 236 170 286\"/>\n<path stroke-width=\"1.0\" stroke=\"black\" d=\"M 95 35 211 37\"/>\n<path stroke-width=\"1.0\" stroke=\"black\" d=\"M 95 35 94 35\"/>\n<path stroke-width=\"1.0\" stroke=\"black\" d=\"M 95 35 242 35\"/>\n<path stroke-width=\"1.0\" stroke=\"black\" d=\"M 95 35 240 34\"/>\n<path stroke-width=\"1.0\" stroke=\"black\" d=\"M 37 236 20 220\"/>\n<path stroke-width=\"1.0\" stroke=\"black\" d=\"M 37 236 385 164\"/>\n<path stroke-width=\"1.0\" stroke=\"black\" d=\"M 37 236 46 20\"/>\n<path stroke-width=\"1.0\" stroke=\"black\" d=\"M 37 236 383 164\"/>\n<path stroke-width=\"1.0\" stroke=\"black\" d=\"M 37 236 46 20\"/>\n<path stroke-width=\"1.0\" stroke=\"black\" d=\"M 37 236 20 220\"/>\n<path stroke-width=\"1.0\" stroke=\"black\" d=\"M 37 236 20 220\"/>\n<path stroke-width=\"1.0\" stroke=\"black\" d=\"M 37 236 20 220\"/>\n<path stroke-width=\"1.0\" stroke=\"black\" d=\"M 95 35 198 33\"/>\n<path stroke-width=\"1.0\" stroke=\"black\" d=\"M 385 164 383 164\"/>\n<path stroke-width=\"1.0\" stroke=\"black\" d=\"M 20 220 37 236\"/>\n<path stroke-width=\"1.0\" stroke=\"black\" d=\"M 20 220 148 282\"/>\n<path stroke-width=\"1.0\" stroke=\"black\" d=\"M 385 164 37 236\"/>\n<path stroke-width=\"1.0\" stroke=\"black\" d=\"M 385 164 46 20\"/>\n<path stroke-width=\"1.0\" stroke=\"black\" d=\"M 385 164 392 162\"/>\n<path stroke-width=\"1.0\" stroke=\"black\" d=\"M 385 164 37 236\"/>\n<path stroke-width=\"1.0\" stroke=\"black\" d=\"M 385 164 148 282\"/>\n<path stroke-width=\"1.0\" stroke=\"black\" d=\"M 385 164 37 236\"/>\n<path stroke-width=\"1.0\" stroke=\"black\" d=\"M 385 164 211 35\"/>\n<path stroke-width=\"1.0\" stroke=\"black\" d=\"M 385 164 379 153\"/>\n<path stroke-width=\"1.0\" stroke=\"black\" d=\"M 46 20 37 236\"/>\n<path stroke-width=\"1.0\" stroke=\"black\" d=\"M 46 20 385 164\"/>\n<path stroke-width=\"1.0\" stroke=\"black\" d=\"M 46 20 46 20\"/>\n<path stroke-width=\"1.0\" stroke=\"black\" d=\"M 385 164 392 162\"/>\n<path stroke-width=\"1.0\" stroke=\"black\" d=\"M 46 20 20 220\"/>\n<path stroke-width=\"1.0\" stroke=\"black\" d=\"M 46 20 46 20\"/>\n<path stroke-width=\"1.0\" stroke=\"black\" d=\"M 46 20 170 286\"/>\n<path stroke-width=\"1.0\" stroke=\"black\" d=\"M 46 20 46 20\"/>\n<path stroke-width=\"1.0\" stroke=\"black\" d=\"M 46 20 37 234\"/>\n<path stroke-width=\"1.0\" stroke=\"black\" d=\"M 46 20 46 20\"/>\n<path stroke-width=\"1.0\" stroke=\"black\" d=\"M 46 20 379 153\"/>\n<path stroke-width=\"1.0\" stroke=\"black\" d=\"M 46 20 95 35\"/>\n<path stroke-width=\"1.0\" stroke=\"black\" d=\"M 46 20 46 20\"/>\n<path stroke-width=\"1.0\" stroke=\"black\" d=\"M 46 20 170 286\"/>\n<path stroke-width=\"1.0\" stroke=\"black\" d=\"M 46 20 46 20\"/>\n<path stroke-width=\"1.0\" stroke=\"black\" d=\"M 46 20 37 236\"/>\n<path stroke-width=\"1.0\" stroke=\"black\" d=\"M 46 20 385 164\"/>\n<path stroke-width=\"1.0\" stroke=\"black\" d=\"M 20 220 20 220\"/>\n<path stroke-width=\"1.0\" stroke=\"black\" d=\"M 385 164 46 20\"/>\n<path stroke-width=\"1.0\" stroke=\"black\" d=\"M 385 164 379 153\"/>\n<path stroke-width=\"1.0\" stroke=\"black\" d=\"M 20 220 240 34\"/>\n<path stroke-width=\"1.0\" stroke=\"black\" d=\"M 20 220 20 220\"/>\n<path stroke-width=\"1.0\" stroke=\"black\" d=\"M 20 220 198 33\"/>\n<path stroke-width=\"1.0\" stroke=\"black\" d=\"M 20 220 20 220\"/>\n<path stroke-width=\"1.0\" stroke=\"black\" d=\"M 20 220 46 20\"/>\n<path stroke-width=\"1.0\" stroke=\"black\" d=\"M 20 220 20 220\"/>\n<path stroke-width=\"1.0\" stroke=\"black\" d=\"M 20 220 37 236\"/>\n<path stroke-width=\"1.0\" stroke=\"black\" d=\"M 20 220 148 282\"/>\n<path stroke-width=\"1.0\" stroke=\"black\" d=\"M 20 220 37 236\"/>\n<path stroke-width=\"1.0\" stroke=\"black\" d=\"M 20 220 198 33\"/>\n<path stroke-width=\"1.0\" stroke=\"black\" d=\"M 20 220 20 220\"/>\n<path stroke-width=\"1.0\" stroke=\"black\" d=\"M 385 164 39 236\"/>\n<path stroke-width=\"1.0\" stroke=\"black\" d=\"M 211 35 379 153\"/>\n<path stroke-width=\"1.0\" stroke=\"black\" d=\"M 385 164 37 236\"/>\n<path stroke-width=\"1.0\" stroke=\"black\" d=\"M 385 164 46 20\"/>\n<path stroke-width=\"1.0\" stroke=\"black\" d=\"M 385 164 385 164\"/>\n<path stroke-width=\"1.0\" stroke=\"black\" d=\"M 385 164 383 164\"/>\n<path stroke-width=\"1.0\" stroke=\"black\" d=\"M 385 164 385 164\"/>\n<path stroke-width=\"1.0\" stroke=\"black\" d=\"M 385 164 46 20\"/>\n<path stroke-width=\"1.0\" stroke=\"black\" d=\"M 385 164 37 236\"/>\n<path stroke-width=\"1.0\" stroke=\"black\" d=\"M 385 164 20 220\"/>\n<path stroke-width=\"1.0\" stroke=\"black\" d=\"M 385 164 148 282\"/>\n<path stroke-width=\"1.0\" stroke=\"black\" d=\"M 385 164 37 234\"/>\n<path stroke-width=\"1.0\" stroke=\"black\" d=\"M 385 164 211 37\"/>\n<path stroke-width=\"1.0\" stroke=\"black\" d=\"M 211 35 211 35\"/>\n<path stroke-width=\"1.0\" stroke=\"black\" d=\"M 37 236 37 236\"/>\n<path stroke-width=\"1.0\" stroke=\"black\" d=\"M 385 164 379 153\"/>\n<path stroke-width=\"1.0\" stroke=\"black\" d=\"M 46 20 37 236\"/>\n<path stroke-width=\"1.0\" stroke=\"black\" d=\"M 94 35 46 20\"/>\n<path stroke-width=\"1.0\" stroke=\"black\" d=\"M 94 35 148 282\"/>\n<path stroke-width=\"1.0\" stroke=\"black\" d=\"M 94 35 37 236\"/>\n<path stroke-width=\"1.0\" stroke=\"black\" d=\"M 94 35 37 236\"/>\n<path stroke-width=\"1.0\" stroke=\"black\" d=\"M 94 35 94 35\"/>\n<path stroke-width=\"1.0\" stroke=\"black\" d=\"M 94 35 37 236\"/>\n<path stroke-width=\"1.0\" stroke=\"black\" d=\"M 37 234 37 236\"/>\n<path stroke-width=\"1.0\" stroke=\"black\" d=\"M 37 234 385 164\"/>\n<path stroke-width=\"1.0\" stroke=\"black\" d=\"M 37 234 46 20\"/>\n<path stroke-width=\"1.0\" stroke=\"black\" d=\"M 37 234 385 164\"/>\n<path stroke-width=\"1.0\" stroke=\"black\" d=\"M 37 234 46 20\"/>\n<path stroke-width=\"1.0\" stroke=\"black\" d=\"M 94 35 37 236\"/>\n<path stroke-width=\"1.0\" stroke=\"black\" d=\"M 37 234 20 220\"/>\n<path stroke-width=\"1.0\" stroke=\"black\" d=\"M 37 234 20 220\"/>\n<path stroke-width=\"1.0\" stroke=\"black\" d=\"M 37 234 20 220\"/>\n<path stroke-width=\"1.0\" stroke=\"black\" d=\"M 37 234 170 286\"/>\n<path stroke-width=\"1.0\" stroke=\"black\" d=\"M 37 234 37 236\"/>\n<path stroke-width=\"1.0\" stroke=\"black\" d=\"M 37 234 20 220\"/>\n<path stroke-width=\"1.0\" stroke=\"black\" d=\"M 37 234 148 282\"/>\n<path stroke-width=\"1.0\" stroke=\"black\" d=\"M 37 234 94 35\"/>\n<path stroke-width=\"1.0\" stroke=\"black\" d=\"M 37 234 211 37\"/>\n<path stroke-width=\"1.0\" stroke=\"black\" d=\"M 37 234 20 220\"/>\n<path stroke-width=\"1.0\" stroke=\"black\" d=\"M 37 234 37 234\"/>\n<path stroke-width=\"1.0\" stroke=\"black\" d=\"M 37 234 39 236\"/>\n<path stroke-width=\"1.0\" stroke=\"black\" d=\"M 37 234 379 153\"/>\n<path stroke-width=\"1.0\" stroke=\"black\" d=\"M 37 234 94 35\"/>\n<path stroke-width=\"1.0\" stroke=\"black\" d=\"M 94 35 46 20\"/>\n<path stroke-width=\"1.0\" stroke=\"black\" d=\"M 94 35 95 35\"/>\n<path stroke-width=\"1.0\" stroke=\"black\" d=\"M 148 282 170 286\"/>\n<path stroke-width=\"1.0\" stroke=\"black\" d=\"M 148 282 46 20\"/>\n<path stroke-width=\"1.0\" stroke=\"black\" d=\"M 148 282 148 282\"/>\n<path stroke-width=\"1.0\" stroke=\"black\" d=\"M 148 282 37 236\"/>\n<path stroke-width=\"1.0\" stroke=\"black\" d=\"M 148 282 148 282\"/>\n<path stroke-width=\"1.0\" stroke=\"black\" d=\"M 148 282 37 236\"/>\n<path stroke-width=\"1.0\" stroke=\"black\" d=\"M 148 282 20 220\"/>\n<path stroke-width=\"1.0\" stroke=\"black\" d=\"M 148 282 37 236\"/>\n<path stroke-width=\"1.0\" stroke=\"black\" d=\"M 240 34 20 220\"/>\n<path stroke-width=\"1.0\" stroke=\"black\" d=\"M 240 34 240 34\"/>\n<path stroke-width=\"1.0\" stroke=\"black\" d=\"M 240 34 198 33\"/>\n<path stroke-width=\"1.0\" stroke=\"black\" d=\"M 94 35 94 35\"/>\n<path stroke-width=\"1.0\" stroke=\"black\" d=\"M 240 34 242 35\"/>\n<path stroke-width=\"1.0\" stroke=\"black\" d=\"M 240 34 240 34\"/>\n<path stroke-width=\"1.0\" stroke=\"black\" d=\"M 240 34 170 286\"/>\n<path stroke-width=\"1.0\" stroke=\"black\" d=\"M 240 34 211 37\"/>\n<path stroke-width=\"1.0\" stroke=\"black\" d=\"M 240 34 198 33\"/>\n<path stroke-width=\"1.0\" stroke=\"black\" d=\"M 240 34 240 34\"/>\n<path stroke-width=\"1.0\" stroke=\"black\" d=\"M 94 35 95 35\"/>\n<path stroke-width=\"1.0\" stroke=\"black\" d=\"M 94 35 37 236\"/>\n<path stroke-width=\"1.0\" stroke=\"black\" d=\"M 94 35 46 20\"/>\n<path stroke-width=\"1.0\" stroke=\"black\" d=\"M 94 35 20 220\"/>\n<path stroke-width=\"1.0\" stroke=\"black\" d=\"M 94 35 46 20\"/>\n<path stroke-width=\"1.0\" stroke=\"black\" d=\"M 94 35 37 234\"/>\n<path stroke-width=\"1.0\" stroke=\"black\" d=\"M 240 34 20 220\"/>\n<path stroke-width=\"1.0\" stroke=\"black\" d=\"M 148 282 37 236\"/>\n<path stroke-width=\"1.0\" stroke=\"black\" d=\"M 37 234 37 234\"/>\n<path stroke-width=\"1.0\" stroke=\"black\" d=\"M 37 234 37 236\"/>\n<path stroke-width=\"1.0\" stroke=\"black\" d=\"M 211 37 46 20\"/>\n<path stroke-width=\"1.0\" stroke=\"black\" d=\"M 211 37 211 37\"/>\n<path stroke-width=\"1.0\" stroke=\"black\" d=\"M 211 37 37 236\"/>\n<path stroke-width=\"1.0\" stroke=\"black\" d=\"M 211 37 37 236\"/>\n<path stroke-width=\"1.0\" stroke=\"black\" d=\"M 211 37 211 35\"/>\n<path stroke-width=\"1.0\" stroke=\"black\" d=\"M 379 153 385 164\"/>\n<path stroke-width=\"1.0\" stroke=\"black\" d=\"M 379 153 46 20\"/>\n<path stroke-width=\"1.0\" stroke=\"black\" d=\"M 379 153 385 164\"/>\n<path stroke-width=\"1.0\" stroke=\"black\" d=\"M 379 153 383 164\"/>\n<path stroke-width=\"1.0\" stroke=\"black\" d=\"M 379 153 379 153\"/>\n<path stroke-width=\"1.0\" stroke=\"black\" d=\"M 379 153 385 164\"/>\n<path stroke-width=\"1.0\" stroke=\"black\" d=\"M 211 37 37 236\"/>\n<path stroke-width=\"1.0\" stroke=\"black\" d=\"M 379 153 170 286\"/>\n<path stroke-width=\"1.0\" stroke=\"black\" d=\"M 379 153 379 153\"/>\n<path stroke-width=\"1.0\" stroke=\"black\" d=\"M 379 153 379 153\"/>\n<path stroke-width=\"1.0\" stroke=\"black\" d=\"M 95 35 95 35\"/>\n<path stroke-width=\"1.0\" stroke=\"black\" d=\"M 95 35 46 20\"/>\n<path stroke-width=\"1.0\" stroke=\"black\" d=\"M 95 35 46 20\"/>\n<path stroke-width=\"1.0\" stroke=\"black\" d=\"M 95 35 170 286\"/>\n<path stroke-width=\"1.0\" stroke=\"black\" d=\"M 95 35 46 20\"/>\n<path stroke-width=\"1.0\" stroke=\"black\" d=\"M 95 35 94 35\"/>\n<path stroke-width=\"1.0\" stroke=\"black\" d=\"M 95 35 46 20\"/>\n<path stroke-width=\"1.0\" stroke=\"black\" d=\"M 95 35 46 20\"/>\n<path stroke-width=\"1.0\" stroke=\"black\" d=\"M 95 35 46 20\"/>\n<path stroke-width=\"1.0\" stroke=\"black\" d=\"M 379 153 148 282\"/>\n<path stroke-width=\"1.0\" stroke=\"black\" d=\"M 37 234 46 20\"/>\n<path stroke-width=\"1.0\" stroke=\"black\" d=\"M 211 37 46 20\"/>\n<path stroke-width=\"1.0\" stroke=\"black\" d=\"M 211 37 37 234\"/>\n<path stroke-width=\"1.0\" stroke=\"black\" d=\"M 37 234 46 20\"/>\n<path stroke-width=\"1.0\" stroke=\"black\" d=\"M 37 234 148 282\"/>\n<path stroke-width=\"1.0\" stroke=\"black\" d=\"M 37 234 37 236\"/>\n<path stroke-width=\"1.0\" stroke=\"black\" d=\"M 37 234 148 282\"/>\n<path stroke-width=\"1.0\" stroke=\"black\" d=\"M 37 234 37 236\"/>\n<path stroke-width=\"1.0\" stroke=\"black\" d=\"M 37 234 94 35\"/>\n<path stroke-width=\"1.0\" stroke=\"black\" d=\"M 37 234 211 35\"/>\n<path stroke-width=\"1.0\" stroke=\"black\" d=\"M 37 234 20 220\"/>\n<path stroke-width=\"1.0\" stroke=\"black\" d=\"M 37 234 379 153\"/>\n<path stroke-width=\"1.0\" stroke=\"black\" d=\"M 37 234 37 236\"/>\n<path stroke-width=\"1.0\" stroke=\"black\" d=\"M 46 20 46 20\"/>\n<path stroke-width=\"1.0\" stroke=\"black\" d=\"M 211 37 39 236\"/>\n<path stroke-width=\"1.0\" stroke=\"black\" d=\"M 46 20 46 20\"/>\n<path stroke-width=\"1.0\" stroke=\"black\" d=\"M 46 20 46 20\"/>\n<path stroke-width=\"1.0\" stroke=\"black\" d=\"M 46 20 95 35\"/>\n<path stroke-width=\"1.0\" stroke=\"black\" d=\"M 46 20 46 20\"/>\n<path stroke-width=\"1.0\" stroke=\"black\" d=\"M 46 20 46 20\"/>\n<path stroke-width=\"1.0\" stroke=\"black\" d=\"M 211 37 211 37\"/>\n<path stroke-width=\"1.0\" stroke=\"black\" d=\"M 211 37 37 236\"/>\n<path stroke-width=\"1.0\" stroke=\"black\" d=\"M 211 37 385 164\"/>\n<path stroke-width=\"1.0\" stroke=\"black\" d=\"M 211 37 20 220\"/>\n<path stroke-width=\"1.0\" stroke=\"black\" d=\"M 211 37 46 20\"/>\n<path stroke-width=\"1.0\" stroke=\"black\" d=\"M 211 37 37 236\"/>\n<path stroke-width=\"1.0\" stroke=\"black\" d=\"M 211 37 148 282\"/>\n<path stroke-width=\"1.0\" stroke=\"black\" d=\"M 46 20 46 20\"/>\n<path stroke-width=\"1.0\" stroke=\"black\" d=\"M 385 164 392 162\"/>\n<path stroke-width=\"1.0\" stroke=\"black\" d=\"M 148 282 46 20\"/>\n<path stroke-width=\"1.0\" stroke=\"black\" d=\"M 148 282 20 220\"/>\n<path stroke-width=\"1.0\" stroke=\"black\" d=\"M 170 286 20 220\"/>\n<path stroke-width=\"1.0\" stroke=\"black\" d=\"M 170 286 37 236\"/>\n<path stroke-width=\"1.0\" stroke=\"black\" d=\"M 37 236 37 236\"/>\n<path stroke-width=\"1.0\" stroke=\"black\" d=\"M 37 236 20 220\"/>\n<path stroke-width=\"1.0\" stroke=\"black\" d=\"M 37 236 385 164\"/>\n<path stroke-width=\"1.0\" stroke=\"black\" d=\"M 37 236 20 220\"/>\n<path stroke-width=\"1.0\" stroke=\"black\" d=\"M 37 236 20 220\"/>\n<path stroke-width=\"1.0\" stroke=\"black\" d=\"M 37 236 20 220\"/>\n<path stroke-width=\"1.0\" stroke=\"black\" d=\"M 37 236 20 220\"/>\n<path stroke-width=\"1.0\" stroke=\"black\" d=\"M 37 236 37 234\"/>\n<path stroke-width=\"1.0\" stroke=\"black\" d=\"M 37 236 211 37\"/>\n<path stroke-width=\"1.0\" stroke=\"black\" d=\"M 170 286 37 236\"/>\n<path stroke-width=\"1.0\" stroke=\"black\" d=\"M 37 236 20 220\"/>\n<path stroke-width=\"1.0\" stroke=\"black\" d=\"M 37 236 39 236\"/>\n<path stroke-width=\"1.0\" stroke=\"black\" d=\"M 37 236 94 35\"/>\n<path stroke-width=\"1.0\" stroke=\"black\" d=\"M 37 236 46 20\"/>\n<path stroke-width=\"1.0\" stroke=\"black\" d=\"M 37 236 37 236\"/>\n<path stroke-width=\"1.0\" stroke=\"black\" d=\"M 37 236 46 20\"/>\n<path stroke-width=\"1.0\" stroke=\"black\" d=\"M 37 236 37 236\"/>\n<path stroke-width=\"1.0\" stroke=\"black\" d=\"M 37 236 37 236\"/>\n<path stroke-width=\"1.0\" stroke=\"black\" d=\"M 37 236 20 220\"/>\n<path stroke-width=\"1.0\" stroke=\"black\" d=\"M 37 236 94 35\"/>\n<path stroke-width=\"1.0\" stroke=\"black\" d=\"M 37 236 20 220\"/>\n<path stroke-width=\"1.0\" stroke=\"black\" d=\"M 37 236 379 153\"/>\n<path stroke-width=\"1.0\" stroke=\"black\" d=\"M 37 236 37 234\"/>\n<path stroke-width=\"1.0\" stroke=\"black\" d=\"M 37 236 37 236\"/>\n<path stroke-width=\"1.0\" stroke=\"black\" d=\"M 170 286 148 282\"/>\n<path stroke-width=\"1.0\" stroke=\"black\" d=\"M 170 286 170 286\"/>\n<path stroke-width=\"1.0\" stroke=\"black\" d=\"M 46 20 385 164\"/>\n<path stroke-width=\"1.0\" stroke=\"black\" d=\"M 46 20 46 20\"/>\n<path stroke-width=\"1.0\" stroke=\"black\" d=\"M 46 20 385 164\"/>\n<path stroke-width=\"1.0\" stroke=\"black\" d=\"M 46 20 46 20\"/>\n<path stroke-width=\"1.0\" stroke=\"black\" d=\"M 46 20 46 20\"/>\n<path stroke-width=\"1.0\" stroke=\"black\" d=\"M 46 20 211 37\"/>\n<path stroke-width=\"1.0\" stroke=\"black\" d=\"M 46 20 46 20\"/>\n<path stroke-width=\"1.0\" stroke=\"black\" d=\"M 46 20 37 236\"/>\n<path stroke-width=\"1.0\" stroke=\"black\" d=\"M 46 20 46 20\"/>\n<path stroke-width=\"1.0\" stroke=\"black\" d=\"M 46 20 211 37\"/>\n<path stroke-width=\"1.0\" stroke=\"black\" d=\"M 170 286 37 236\"/>\n<path stroke-width=\"1.0\" stroke=\"black\" d=\"M 170 286 37 236\"/>\n<path stroke-width=\"1.0\" stroke=\"black\" d=\"M 170 286 20 220\"/>\n<path stroke-width=\"1.0\" stroke=\"black\" d=\"M 170 286 46 20\"/>\n<path stroke-width=\"1.0\" stroke=\"black\" d=\"M 170 286 20 220\"/>\n<path stroke-width=\"1.0\" stroke=\"black\" d=\"M 170 286 20 220\"/>\n<path stroke-width=\"1.0\" stroke=\"black\" d=\"M 170 286 148 282\"/>\n<path stroke-width=\"1.0\" stroke=\"black\" d=\"M 170 286 37 234\"/>\n<path stroke-width=\"1.0\" stroke=\"black\" d=\"M 170 286 379 153\"/>\n<path stroke-width=\"1.0\" stroke=\"black\" d=\"M 170 286 95 35\"/>\n<path stroke-width=\"1.0\" stroke=\"black\" d=\"M 170 286 20 220\"/>\n<path stroke-width=\"1.0\" stroke=\"black\" d=\"M 170 286 46 20\"/>\n<path stroke-width=\"1.0\" stroke=\"black\" d=\"M 170 286 170 286\"/>\n<path stroke-width=\"1.0\" stroke=\"black\" d=\"M 170 286 46 20\"/>\n<path stroke-width=\"1.0\" stroke=\"black\" d=\"M 170 286 46 20\"/>\n<path stroke-width=\"1.0\" stroke=\"black\" d=\"M 148 282 379 153\"/>\n<path stroke-width=\"1.0\" stroke=\"black\" d=\"M 20 220 37 236\"/>\n<path stroke-width=\"1.0\" stroke=\"black\" d=\"M 20 220 385 164\"/>\n<path stroke-width=\"1.0\" stroke=\"black\" d=\"M 46 20 20 220\"/>\n<path stroke-width=\"1.0\" stroke=\"black\" d=\"M 46 20 46 20\"/>\n<path stroke-width=\"1.0\" stroke=\"black\" d=\"M 46 20 94 35\"/>\n<path stroke-width=\"1.0\" stroke=\"black\" d=\"M 46 20 46 20\"/>\n<path stroke-width=\"1.0\" stroke=\"black\" d=\"M 46 20 95 35\"/>\n<path stroke-width=\"1.0\" stroke=\"black\" d=\"M 46 20 37 234\"/>\n<path stroke-width=\"1.0\" stroke=\"black\" d=\"M 46 20 240 34\"/>\n<path stroke-width=\"1.0\" stroke=\"black\" d=\"M 46 20 46 20\"/>\n<path stroke-width=\"1.0\" stroke=\"black\" d=\"M 46 20 46 20\"/>\n<path stroke-width=\"1.0\" stroke=\"black\" d=\"M 46 20 95 35\"/>\n<path stroke-width=\"1.0\" stroke=\"black\" d=\"M 46 20 211 37\"/>\n<path stroke-width=\"1.0\" stroke=\"black\" d=\"M 46 20 46 20\"/>\n<path stroke-width=\"1.0\" stroke=\"black\" d=\"M 46 20 198 33\"/>\n<path stroke-width=\"1.0\" stroke=\"black\" d=\"M 148 282 37 236\"/>\n<path stroke-width=\"1.0\" stroke=\"black\" d=\"M 148 282 20 220\"/>\n<path stroke-width=\"1.0\" stroke=\"black\" d=\"M 148 282 385 164\"/>\n<path stroke-width=\"1.0\" stroke=\"black\" d=\"M 148 282 385 164\"/>\n<path stroke-width=\"1.0\" stroke=\"black\" d=\"M 148 282 20 220\"/>\n<path stroke-width=\"1.0\" stroke=\"black\" d=\"M 148 282 385 164\"/>\n<path stroke-width=\"1.0\" stroke=\"black\" d=\"M 148 282 170 286\"/>\n<path stroke-width=\"1.0\" stroke=\"black\" d=\"M 148 282 20 220\"/>\n<path stroke-width=\"1.0\" stroke=\"black\" d=\"M 148 282 37 234\"/>\n<path stroke-width=\"1.0\" stroke=\"black\" d=\"M 148 282 211 37\"/>\n<path stroke-width=\"1.0\" stroke=\"black\" d=\"M 148 282 379 153\"/>\n<path stroke-width=\"1.0\" stroke=\"black\" d=\"M 46 20 242 35\"/>\n<path stroke-width=\"1.0\" stroke=\"black\" d=\"M 20 220 20 220\"/>\n<path stroke-width=\"1.0\" stroke=\"black\" d=\"M 46 20 46 20\"/>\n<path stroke-width=\"1.0\" stroke=\"black\" d=\"M 20 220 37 236\"/>\n<path stroke-width=\"1.0\" stroke=\"black\" d=\"M 20 220 385 164\"/>\n<path stroke-width=\"1.0\" stroke=\"black\" d=\"M 20 220 383 164\"/>\n<path stroke-width=\"1.0\" stroke=\"black\" d=\"M 20 220 20 220\"/>\n<path stroke-width=\"1.0\" stroke=\"black\" d=\"M 20 220 20 220\"/>\n<path stroke-width=\"1.0\" stroke=\"black\" d=\"M 20 220 20 220\"/>\n<path stroke-width=\"1.0\" stroke=\"black\" d=\"M 20 220 170 286\"/>\n<path stroke-width=\"1.0\" stroke=\"black\" d=\"M 20 220 37 236\"/>\n<path stroke-width=\"1.0\" stroke=\"black\" d=\"M 20 220 148 282\"/>\n<path stroke-width=\"1.0\" stroke=\"black\" d=\"M 20 220 37 234\"/>\n<path stroke-width=\"1.0\" stroke=\"black\" d=\"M 20 220 20 220\"/>\n<path stroke-width=\"1.0\" stroke=\"black\" d=\"M 20 220 39 236\"/>\n<path stroke-width=\"1.0\" stroke=\"black\" d=\"M 46 20 95 35\"/>\n<path stroke-width=\"1.0\" stroke=\"black\" d=\"M 20 220 94 35\"/>\n<path stroke-width=\"1.0\" stroke=\"black\" d=\"M 20 220 46 20\"/>\n<path stroke-width=\"1.0\" stroke=\"black\" d=\"M 20 220 37 236\"/>\n<path stroke-width=\"1.0\" stroke=\"black\" d=\"M 20 220 46 20\"/>\n<path stroke-width=\"1.0\" stroke=\"black\" d=\"M 20 220 148 282\"/>\n<path stroke-width=\"1.0\" stroke=\"black\" d=\"M 20 220 37 236\"/>\n<path stroke-width=\"1.0\" stroke=\"black\" d=\"M 20 220 148 282\"/>\n<path stroke-width=\"1.0\" stroke=\"black\" d=\"M 20 220 37 236\"/>\n<path stroke-width=\"1.0\" stroke=\"black\" d=\"M 20 220 20 220\"/>\n<path stroke-width=\"1.0\" stroke=\"black\" d=\"M 20 220 94 35\"/>\n<path stroke-width=\"1.0\" stroke=\"black\" d=\"M 20 220 20 220\"/>\n<path stroke-width=\"1.0\" stroke=\"black\" d=\"M 20 220 379 153\"/>\n<path stroke-width=\"1.0\" stroke=\"black\" d=\"M 20 220 20 220\"/>\n<path stroke-width=\"1.0\" stroke=\"black\" d=\"M 37 236 37 236\"/>\n<circle cx=\"211\" cy=\"37\" r=\"4.454545454545455\" style=\"fill:blue;stroke:black;stroke-width:1.0\"/>\n<circle cx=\"95\" cy=\"35\" r=\"7.333333333333333\" style=\"fill:red;stroke:black;stroke-width:1.0\"/>\n<circle cx=\"37\" cy=\"236\" r=\"19.424242424242426\" style=\"fill:green;stroke:black;stroke-width:1.0\"/>\n<circle cx=\"20\" cy=\"220\" r=\"11.93939393939394\" style=\"fill:orange;stroke:black;stroke-width:1.0\"/>\n<circle cx=\"211\" cy=\"35\" r=\"2.1515151515151514\" style=\"fill:purple;stroke:black;stroke-width:1.0\"/>\n<circle cx=\"385\" cy=\"164\" r=\"14.242424242424242\" style=\"fill:yellow;stroke:black;stroke-width:1.0\"/>\n<circle cx=\"46\" cy=\"20\" r=\"10.212121212121213\" style=\"fill:fuchsia;stroke:black;stroke-width:1.0\"/>\n<circle cx=\"385\" cy=\"164\" r=\"7.333333333333333\" style=\"fill:olive;stroke:black;stroke-width:1.0\"/>\n<circle cx=\"383\" cy=\"164\" r=\"7.333333333333333\" style=\"fill:aqua;stroke:black;stroke-width:1.0\"/>\n<circle cx=\"39\" cy=\"236\" r=\"2.1515151515151514\" style=\"fill:brown;stroke:black;stroke-width:1.0\"/>\n<circle cx=\"46\" cy=\"20\" r=\"11.93939393939394\" style=\"fill:blue;stroke:black;stroke-width:1.0\"/>\n<circle cx=\"20\" cy=\"220\" r=\"13.090909090909092\" style=\"fill:red;stroke:black;stroke-width:1.0\"/>\n<circle cx=\"379\" cy=\"153\" r=\"4.454545454545455\" style=\"fill:green;stroke:black;stroke-width:1.0\"/>\n<circle cx=\"20\" cy=\"220\" r=\"8.484848484848484\" style=\"fill:orange;stroke:black;stroke-width:1.0\"/>\n<circle cx=\"392\" cy=\"162\" r=\"2.7272727272727275\" style=\"fill:purple;stroke:black;stroke-width:1.0\"/>\n<circle cx=\"20\" cy=\"220\" r=\"14.242424242424242\" style=\"fill:yellow;stroke:black;stroke-width:1.0\"/>\n<circle cx=\"385\" cy=\"164\" r=\"4.454545454545455\" style=\"fill:fuchsia;stroke:black;stroke-width:1.0\"/>\n<circle cx=\"382\" cy=\"320\" r=\"1.0\" style=\"fill:olive;stroke:black;stroke-width:1.0\"/>\n<circle cx=\"46\" cy=\"20\" r=\"7.333333333333333\" style=\"fill:aqua;stroke:black;stroke-width:1.0\"/>\n<circle cx=\"170\" cy=\"286\" r=\"12.515151515151516\" style=\"fill:brown;stroke:black;stroke-width:1.0\"/>\n<circle cx=\"37\" cy=\"236\" r=\"14.242424242424242\" style=\"fill:blue;stroke:black;stroke-width:1.0\"/>\n<circle cx=\"20\" cy=\"220\" r=\"17.12121212121212\" style=\"fill:red;stroke:black;stroke-width:1.0\"/>\n<circle cx=\"46\" cy=\"20\" r=\"10.212121212121213\" style=\"fill:green;stroke:black;stroke-width:1.0\"/>\n<circle cx=\"338\" cy=\"131\" r=\"1.0\" style=\"fill:orange;stroke:black;stroke-width:1.0\"/>\n<circle cx=\"148\" cy=\"282\" r=\"14.242424242424242\" style=\"fill:purple;stroke:black;stroke-width:1.0\"/>\n<circle cx=\"240\" cy=\"34\" r=\"6.757575757575758\" style=\"fill:yellow;stroke:black;stroke-width:1.0\"/>\n<circle cx=\"94\" cy=\"35\" r=\"10.212121212121213\" style=\"fill:fuchsia;stroke:black;stroke-width:1.0\"/>\n<circle cx=\"37\" cy=\"234\" r=\"19.424242424242426\" style=\"fill:olive;stroke:black;stroke-width:1.0\"/>\n<circle cx=\"46\" cy=\"20\" r=\"5.03030303030303\" style=\"fill:aqua;stroke:black;stroke-width:1.0\"/>\n<circle cx=\"211\" cy=\"37\" r=\"10.212121212121213\" style=\"fill:brown;stroke:black;stroke-width:1.0\"/>\n<circle cx=\"379\" cy=\"153\" r=\"6.757575757575758\" style=\"fill:blue;stroke:black;stroke-width:1.0\"/>\n<circle cx=\"95\" cy=\"35\" r=\"8.484848484848484\" style=\"fill:red;stroke:black;stroke-width:1.0\"/>\n<circle cx=\"94\" cy=\"35\" r=\"3.303030303030303\" style=\"fill:green;stroke:black;stroke-width:1.0\"/>\n<circle cx=\"20\" cy=\"220\" r=\"14.818181818181818\" style=\"fill:orange;stroke:black;stroke-width:1.0\"/>\n<circle cx=\"37\" cy=\"234\" r=\"7.909090909090909\" style=\"fill:purple;stroke:black;stroke-width:1.0\"/>\n<circle cx=\"39\" cy=\"236\" r=\"9.636363636363637\" style=\"fill:yellow;stroke:black;stroke-width:1.0\"/>\n<circle cx=\"240\" cy=\"34\" r=\"6.181818181818182\" style=\"fill:fuchsia;stroke:black;stroke-width:1.0\"/>\n<circle cx=\"198\" cy=\"33\" r=\"4.454545454545455\" style=\"fill:olive;stroke:black;stroke-width:1.0\"/>\n<circle cx=\"94\" cy=\"35\" r=\"10.787878787878787\" style=\"fill:aqua;stroke:black;stroke-width:1.0\"/>\n<circle cx=\"379\" cy=\"153\" r=\"3.303030303030303\" style=\"fill:brown;stroke:black;stroke-width:1.0\"/>\n<circle cx=\"37\" cy=\"234\" r=\"5.03030303030303\" style=\"fill:blue;stroke:black;stroke-width:1.0\"/>\n<circle cx=\"211\" cy=\"37\" r=\"3.303030303030303\" style=\"fill:red;stroke:black;stroke-width:1.0\"/>\n<circle cx=\"20\" cy=\"220\" r=\"7.909090909090909\" style=\"fill:green;stroke:black;stroke-width:1.0\"/>\n<circle cx=\"46\" cy=\"20\" r=\"20.0\" style=\"fill:orange;stroke:black;stroke-width:1.0\"/>\n<circle cx=\"242\" cy=\"35\" r=\"3.878787878787879\" style=\"fill:purple;stroke:black;stroke-width:1.0\"/>\n<circle cx=\"20\" cy=\"220\" r=\"7.909090909090909\" style=\"fill:yellow;stroke:black;stroke-width:1.0\"/>\n<circle cx=\"392\" cy=\"162\" r=\"3.878787878787879\" style=\"fill:fuchsia;stroke:black;stroke-width:1.0\"/>\n<circle cx=\"298\" cy=\"165\" r=\"1.0\" style=\"fill:olive;stroke:black;stroke-width:1.0\"/>\n<circle cx=\"37\" cy=\"236\" r=\"14.818181818181818\" style=\"fill:aqua;stroke:black;stroke-width:1.0\"/>\n<circle cx=\"240\" cy=\"34\" r=\"5.03030303030303\" style=\"fill:brown;stroke:black;stroke-width:1.0\"/>\n<circle cx=\"170\" cy=\"286\" r=\"5.606060606060606\" style=\"fill:blue;stroke:black;stroke-width:1.0\"/>\n<circle cx=\"46\" cy=\"20\" r=\"15.393939393939394\" style=\"fill:red;stroke:black;stroke-width:1.0\"/>\n<circle cx=\"148\" cy=\"282\" r=\"6.757575757575758\" style=\"fill:green;stroke:black;stroke-width:1.0\"/>\n<circle cx=\"95\" cy=\"35\" r=\"5.03030303030303\" style=\"fill:orange;stroke:black;stroke-width:1.0\"/>\n<circle cx=\"170\" cy=\"286\" r=\"4.454545454545455\" style=\"fill:purple;stroke:black;stroke-width:1.0\"/>\n<circle cx=\"420\" cy=\"148\" r=\"1.0\" style=\"fill:yellow;stroke:black;stroke-width:1.0\"/>\n<circle cx=\"392\" cy=\"162\" r=\"2.7272727272727275\" style=\"fill:fuchsia;stroke:black;stroke-width:1.0\"/>\n<circle cx=\"211\" cy=\"37\" r=\"10.212121212121213\" style=\"fill:olive;stroke:black;stroke-width:1.0\"/>\n<circle cx=\"37\" cy=\"236\" r=\"17.696969696969695\" style=\"fill:aqua;stroke:black;stroke-width:1.0\"/>\n<circle cx=\"148\" cy=\"282\" r=\"7.909090909090909\" style=\"fill:brown;stroke:black;stroke-width:1.0\"/>\n<circle cx=\"37\" cy=\"236\" r=\"14.818181818181818\" style=\"fill:blue;stroke:black;stroke-width:1.0\"/>\n<circle cx=\"20\" cy=\"220\" r=\"6.757575757575758\" style=\"fill:red;stroke:black;stroke-width:1.0\"/>\n<circle cx=\"198\" cy=\"33\" r=\"6.757575757575758\" style=\"fill:green;stroke:black;stroke-width:1.0\"/>\n<circle cx=\"94\" cy=\"35\" r=\"10.212121212121213\" style=\"fill:orange;stroke:black;stroke-width:1.0\"/>\n<circle cx=\"211\" cy=\"35\" r=\"7.333333333333333\" style=\"fill:purple;stroke:black;stroke-width:1.0\"/>\n<circle cx=\"20\" cy=\"220\" r=\"11.93939393939394\" style=\"fill:yellow;stroke:black;stroke-width:1.0\"/>\n<circle cx=\"383\" cy=\"164\" r=\"1.5757575757575757\" style=\"fill:fuchsia;stroke:black;stroke-width:1.0\"/>\n<circle cx=\"379\" cy=\"153\" r=\"7.909090909090909\" style=\"fill:olive;stroke:black;stroke-width:1.0\"/>\n<circle cx=\"242\" cy=\"35\" r=\"5.03030303030303\" style=\"fill:aqua;stroke:black;stroke-width:1.0\"/>\n<circle cx=\"240\" cy=\"34\" r=\"3.303030303030303\" style=\"fill:brown;stroke:black;stroke-width:1.0\"/>\n<circle cx=\"37\" cy=\"236\" r=\"9.636363636363637\" style=\"fill:blue;stroke:black;stroke-width:1.0\"/>\n</svg>",
      "text/plain": [
       "<IPython.core.display.SVG object>"
      ]
     },
     "execution_count": 193,
     "metadata": {},
     "output_type": "execute_result"
    }
   ],
   "source": [
    "# create adjacency matrix \n",
    "G = nx.Graph(triangleSparse) # create graph from sparse data [UPDATE THIS]\n",
    "adjacency = nx.adjacency_matrix(G) # create Adjacency matrix\n",
    "adjacencyMatrix = sparse.csr_matrix(adjacency) # convert array to sparse row matrix form\n",
    "print(adjacencyMatrix.shape[0])\n",
    "\n",
    "## train classifier and build graph\n",
    "louvain = LouvainNE(2)\n",
    "embedding = louvain.fit_transform(adjacencyMatrix)\n",
    "degrees = adjacency.dot(np.ones(adjacency.shape[0]))\n",
    "\n",
    "labels = []\n",
    "for i in range(adjacencyMatrix.shape[0]):\n",
    "    labels.append(i)\n",
    "\n",
    "image = svg_graph(adjacencyMatrix, position=embedding, display_edge_weight= True, display_node_weight=True, \n",
    "labels=labels, scale=1, filename=\"graph\", directed=False)\n",
    "\n",
    "#show graph\n",
    "SVG(image)\n"
   ]
  }
 ],
 "metadata": {
  "kernelspec": {
   "display_name": "Python 3",
   "language": "python",
   "name": "python3"
  },
  "language_info": {
   "codemirror_mode": {
    "name": "ipython",
    "version": 3
   },
   "file_extension": ".py",
   "mimetype": "text/x-python",
   "name": "python",
   "nbconvert_exporter": "python",
   "pygments_lexer": "ipython3",
   "version": "3.9.1"
  },
  "orig_nbformat": 4,
  "vscode": {
   "interpreter": {
    "hash": "aee8b7b246df8f9039afb4144a1f6fd8d2ca17a180786b69acc140d282b71a49"
   }
  }
 },
 "nbformat": 4,
 "nbformat_minor": 2
}
