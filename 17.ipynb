{
 "cells": [
  {
   "cell_type": "code",
   "execution_count": 2,
   "metadata": {},
   "outputs": [
    {
     "name": "stdout",
     "output_type": "stream",
     "text": [
      "[[ 1.  0. nan  0.]\n",
      " [ 2.  0. nan  2.]\n",
      " [ 0.  1.  2.  0.]]\n"
     ]
    }
   ],
   "source": [
    "##Test bedreader\n",
    "\n",
    "import numpy as np\n",
    "from bed_reader import open_bed, sample_file\n",
    "\n",
    "file_name = sample_file(\"small.bed\")\n",
    "bed = open_bed(file_name)\n",
    "val = bed.read()\n",
    "print(val)\n",
    "\n",
    "del bed"
   ]
  },
  {
   "cell_type": "code",
   "execution_count": 3,
   "metadata": {},
   "outputs": [],
   "source": [
    "import numpy as np\n",
    "from bed_reader import open_bed\n",
    "import os\n"
   ]
  },
  {
   "cell_type": "code",
   "execution_count": 4,
   "metadata": {},
   "outputs": [
    {
     "name": "stdout",
     "output_type": "stream",
     "text": [
      "True\n"
     ]
    }
   ],
   "source": [
    "file_name = 'test_beds/ukb22418_c13_b0_v2.bed'\n",
    "print(os.path.isfile(file_name))\n",
    "bed = open_bed(file_name)"
   ]
  },
  {
   "cell_type": "code",
   "execution_count": 5,
   "metadata": {},
   "outputs": [
    {
     "name": "stdout",
     "output_type": "stream",
     "text": [
      "/Users/rishasurana/Desktop/geneproject\n"
     ]
    }
   ],
   "source": [
    "print(os.getcwd())"
   ]
  },
  {
   "cell_type": "code",
   "execution_count": 8,
   "metadata": {},
   "outputs": [
    {
     "ename": "FileNotFoundError",
     "evalue": "[Errno 2] No such file or directory: 'test_beds/ukb22418_c13_b0_v2.fam'",
     "output_type": "error",
     "traceback": [
      "\u001b[0;31m---------------------------------------------------------------------------\u001b[0m",
      "\u001b[0;31mFileNotFoundError\u001b[0m                         Traceback (most recent call last)",
      "\u001b[1;32m/Users/rishasurana/Desktop/geneproject/17.ipynb Cell 5\u001b[0m in \u001b[0;36m<module>\u001b[0;34m\u001b[0m\n\u001b[0;32m----> <a href='vscode-notebook-cell:/Users/rishasurana/Desktop/geneproject/17.ipynb#W4sZmlsZQ%3D%3D?line=0'>1</a>\u001b[0m values \u001b[39m=\u001b[39m bed\u001b[39m.\u001b[39;49mread(index\u001b[39m=\u001b[39;49mnp\u001b[39m.\u001b[39;49ms_[:,\u001b[39m1\u001b[39;49m:\u001b[39m3\u001b[39;49m])\n",
      "File \u001b[0;32m~/Library/Python/3.9/lib/python/site-packages/bed_reader/_open_bed.py:368\u001b[0m, in \u001b[0;36mopen_bed.read\u001b[0;34m(self, index, dtype, order, force_python_only, num_threads)\u001b[0m\n\u001b[1;32m    365\u001b[0m \u001b[39m# Later happy with _iid_range and _sid_range or could it be done with\u001b[39;00m\n\u001b[1;32m    366\u001b[0m \u001b[39m# allocation them?\u001b[39;00m\n\u001b[1;32m    367\u001b[0m \u001b[39mif\u001b[39;00m \u001b[39mself\u001b[39m\u001b[39m.\u001b[39m_iid_range \u001b[39mis\u001b[39;00m \u001b[39mNone\u001b[39;00m:\n\u001b[0;32m--> 368\u001b[0m     \u001b[39mself\u001b[39m\u001b[39m.\u001b[39m_iid_range \u001b[39m=\u001b[39m np\u001b[39m.\u001b[39marange(\u001b[39mself\u001b[39;49m\u001b[39m.\u001b[39;49miid_count, dtype\u001b[39m=\u001b[39m\u001b[39m\"\u001b[39m\u001b[39mintp\u001b[39m\u001b[39m\"\u001b[39m)\n\u001b[1;32m    369\u001b[0m \u001b[39mif\u001b[39;00m \u001b[39mself\u001b[39m\u001b[39m.\u001b[39m_sid_range \u001b[39mis\u001b[39;00m \u001b[39mNone\u001b[39;00m:\n\u001b[1;32m    370\u001b[0m     \u001b[39mself\u001b[39m\u001b[39m.\u001b[39m_sid_range \u001b[39m=\u001b[39m np\u001b[39m.\u001b[39marange(\u001b[39mself\u001b[39m\u001b[39m.\u001b[39msid_count, dtype\u001b[39m=\u001b[39m\u001b[39m\"\u001b[39m\u001b[39mintp\u001b[39m\u001b[39m\"\u001b[39m)\n",
      "File \u001b[0;32m~/Library/Python/3.9/lib/python/site-packages/bed_reader/_open_bed.py:928\u001b[0m, in \u001b[0;36mopen_bed.iid_count\u001b[0;34m(self)\u001b[0m\n\u001b[1;32m    902\u001b[0m \u001b[39m@property\u001b[39m\n\u001b[1;32m    903\u001b[0m \u001b[39mdef\u001b[39;00m \u001b[39miid_count\u001b[39m(\u001b[39mself\u001b[39m) \u001b[39m-\u001b[39m\u001b[39m>\u001b[39m np\u001b[39m.\u001b[39mndarray:\n\u001b[1;32m    904\u001b[0m     \u001b[39m\"\"\"\u001b[39;00m\n\u001b[1;32m    905\u001b[0m \u001b[39m    Number of individuals (samples).\u001b[39;00m\n\u001b[1;32m    906\u001b[0m \n\u001b[0;32m   (...)\u001b[0m\n\u001b[1;32m    926\u001b[0m \n\u001b[1;32m    927\u001b[0m \u001b[39m    \"\"\"\u001b[39;00m\n\u001b[0;32m--> 928\u001b[0m     \u001b[39mreturn\u001b[39;00m \u001b[39mself\u001b[39;49m\u001b[39m.\u001b[39;49m_count(\u001b[39m\"\u001b[39;49m\u001b[39mfam\u001b[39;49m\u001b[39m\"\u001b[39;49m)\n",
      "File \u001b[0;32m~/Library/Python/3.9/lib/python/site-packages/bed_reader/_open_bed.py:968\u001b[0m, in \u001b[0;36mopen_bed._count\u001b[0;34m(self, suffix)\u001b[0m\n\u001b[1;32m    966\u001b[0m count \u001b[39m=\u001b[39m \u001b[39mself\u001b[39m\u001b[39m.\u001b[39m_counts[suffix]\n\u001b[1;32m    967\u001b[0m \u001b[39mif\u001b[39;00m count \u001b[39mis\u001b[39;00m \u001b[39mNone\u001b[39;00m:\n\u001b[0;32m--> 968\u001b[0m     count \u001b[39m=\u001b[39m _rawincount(\u001b[39mself\u001b[39;49m\u001b[39m.\u001b[39;49m_property_filepath(suffix))\n\u001b[1;32m    969\u001b[0m     \u001b[39mself\u001b[39m\u001b[39m.\u001b[39m_counts[suffix] \u001b[39m=\u001b[39m count\n\u001b[1;32m    970\u001b[0m \u001b[39mreturn\u001b[39;00m count\n",
      "File \u001b[0;32m~/Library/Python/3.9/lib/python/site-packages/bed_reader/_open_bed.py:17\u001b[0m, in \u001b[0;36m_rawincount\u001b[0;34m(filepath)\u001b[0m\n\u001b[1;32m     16\u001b[0m \u001b[39mdef\u001b[39;00m \u001b[39m_rawincount\u001b[39m(filepath):\n\u001b[0;32m---> 17\u001b[0m     \u001b[39mwith\u001b[39;00m \u001b[39mopen\u001b[39;49m(filepath, \u001b[39m\"\u001b[39;49m\u001b[39mrb\u001b[39;49m\u001b[39m\"\u001b[39;49m) \u001b[39mas\u001b[39;00m f:\n\u001b[1;32m     18\u001b[0m         bufgen \u001b[39m=\u001b[39m takewhile(\u001b[39mlambda\u001b[39;00m x: x, (f\u001b[39m.\u001b[39mraw\u001b[39m.\u001b[39mread(\u001b[39m1024\u001b[39m \u001b[39m*\u001b[39m \u001b[39m1024\u001b[39m) \u001b[39mfor\u001b[39;00m _ \u001b[39min\u001b[39;00m repeat(\u001b[39mNone\u001b[39;00m)))\n\u001b[1;32m     19\u001b[0m         \u001b[39mreturn\u001b[39;00m \u001b[39msum\u001b[39m(buf\u001b[39m.\u001b[39mcount(\u001b[39mb\u001b[39m\u001b[39m\"\u001b[39m\u001b[39m\\n\u001b[39;00m\u001b[39m\"\u001b[39m) \u001b[39mfor\u001b[39;00m buf \u001b[39min\u001b[39;00m bufgen)\n",
      "\u001b[0;31mFileNotFoundError\u001b[0m: [Errno 2] No such file or directory: 'test_beds/ukb22418_c13_b0_v2.fam'"
     ]
    }
   ],
   "source": [
    "values = bed.read(index=np.s_[:,1:3])\n",
    "#values.shape"
   ]
  }
 ],
 "metadata": {
  "kernelspec": {
   "display_name": "Python 3",
   "language": "python",
   "name": "python3"
  },
  "language_info": {
   "codemirror_mode": {
    "name": "ipython",
    "version": 3
   },
   "file_extension": ".py",
   "mimetype": "text/x-python",
   "name": "python",
   "nbconvert_exporter": "python",
   "pygments_lexer": "ipython3",
   "version": "3.9.1"
  },
  "orig_nbformat": 4,
  "vscode": {
   "interpreter": {
    "hash": "aee8b7b246df8f9039afb4144a1f6fd8d2ca17a180786b69acc140d282b71a49"
   }
  }
 },
 "nbformat": 4,
 "nbformat_minor": 2
}
